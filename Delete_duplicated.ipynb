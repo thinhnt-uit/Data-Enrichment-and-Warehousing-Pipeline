{
  "nbformat": 4,
  "nbformat_minor": 0,
  "metadata": {
    "colab": {
      "provenance": []
    },
    "kernelspec": {
      "name": "python3",
      "display_name": "Python 3"
    },
    "language_info": {
      "name": "python"
    }
  },
  "cells": [
    {
      "cell_type": "code",
      "source": [
        "import pandas as pd\n",
        "import numpy as np"
      ],
      "metadata": {
        "id": "krmOktSby1RU"
      },
      "execution_count": null,
      "outputs": []
    },
    {
      "cell_type": "code",
      "execution_count": null,
      "metadata": {
        "id": "Wje6FGkhyHXm"
      },
      "outputs": [],
      "source": [
        "Brand_Image_clean = pd.read_csv('Brand_Image_clean.csv', sep=',')"
      ]
    },
    {
      "cell_type": "code",
      "source": [
        "Brand_Image_clean.info()"
      ],
      "metadata": {
        "colab": {
          "base_uri": "https://localhost:8080/"
        },
        "id": "TqV8CKe52_8o",
        "outputId": "4f2780a5-a048-4e21-94c4-d9bc55b49f65"
      },
      "execution_count": null,
      "outputs": [
        {
          "output_type": "stream",
          "name": "stdout",
          "text": [
            "<class 'pandas.core.frame.DataFrame'>\n",
            "RangeIndex: 643072 entries, 0 to 643071\n",
            "Data columns (total 6 columns):\n",
            " #   Column      Non-Null Count   Dtype \n",
            "---  ------      --------------   ----- \n",
            " 0   ID          643072 non-null  int64 \n",
            " 1   Year        643072 non-null  int64 \n",
            " 2   City        643072 non-null  object\n",
            " 3   Awareness   643072 non-null  object\n",
            " 4   Attribute   643072 non-null  object\n",
            " 5   BrandImage  643072 non-null  object\n",
            "dtypes: int64(2), object(4)\n",
            "memory usage: 29.4+ MB\n"
          ]
        }
      ]
    },
    {
      "cell_type": "code",
      "source": [
        "Brand_Image_clean.duplicated().sum()"
      ],
      "metadata": {
        "colab": {
          "base_uri": "https://localhost:8080/"
        },
        "id": "YhYShDr8zhSC",
        "outputId": "c652077f-da84-4bc7-ecb8-dc7d05f5cedf"
      },
      "execution_count": null,
      "outputs": [
        {
          "output_type": "execute_result",
          "data": {
            "text/plain": [
              "np.int64(32804)"
            ]
          },
          "metadata": {},
          "execution_count": 4
        }
      ]
    },
    {
      "cell_type": "code",
      "source": [
        "Brand_Image_clean.drop_duplicates(inplace=True)"
      ],
      "metadata": {
        "id": "yltzhW29znKK"
      },
      "execution_count": null,
      "outputs": []
    },
    {
      "cell_type": "code",
      "source": [
        "Brandhealth_clean = pd.read_csv('Brandhealth_clean.csv', sep=',')"
      ],
      "metadata": {
        "colab": {
          "base_uri": "https://localhost:8080/"
        },
        "id": "Bc5Exe7nznlj",
        "outputId": "a87f3c22-f6dc-4a5d-a4dd-1219c0684615"
      },
      "execution_count": null,
      "outputs": [
        {
          "output_type": "stream",
          "name": "stderr",
          "text": [
            "/tmp/ipython-input-6-614399167.py:1: DtypeWarning: Columns (16,18) have mixed types. Specify dtype option on import or set low_memory=False.\n",
            "  Brandhealth_clean = pd.read_csv('Brandhealth_clean.csv', sep=',')\n"
          ]
        }
      ]
    },
    {
      "cell_type": "code",
      "source": [
        "Brandhealth_clean.info()"
      ],
      "metadata": {
        "colab": {
          "base_uri": "https://localhost:8080/"
        },
        "id": "dAGjZVlv4U7o",
        "outputId": "76f510df-d0ce-4b16-e9f2-9c48d41692aa"
      },
      "execution_count": null,
      "outputs": [
        {
          "output_type": "stream",
          "name": "stdout",
          "text": [
            "<class 'pandas.core.frame.DataFrame'>\n",
            "RangeIndex: 74419 entries, 0 to 74418\n",
            "Data columns (total 20 columns):\n",
            " #   Column            Non-Null Count  Dtype  \n",
            "---  ------            --------------  -----  \n",
            " 0   ID                74419 non-null  int64  \n",
            " 1   Year              74419 non-null  int64  \n",
            " 2   City              74419 non-null  object \n",
            " 3   Brand             74419 non-null  object \n",
            " 4   Spontaneous       74419 non-null  int64  \n",
            " 5   Awareness         74419 non-null  int64  \n",
            " 6   Trial             74419 non-null  int64  \n",
            " 7   P3M               74419 non-null  int64  \n",
            " 8   P1M               74419 non-null  int64  \n",
            " 9   Comprehension     74419 non-null  int64  \n",
            " 10  Brand_Likability  74419 non-null  int64  \n",
            " 11  Weekly            74419 non-null  int64  \n",
            " 12  Daily             74419 non-null  int64  \n",
            " 13  Fre#visit         19332 non-null  float64\n",
            " 14  PPA               14073 non-null  float64\n",
            " 15  Spending          14073 non-null  float64\n",
            " 16  Segmentation      14073 non-null  object \n",
            " 17  NPS#P3M           21605 non-null  float64\n",
            " 18  NPS#P3M#Group     21605 non-null  object \n",
            " 19  Spending_use      14073 non-null  float64\n",
            "dtypes: float64(5), int64(11), object(4)\n",
            "memory usage: 11.4+ MB\n"
          ]
        }
      ]
    },
    {
      "cell_type": "code",
      "source": [
        "Brandhealth_clean.duplicated().sum()"
      ],
      "metadata": {
        "colab": {
          "base_uri": "https://localhost:8080/"
        },
        "id": "OQxLYt4DzyYk",
        "outputId": "a0a7f00a-eea6-430e-9c61-c9d6bcc3689b"
      },
      "execution_count": null,
      "outputs": [
        {
          "output_type": "execute_result",
          "data": {
            "text/plain": [
              "np.int64(218)"
            ]
          },
          "metadata": {},
          "execution_count": 8
        }
      ]
    },
    {
      "cell_type": "code",
      "source": [
        "Brandhealth_clean.drop_duplicates(inplace=True)"
      ],
      "metadata": {
        "id": "TT5N3nX10IPi"
      },
      "execution_count": null,
      "outputs": []
    },
    {
      "cell_type": "code",
      "source": [
        "Companion = pd.read_csv('Companion.csv', sep=';')"
      ],
      "metadata": {
        "id": "g47ndpfz0MMr"
      },
      "execution_count": null,
      "outputs": []
    },
    {
      "cell_type": "code",
      "source": [
        "Companion.info()"
      ],
      "metadata": {
        "colab": {
          "base_uri": "https://localhost:8080/"
        },
        "id": "mf2IuKiL4dDf",
        "outputId": "2e0bbb27-3315-4bf4-f852-75d27e3c137b"
      },
      "execution_count": null,
      "outputs": [
        {
          "output_type": "stream",
          "name": "stdout",
          "text": [
            "<class 'pandas.core.frame.DataFrame'>\n",
            "RangeIndex: 20739 entries, 0 to 20738\n",
            "Data columns (total 4 columns):\n",
            " #   Column           Non-Null Count  Dtype \n",
            "---  ------           --------------  ----- \n",
            " 0   ID               20739 non-null  int64 \n",
            " 1   City             20739 non-null  object\n",
            " 2   Companion#group  20739 non-null  object\n",
            " 3   Year             20739 non-null  int64 \n",
            "dtypes: int64(2), object(2)\n",
            "memory usage: 648.2+ KB\n"
          ]
        }
      ]
    },
    {
      "cell_type": "code",
      "source": [
        "Companion.duplicated().sum()"
      ],
      "metadata": {
        "colab": {
          "base_uri": "https://localhost:8080/"
        },
        "id": "eh_X505T0Rip",
        "outputId": "70731d2e-73a1-4a11-842e-2b584347b46c"
      },
      "execution_count": null,
      "outputs": [
        {
          "output_type": "execute_result",
          "data": {
            "text/plain": [
              "np.int64(799)"
            ]
          },
          "metadata": {},
          "execution_count": 14
        }
      ]
    },
    {
      "cell_type": "code",
      "source": [
        "Companion.drop_duplicates(inplace=True)"
      ],
      "metadata": {
        "id": "o7UI0FvD0U8i"
      },
      "execution_count": null,
      "outputs": []
    },
    {
      "cell_type": "code",
      "source": [
        "Competitor = pd.read_csv('/content/Competitor database_xlnm#_FilterDatabase.csv', sep=';')"
      ],
      "metadata": {
        "id": "XfSOdVJ40YFp"
      },
      "execution_count": null,
      "outputs": []
    },
    {
      "cell_type": "code",
      "source": [
        "Competitor.info()"
      ],
      "metadata": {
        "colab": {
          "base_uri": "https://localhost:8080/"
        },
        "id": "khKS4SNd0e-B",
        "outputId": "2aff8f0c-28ab-4570-dff0-81c1d4632da8"
      },
      "execution_count": null,
      "outputs": [
        {
          "output_type": "stream",
          "name": "stdout",
          "text": [
            "<class 'pandas.core.frame.DataFrame'>\n",
            "RangeIndex: 234 entries, 0 to 233\n",
            "Data columns (total 5 columns):\n",
            " #   Column      Non-Null Count  Dtype \n",
            "---  ------      --------------  ----- \n",
            " 0   No#         234 non-null    int64 \n",
            " 1   Brand       234 non-null    object\n",
            " 2   City        234 non-null    object\n",
            " 3   Year        234 non-null    int64 \n",
            " 4   StoreCount  234 non-null    int64 \n",
            "dtypes: int64(3), object(2)\n",
            "memory usage: 9.3+ KB\n"
          ]
        }
      ]
    },
    {
      "cell_type": "code",
      "source": [
        "Competitor.duplicated().sum()"
      ],
      "metadata": {
        "colab": {
          "base_uri": "https://localhost:8080/"
        },
        "id": "Rcelbsy_4oHV",
        "outputId": "203c5350-d956-48fc-e47e-179c4b4ca7f6"
      },
      "execution_count": null,
      "outputs": [
        {
          "output_type": "execute_result",
          "data": {
            "text/plain": [
              "np.int64(0)"
            ]
          },
          "metadata": {},
          "execution_count": 20
        }
      ]
    },
    {
      "cell_type": "code",
      "source": [
        "dayofweek_clean = pd.read_csv('Dayofweek_clean.csv', sep=',')"
      ],
      "metadata": {
        "id": "MsHJ-0K64uIG"
      },
      "execution_count": null,
      "outputs": []
    },
    {
      "cell_type": "code",
      "source": [
        "dayofweek_clean.info()"
      ],
      "metadata": {
        "colab": {
          "base_uri": "https://localhost:8080/"
        },
        "id": "dgxNVSR041Q2",
        "outputId": "5227e7a4-4753-47e7-9046-0afa74e6aa65"
      },
      "execution_count": null,
      "outputs": [
        {
          "output_type": "stream",
          "name": "stdout",
          "text": [
            "<class 'pandas.core.frame.DataFrame'>\n",
            "RangeIndex: 39095 entries, 0 to 39094\n",
            "Data columns (total 6 columns):\n",
            " #   Column           Non-Null Count  Dtype  \n",
            "---  ------           --------------  -----  \n",
            " 0   ID               39095 non-null  int64  \n",
            " 1   City             39095 non-null  object \n",
            " 2   Dayofweek        39095 non-null  object \n",
            " 3   Visit#Dayofweek  39095 non-null  float64\n",
            " 4   Year             39095 non-null  int64  \n",
            " 5   Weekday#end      39095 non-null  object \n",
            "dtypes: float64(1), int64(2), object(3)\n",
            "memory usage: 1.8+ MB\n"
          ]
        }
      ]
    },
    {
      "cell_type": "code",
      "source": [
        "dayofweek_clean.duplicated().sum()"
      ],
      "metadata": {
        "colab": {
          "base_uri": "https://localhost:8080/"
        },
        "id": "wIkT8N34433O",
        "outputId": "e6142158-0817-490b-e656-6d466c420116"
      },
      "execution_count": null,
      "outputs": [
        {
          "output_type": "execute_result",
          "data": {
            "text/plain": [
              "np.int64(44)"
            ]
          },
          "metadata": {},
          "execution_count": 24
        }
      ]
    },
    {
      "cell_type": "code",
      "source": [
        "dayofweek_clean.drop_duplicates(inplace=True)"
      ],
      "metadata": {
        "id": "pmBJOJ4O460u"
      },
      "execution_count": null,
      "outputs": []
    },
    {
      "cell_type": "code",
      "source": [
        "daypart_clean = pd.read_csv('Daypart_clean.csv', sep=',')"
      ],
      "metadata": {
        "id": "u4BoACnT485O"
      },
      "execution_count": null,
      "outputs": []
    },
    {
      "cell_type": "code",
      "source": [
        "daypart_clean.info()"
      ],
      "metadata": {
        "colab": {
          "base_uri": "https://localhost:8080/"
        },
        "id": "F2HFu8fA5AG3",
        "outputId": "44f41808-0621-4d98-a210-332003edf8ef"
      },
      "execution_count": null,
      "outputs": [
        {
          "output_type": "stream",
          "name": "stdout",
          "text": [
            "<class 'pandas.core.frame.DataFrame'>\n",
            "RangeIndex: 19189 entries, 0 to 19188\n",
            "Data columns (total 5 columns):\n",
            " #   Column         Non-Null Count  Dtype  \n",
            "---  ------         --------------  -----  \n",
            " 0   ID             19189 non-null  int64  \n",
            " 1   City           19189 non-null  object \n",
            " 2   Daypart        19189 non-null  object \n",
            " 3   Visit#Daypart  19189 non-null  float64\n",
            " 4   Year           19189 non-null  int64  \n",
            "dtypes: float64(1), int64(2), object(2)\n",
            "memory usage: 749.7+ KB\n"
          ]
        }
      ]
    },
    {
      "cell_type": "code",
      "source": [
        "daypart_clean.duplicated().sum()"
      ],
      "metadata": {
        "colab": {
          "base_uri": "https://localhost:8080/"
        },
        "id": "aAry7Whc5Cpf",
        "outputId": "8dac2b07-86a2-4716-cfb7-a9024948dfa3"
      },
      "execution_count": null,
      "outputs": [
        {
          "output_type": "execute_result",
          "data": {
            "text/plain": [
              "np.int64(2)"
            ]
          },
          "metadata": {},
          "execution_count": 28
        }
      ]
    },
    {
      "cell_type": "code",
      "source": [
        "daypart_clean.drop_duplicates(inplace=True)"
      ],
      "metadata": {
        "id": "bEJVZQv-5FN-"
      },
      "execution_count": null,
      "outputs": []
    },
    {
      "cell_type": "code",
      "source": [
        "need = pd.read_csv('/content/NeedstateDayDaypart.csv', sep=';')"
      ],
      "metadata": {
        "id": "g1anbAH35HU1"
      },
      "execution_count": null,
      "outputs": []
    },
    {
      "cell_type": "code",
      "source": [
        "need.info()"
      ],
      "metadata": {
        "colab": {
          "base_uri": "https://localhost:8080/"
        },
        "id": "7r7IdmLY5iYm",
        "outputId": "257050a4-6a72-46ed-e27a-66b7d579808f"
      },
      "execution_count": null,
      "outputs": [
        {
          "output_type": "stream",
          "name": "stdout",
          "text": [
            "<class 'pandas.core.frame.DataFrame'>\n",
            "RangeIndex: 75251 entries, 0 to 75250\n",
            "Data columns (total 6 columns):\n",
            " #   Column          Non-Null Count  Dtype \n",
            "---  ------          --------------  ----- \n",
            " 0   ID              75251 non-null  int64 \n",
            " 1   City            75251 non-null  object\n",
            " 2   Year            75251 non-null  int64 \n",
            " 3   Needstates      75251 non-null  object\n",
            " 4   Day#Daypart     75251 non-null  object\n",
            " 5   NeedstateGroup  75251 non-null  object\n",
            "dtypes: int64(2), object(4)\n",
            "memory usage: 3.4+ MB\n"
          ]
        }
      ]
    },
    {
      "cell_type": "code",
      "source": [
        "need.duplicated().sum()"
      ],
      "metadata": {
        "colab": {
          "base_uri": "https://localhost:8080/"
        },
        "id": "heP6WcnT5liJ",
        "outputId": "7bb09f3d-27d1-432e-a1a7-69c83f46a525"
      },
      "execution_count": null,
      "outputs": [
        {
          "output_type": "execute_result",
          "data": {
            "text/plain": [
              "np.int64(72)"
            ]
          },
          "metadata": {},
          "execution_count": 35
        }
      ]
    },
    {
      "cell_type": "code",
      "source": [
        "need.drop_duplicates(inplace=True)"
      ],
      "metadata": {
        "id": "O5KaVBA95nkO"
      },
      "execution_count": null,
      "outputs": []
    },
    {
      "cell_type": "code",
      "source": [
        "sa = pd.read_csv('/content/SA#var.csv', sep=';')"
      ],
      "metadata": {
        "id": "h8hK2OjN5pgf"
      },
      "execution_count": null,
      "outputs": []
    },
    {
      "cell_type": "code",
      "source": [
        "sa.info()"
      ],
      "metadata": {
        "colab": {
          "base_uri": "https://localhost:8080/"
        },
        "id": "vJwq4H1j5v_m",
        "outputId": "616a6aba-49f0-4b3c-fb62-2434dabc141f"
      },
      "execution_count": null,
      "outputs": [
        {
          "output_type": "stream",
          "name": "stdout",
          "text": [
            "<class 'pandas.core.frame.DataFrame'>\n",
            "RangeIndex: 11761 entries, 0 to 11760\n",
            "Data columns (total 20 columns):\n",
            " #   Column            Non-Null Count  Dtype  \n",
            "---  ------            --------------  -----  \n",
            " 0   ID                11761 non-null  int64  \n",
            " 1   City              11761 non-null  object \n",
            " 2   Group_size        11746 non-null  float64\n",
            " 3   Age               11752 non-null  float64\n",
            " 4   MPI#Mean          8044 non-null   float64\n",
            " 5   TOM               11761 non-null  object \n",
            " 6   BUMO              11761 non-null  object \n",
            " 7   BUMO_Previous     6096 non-null   object \n",
            " 8   MostFavourite     11761 non-null  object \n",
            " 9   Gender            11761 non-null  object \n",
            " 10  MPI#detail        8076 non-null   object \n",
            " 11  Age#group         11752 non-null  object \n",
            " 12  Age#Group#2       11752 non-null  object \n",
            " 13  MPI               8044 non-null   object \n",
            " 14  MPI#2             8044 non-null   object \n",
            " 15  Occupation        11761 non-null  object \n",
            " 16  Occupation#group  11761 non-null  object \n",
            " 17  Year              11761 non-null  int64  \n",
            " 18  Col               11761 non-null  int64  \n",
            " 19  MPI_Mean_Use      8044 non-null   float64\n",
            "dtypes: float64(4), int64(3), object(13)\n",
            "memory usage: 1.8+ MB\n"
          ]
        }
      ]
    },
    {
      "cell_type": "code",
      "source": [
        "sa.duplicated().sum()"
      ],
      "metadata": {
        "colab": {
          "base_uri": "https://localhost:8080/"
        },
        "id": "vi2ObD1K5y_W",
        "outputId": "a1dc0a1f-a0bf-4a88-c83a-1eb425295ee7"
      },
      "execution_count": null,
      "outputs": [
        {
          "output_type": "execute_result",
          "data": {
            "text/plain": [
              "np.int64(0)"
            ]
          },
          "metadata": {},
          "execution_count": 40
        }
      ]
    },
    {
      "cell_type": "code",
      "source": [
        "segmentation = pd.read_csv('/content/Segmentation.csv', sep=';')"
      ],
      "metadata": {
        "id": "NjmZufY651fC"
      },
      "execution_count": null,
      "outputs": []
    },
    {
      "cell_type": "code",
      "source": [
        "segmentation.info()"
      ],
      "metadata": {
        "colab": {
          "base_uri": "https://localhost:8080/"
        },
        "id": "aT-5czJu531l",
        "outputId": "2c84862e-e7b6-438f-f143-67d45602000b"
      },
      "execution_count": null,
      "outputs": [
        {
          "output_type": "stream",
          "name": "stdout",
          "text": [
            "<class 'pandas.core.frame.DataFrame'>\n",
            "RangeIndex: 4944 entries, 0 to 4943\n",
            "Data columns (total 6 columns):\n",
            " #   Column        Non-Null Count  Dtype \n",
            "---  ------        --------------  ----- \n",
            " 0   ID            4944 non-null   int64 \n",
            " 1   Segmentation  4944 non-null   object\n",
            " 2   Visit         4944 non-null   int64 \n",
            " 3   Spending      4944 non-null   int64 \n",
            " 4   Brand         4944 non-null   object\n",
            " 5   PPA           4944 non-null   int64 \n",
            "dtypes: int64(4), object(2)\n",
            "memory usage: 231.9+ KB\n"
          ]
        }
      ]
    },
    {
      "cell_type": "code",
      "source": [
        "segmentation.duplicated().sum()"
      ],
      "metadata": {
        "colab": {
          "base_uri": "https://localhost:8080/"
        },
        "id": "0uXFCLyK5591",
        "outputId": "bdc0b527-7ba4-48dd-dcb6-129eee159c65"
      },
      "execution_count": null,
      "outputs": [
        {
          "output_type": "execute_result",
          "data": {
            "text/plain": [
              "np.int64(0)"
            ]
          },
          "metadata": {},
          "execution_count": 43
        }
      ]
    },
    {
      "cell_type": "markdown",
      "source": [
        "Xuất file csv"
      ],
      "metadata": {
        "id": "a7HHCSrO7pCl"
      }
    },
    {
      "cell_type": "code",
      "source": [
        "Brand_Image_clean.to_csv('Brand_Image_final.csv', index=False)"
      ],
      "metadata": {
        "id": "iOzkTkB-7OW8"
      },
      "execution_count": null,
      "outputs": []
    },
    {
      "cell_type": "code",
      "source": [
        "Brandhealth_clean.to_csv('Brandhealth_final.csv', index=False)"
      ],
      "metadata": {
        "id": "iJjbO_5c7ikE"
      },
      "execution_count": null,
      "outputs": []
    },
    {
      "cell_type": "code",
      "source": [
        "Companion.to_csv('Companion_final.csv', index=False)"
      ],
      "metadata": {
        "id": "bjJTIICr7riM"
      },
      "execution_count": null,
      "outputs": []
    },
    {
      "cell_type": "code",
      "source": [
        "Competitor.to_csv('Competitor_final.csv', index=False)"
      ],
      "metadata": {
        "id": "XKcDjIlF704T"
      },
      "execution_count": null,
      "outputs": []
    },
    {
      "cell_type": "code",
      "source": [
        "dayofweek_clean.to_csv('Dayofweek_final.csv', index=False)"
      ],
      "metadata": {
        "id": "hEu-cr8b72oz"
      },
      "execution_count": null,
      "outputs": []
    },
    {
      "cell_type": "code",
      "source": [
        "daypart_clean.to_csv('Daypart_final.csv', index=False)"
      ],
      "metadata": {
        "id": "vwQeok9A77ec"
      },
      "execution_count": null,
      "outputs": []
    },
    {
      "cell_type": "code",
      "source": [
        "need.to_csv('Need_final.csv', index=False)"
      ],
      "metadata": {
        "id": "AdnYXGGn8CQO"
      },
      "execution_count": null,
      "outputs": []
    },
    {
      "cell_type": "code",
      "source": [
        "sa.to_csv('SA_final.csv', index=False)"
      ],
      "metadata": {
        "id": "2XkQAbVj8EDr"
      },
      "execution_count": null,
      "outputs": []
    },
    {
      "cell_type": "code",
      "source": [
        "segmentation.to_csv('Segmentation_final.csv', index=False)"
      ],
      "metadata": {
        "id": "Q8TMWfUw8GrM"
      },
      "execution_count": null,
      "outputs": []
    }
  ]
}