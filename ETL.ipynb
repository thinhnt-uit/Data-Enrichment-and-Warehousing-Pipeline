{
  "cells": [
    {
      "cell_type": "code",
      "execution_count": null,
      "id": "53dce5b3",
      "metadata": {
        "id": "53dce5b3"
      },
      "outputs": [],
      "source": [
        "import pandas as pd\n",
        "import numpy as np"
      ]
    },
    {
      "cell_type": "markdown",
      "id": "8b3e757b",
      "metadata": {
        "id": "8b3e757b"
      },
      "source": [
        "## Extract"
      ]
    },
    {
      "cell_type": "code",
      "execution_count": null,
      "id": "282b392c",
      "metadata": {
        "colab": {
          "base_uri": "https://localhost:8080/"
        },
        "id": "282b392c",
        "outputId": "9dca9cc4-5c5d-409b-b82c-480c9c1b73a5"
      },
      "outputs": [
        {
          "output_type": "stream",
          "name": "stderr",
          "text": [
            "/tmp/ipython-input-2-2427715071.py:3: DtypeWarning: Columns (16,18) have mixed types. Specify dtype option on import or set low_memory=False.\n",
            "  df_BH = pd.read_csv('/content/Brandhealth_final.csv', sep=',')\n"
          ]
        }
      ],
      "source": [
        "df_BI = pd.read_csv('/content/Brand_Image_final.csv', sep=',')\n",
        "df_smt = pd.read_csv('/content/Segmentation_final.csv', sep=',')\n",
        "df_BH = pd.read_csv('/content/Brandhealth_final.csv', sep=',')\n",
        "df_cp = pd.read_csv('/content/Companion_final.csv', sep=',')\n",
        "df_count = pd.read_csv('/content/Competitor_final.csv', sep=',')\n",
        "df_dow= pd.read_csv('/content/Dayofweek_final.csv', sep=',')\n",
        "df_dp = pd.read_csv('/content/Daypart_final.csv', sep=',')\n",
        "df_ns = pd.read_csv('/content/Need_final.csv', sep=',')\n",
        "df_sa = pd.read_csv('/content/SA_final.csv', sep=',')"
      ]
    },
    {
      "cell_type": "code",
      "source": [
        "df_BI.info()"
      ],
      "metadata": {
        "colab": {
          "base_uri": "https://localhost:8080/"
        },
        "id": "mFi3niqeANop",
        "outputId": "38f091aa-49cf-4fc0-da78-89c712607aa7"
      },
      "id": "mFi3niqeANop",
      "execution_count": null,
      "outputs": [
        {
          "output_type": "stream",
          "name": "stdout",
          "text": [
            "<class 'pandas.core.frame.DataFrame'>\n",
            "RangeIndex: 610268 entries, 0 to 610267\n",
            "Data columns (total 6 columns):\n",
            " #   Column      Non-Null Count   Dtype \n",
            "---  ------      --------------   ----- \n",
            " 0   ID          610268 non-null  int64 \n",
            " 1   Year        610268 non-null  int64 \n",
            " 2   City        610268 non-null  object\n",
            " 3   Awareness   610268 non-null  object\n",
            " 4   Attribute   610268 non-null  object\n",
            " 5   BrandImage  610268 non-null  object\n",
            "dtypes: int64(2), object(4)\n",
            "memory usage: 27.9+ MB\n"
          ]
        }
      ]
    },
    {
      "cell_type": "markdown",
      "id": "bf00644a",
      "metadata": {
        "id": "bf00644a"
      },
      "source": [
        "## Transform"
      ]
    },
    {
      "cell_type": "code",
      "execution_count": null,
      "id": "0e35c743",
      "metadata": {
        "colab": {
          "base_uri": "https://localhost:8080/"
        },
        "id": "0e35c743",
        "outputId": "667034a1-db02-4226-a86a-9057e4e823ef"
      },
      "outputs": [
        {
          "output_type": "stream",
          "name": "stdout",
          "text": [
            "   DayofWeek_ID  Dayofweek Weekday#end\n",
            "0             2     Monday     Weekday\n",
            "1             3    Tuesday     Weekday\n",
            "2             4  Wednesday     Weekday\n",
            "3             5   Thursday     Weekday\n",
            "4             6     Friday     Weekday\n",
            "5             7   Saturday     Weekend\n",
            "6             8     Sunday     Weekend\n"
          ]
        }
      ],
      "source": [
        "##1 Dim_Dayofweek\n",
        "dow = [(2, 'Monday', 'Weekday'),\n",
        "       (3, 'Tuesday', 'Weekday'),\n",
        "       (4, 'Wednesday', 'Weekday'),\n",
        "       (5, 'Thursday', 'Weekday'),\n",
        "       (6, 'Friday', 'Weekday'),\n",
        "       (7, 'Saturday', 'Weekend'),\n",
        "       (8, 'Sunday', 'Weekend')]\n",
        "df_dim_dow = pd.DataFrame(dow, columns=['DayofWeek_ID', 'Dayofweek', 'Weekday#end'])\n",
        "print(df_dim_dow)\n"
      ]
    },
    {
      "cell_type": "code",
      "execution_count": null,
      "id": "a017fa00",
      "metadata": {
        "colab": {
          "base_uri": "https://localhost:8080/"
        },
        "id": "a017fa00",
        "outputId": "5506a5e0-a0a3-48dd-81d6-d323a6acab63"
      },
      "outputs": [
        {
          "output_type": "stream",
          "name": "stdout",
          "text": [
            "               Daypart  Daypart_ID\n",
            "0   5 PM - before 9 PM           1\n",
            "1  9 AM - before 11 AM           2\n",
            "2        9 PM or later           3\n",
            "3   2 PM - before 5 PM           4\n",
            "4  11 AM - before 2 PM           5\n",
            "5          Before 9 AM           6\n"
          ]
        }
      ],
      "source": [
        "##2 Dim_Daypart\n",
        "df_dim_daypart = df_dp[['Daypart']].dropna().drop_duplicates().reset_index(drop=True)\n",
        "df_dim_daypart['Daypart_ID'] = range(1, len(df_dim_daypart) + 1)\n",
        "print(df_dim_daypart)"
      ]
    },
    {
      "cell_type": "code",
      "execution_count": null,
      "id": "705a2f87",
      "metadata": {
        "colab": {
          "base_uri": "https://localhost:8080/"
        },
        "id": "705a2f87",
        "outputId": "b561f3d2-f7fa-4be2-97ca-80a736c1cc24"
      },
      "outputs": [
        {
          "output_type": "stream",
          "name": "stdout",
          "text": [
            "   Year\n",
            "0  2017\n",
            "1  2018\n",
            "2  2019\n"
          ]
        }
      ],
      "source": [
        "##3 Dim_Year\n",
        "df_dim_year = pd.DataFrame({'Year': [2017, 2018, 2019]})\n",
        "print(df_dim_year)"
      ]
    },
    {
      "cell_type": "code",
      "execution_count": null,
      "id": "37ff1ef2",
      "metadata": {
        "colab": {
          "base_uri": "https://localhost:8080/"
        },
        "id": "37ff1ef2",
        "outputId": "a54489c8-30a8-4e58-c093-0b6455667db9"
      },
      "outputs": [
        {
          "output_type": "stream",
          "name": "stdout",
          "text": [
            "              City  City_ID\n",
            "0          Cần Thơ        1\n",
            "1           Hà Nội        2\n",
            "2      Hồ Chí Minh        3\n",
            "3          Đà Nẵng        4\n",
            "4        Hải Phòng        5\n",
            "5        Nha Trang        6\n",
            "6          Lào Cai        7\n",
            "7        Quảng Nam        8\n",
            "8       Quảng Ninh        9\n",
            "9            Seoul       10\n",
            "10        Hưng Yên       11\n",
            "11        Nam Định       12\n",
            "12       Thái Bình       13\n",
            "13        Đồng Nai       14\n",
            "14        Vũng Tàu       15\n",
            "15         Đắk Lắk       16\n",
            "16        Gyeonggi       17\n",
            "17        Lạng Sơn       18\n",
            "18     Thái Nguyên       19\n",
            "19  Thừa Thiên Huế       20\n",
            "20       Bình Định       21\n",
            "21         Long An       22\n",
            "22         Phú Thọ       23\n",
            "23      Tiền Giang       24\n",
            "24      Bình Dương       25\n",
            "25       Thanh Hóa       26\n",
            "26          Hà Nam       27\n",
            "27        Bắc Ninh       28\n",
            "28         Nghệ An       29\n"
          ]
        }
      ],
      "source": [
        "##4 Dim_City\n",
        "cities_from_sa = df_sa[['City']].dropna()\n",
        "cities_from_store = df_count[['City']].dropna()\n",
        "df_dim_city = pd.concat([cities_from_sa, cities_from_store]).drop_duplicates().reset_index(drop=True)\n",
        "df_dim_city['City_ID'] = range(1, len(df_dim_city) + 1)\n",
        "print(df_dim_city)"
      ]
    },
    {
      "cell_type": "code",
      "execution_count": null,
      "id": "68b3c979",
      "metadata": {
        "colab": {
          "base_uri": "https://localhost:8080/",
          "height": 625
        },
        "id": "68b3c979",
        "outputId": "5de96192-0fe1-480d-c6d2-3cc655307056"
      },
      "outputs": [
        {
          "output_type": "execute_result",
          "data": {
            "text/plain": [
              "       ID     City  Group_size   Age  MPI#Mean      TOM     BUMO  \\\n",
              "0  348226  Cần Thơ         3.0  29.0    5499.0  Other 1  Other 1   \n",
              "1  358485   Hà Nội         3.0  25.0    5499.0  Other 1  Other 1   \n",
              "2  360729  Cần Thơ         3.0  25.0    5499.0  Other 1  Other 1   \n",
              "3  360737  Cần Thơ         3.0  24.0    5499.0  Other 1  Other 1   \n",
              "4  361753  Cần Thơ         3.0  26.0    5499.0  Other 1  Other 1   \n",
              "\n",
              "  BUMO_Previous MostFavourite  Gender                              MPI#detail  \\\n",
              "0           NaN       Other 1  Female  From 4.5 millions to 6.49 millions VND   \n",
              "1           NaN       Other 1    Male  From 4.5 millions to 6.49 millions VND   \n",
              "2           NaN       Other 1  Female  From 4.5 millions to 6.49 millions VND   \n",
              "3           NaN       Other 1    Male  From 4.5 millions to 6.49 millions VND   \n",
              "4           NaN       Other 1    Male  From 4.5 millions to 6.49 millions VND   \n",
              "\n",
              "  Age#group   Age#Group#2                  MPI  \\\n",
              "0   20 - 29  25 - 29 y.o.  VND 4.5m - VND 8.9m   \n",
              "1   20 - 29  25 - 29 y.o.  VND 4.5m - VND 8.9m   \n",
              "2   20 - 29  25 - 29 y.o.  VND 4.5m - VND 8.9m   \n",
              "3   20 - 29  20 - 24 y.o.  VND 4.5m - VND 8.9m   \n",
              "4   20 - 29  25 - 29 y.o.  VND 4.5m - VND 8.9m   \n",
              "\n",
              "                                          Occupation Occupation#group  Year  \\\n",
              "0  Unskilled Labor (worker, landry person, driver...      Blue Collar  2018   \n",
              "1  Unskilled Labor (worker, landry person, driver...      Blue Collar  2018   \n",
              "2  Unskilled Labor (worker, landry person, driver...      Blue Collar  2018   \n",
              "3  Skilled Labor (tailor, machinist, carpenter, e...      Blue Collar  2018   \n",
              "4  Semi-skilled labor (salesperson, waiter, photo...      Blue Collar  2018   \n",
              "\n",
              "   Col  \n",
              "0    3  \n",
              "1    3  \n",
              "2    3  \n",
              "3    3  \n",
              "4    3  "
            ],
            "text/html": [
              "\n",
              "  <div id=\"df-c6acfb73-ba2c-4ce1-b460-9151d71e3179\" class=\"colab-df-container\">\n",
              "    <div>\n",
              "<style scoped>\n",
              "    .dataframe tbody tr th:only-of-type {\n",
              "        vertical-align: middle;\n",
              "    }\n",
              "\n",
              "    .dataframe tbody tr th {\n",
              "        vertical-align: top;\n",
              "    }\n",
              "\n",
              "    .dataframe thead th {\n",
              "        text-align: right;\n",
              "    }\n",
              "</style>\n",
              "<table border=\"1\" class=\"dataframe\">\n",
              "  <thead>\n",
              "    <tr style=\"text-align: right;\">\n",
              "      <th></th>\n",
              "      <th>ID</th>\n",
              "      <th>City</th>\n",
              "      <th>Group_size</th>\n",
              "      <th>Age</th>\n",
              "      <th>MPI#Mean</th>\n",
              "      <th>TOM</th>\n",
              "      <th>BUMO</th>\n",
              "      <th>BUMO_Previous</th>\n",
              "      <th>MostFavourite</th>\n",
              "      <th>Gender</th>\n",
              "      <th>MPI#detail</th>\n",
              "      <th>Age#group</th>\n",
              "      <th>Age#Group#2</th>\n",
              "      <th>MPI</th>\n",
              "      <th>Occupation</th>\n",
              "      <th>Occupation#group</th>\n",
              "      <th>Year</th>\n",
              "      <th>Col</th>\n",
              "    </tr>\n",
              "  </thead>\n",
              "  <tbody>\n",
              "    <tr>\n",
              "      <th>0</th>\n",
              "      <td>348226</td>\n",
              "      <td>Cần Thơ</td>\n",
              "      <td>3.0</td>\n",
              "      <td>29.0</td>\n",
              "      <td>5499.0</td>\n",
              "      <td>Other 1</td>\n",
              "      <td>Other 1</td>\n",
              "      <td>NaN</td>\n",
              "      <td>Other 1</td>\n",
              "      <td>Female</td>\n",
              "      <td>From 4.5 millions to 6.49 millions VND</td>\n",
              "      <td>20 - 29</td>\n",
              "      <td>25 - 29 y.o.</td>\n",
              "      <td>VND 4.5m - VND 8.9m</td>\n",
              "      <td>Unskilled Labor (worker, landry person, driver...</td>\n",
              "      <td>Blue Collar</td>\n",
              "      <td>2018</td>\n",
              "      <td>3</td>\n",
              "    </tr>\n",
              "    <tr>\n",
              "      <th>1</th>\n",
              "      <td>358485</td>\n",
              "      <td>Hà Nội</td>\n",
              "      <td>3.0</td>\n",
              "      <td>25.0</td>\n",
              "      <td>5499.0</td>\n",
              "      <td>Other 1</td>\n",
              "      <td>Other 1</td>\n",
              "      <td>NaN</td>\n",
              "      <td>Other 1</td>\n",
              "      <td>Male</td>\n",
              "      <td>From 4.5 millions to 6.49 millions VND</td>\n",
              "      <td>20 - 29</td>\n",
              "      <td>25 - 29 y.o.</td>\n",
              "      <td>VND 4.5m - VND 8.9m</td>\n",
              "      <td>Unskilled Labor (worker, landry person, driver...</td>\n",
              "      <td>Blue Collar</td>\n",
              "      <td>2018</td>\n",
              "      <td>3</td>\n",
              "    </tr>\n",
              "    <tr>\n",
              "      <th>2</th>\n",
              "      <td>360729</td>\n",
              "      <td>Cần Thơ</td>\n",
              "      <td>3.0</td>\n",
              "      <td>25.0</td>\n",
              "      <td>5499.0</td>\n",
              "      <td>Other 1</td>\n",
              "      <td>Other 1</td>\n",
              "      <td>NaN</td>\n",
              "      <td>Other 1</td>\n",
              "      <td>Female</td>\n",
              "      <td>From 4.5 millions to 6.49 millions VND</td>\n",
              "      <td>20 - 29</td>\n",
              "      <td>25 - 29 y.o.</td>\n",
              "      <td>VND 4.5m - VND 8.9m</td>\n",
              "      <td>Unskilled Labor (worker, landry person, driver...</td>\n",
              "      <td>Blue Collar</td>\n",
              "      <td>2018</td>\n",
              "      <td>3</td>\n",
              "    </tr>\n",
              "    <tr>\n",
              "      <th>3</th>\n",
              "      <td>360737</td>\n",
              "      <td>Cần Thơ</td>\n",
              "      <td>3.0</td>\n",
              "      <td>24.0</td>\n",
              "      <td>5499.0</td>\n",
              "      <td>Other 1</td>\n",
              "      <td>Other 1</td>\n",
              "      <td>NaN</td>\n",
              "      <td>Other 1</td>\n",
              "      <td>Male</td>\n",
              "      <td>From 4.5 millions to 6.49 millions VND</td>\n",
              "      <td>20 - 29</td>\n",
              "      <td>20 - 24 y.o.</td>\n",
              "      <td>VND 4.5m - VND 8.9m</td>\n",
              "      <td>Skilled Labor (tailor, machinist, carpenter, e...</td>\n",
              "      <td>Blue Collar</td>\n",
              "      <td>2018</td>\n",
              "      <td>3</td>\n",
              "    </tr>\n",
              "    <tr>\n",
              "      <th>4</th>\n",
              "      <td>361753</td>\n",
              "      <td>Cần Thơ</td>\n",
              "      <td>3.0</td>\n",
              "      <td>26.0</td>\n",
              "      <td>5499.0</td>\n",
              "      <td>Other 1</td>\n",
              "      <td>Other 1</td>\n",
              "      <td>NaN</td>\n",
              "      <td>Other 1</td>\n",
              "      <td>Male</td>\n",
              "      <td>From 4.5 millions to 6.49 millions VND</td>\n",
              "      <td>20 - 29</td>\n",
              "      <td>25 - 29 y.o.</td>\n",
              "      <td>VND 4.5m - VND 8.9m</td>\n",
              "      <td>Semi-skilled labor (salesperson, waiter, photo...</td>\n",
              "      <td>Blue Collar</td>\n",
              "      <td>2018</td>\n",
              "      <td>3</td>\n",
              "    </tr>\n",
              "  </tbody>\n",
              "</table>\n",
              "</div>\n",
              "    <div class=\"colab-df-buttons\">\n",
              "\n",
              "  <div class=\"colab-df-container\">\n",
              "    <button class=\"colab-df-convert\" onclick=\"convertToInteractive('df-c6acfb73-ba2c-4ce1-b460-9151d71e3179')\"\n",
              "            title=\"Convert this dataframe to an interactive table.\"\n",
              "            style=\"display:none;\">\n",
              "\n",
              "  <svg xmlns=\"http://www.w3.org/2000/svg\" height=\"24px\" viewBox=\"0 -960 960 960\">\n",
              "    <path d=\"M120-120v-720h720v720H120Zm60-500h600v-160H180v160Zm220 220h160v-160H400v160Zm0 220h160v-160H400v160ZM180-400h160v-160H180v160Zm440 0h160v-160H620v160ZM180-180h160v-160H180v160Zm440 0h160v-160H620v160Z\"/>\n",
              "  </svg>\n",
              "    </button>\n",
              "\n",
              "  <style>\n",
              "    .colab-df-container {\n",
              "      display:flex;\n",
              "      gap: 12px;\n",
              "    }\n",
              "\n",
              "    .colab-df-convert {\n",
              "      background-color: #E8F0FE;\n",
              "      border: none;\n",
              "      border-radius: 50%;\n",
              "      cursor: pointer;\n",
              "      display: none;\n",
              "      fill: #1967D2;\n",
              "      height: 32px;\n",
              "      padding: 0 0 0 0;\n",
              "      width: 32px;\n",
              "    }\n",
              "\n",
              "    .colab-df-convert:hover {\n",
              "      background-color: #E2EBFA;\n",
              "      box-shadow: 0px 1px 2px rgba(60, 64, 67, 0.3), 0px 1px 3px 1px rgba(60, 64, 67, 0.15);\n",
              "      fill: #174EA6;\n",
              "    }\n",
              "\n",
              "    .colab-df-buttons div {\n",
              "      margin-bottom: 4px;\n",
              "    }\n",
              "\n",
              "    [theme=dark] .colab-df-convert {\n",
              "      background-color: #3B4455;\n",
              "      fill: #D2E3FC;\n",
              "    }\n",
              "\n",
              "    [theme=dark] .colab-df-convert:hover {\n",
              "      background-color: #434B5C;\n",
              "      box-shadow: 0px 1px 3px 1px rgba(0, 0, 0, 0.15);\n",
              "      filter: drop-shadow(0px 1px 2px rgba(0, 0, 0, 0.3));\n",
              "      fill: #FFFFFF;\n",
              "    }\n",
              "  </style>\n",
              "\n",
              "    <script>\n",
              "      const buttonEl =\n",
              "        document.querySelector('#df-c6acfb73-ba2c-4ce1-b460-9151d71e3179 button.colab-df-convert');\n",
              "      buttonEl.style.display =\n",
              "        google.colab.kernel.accessAllowed ? 'block' : 'none';\n",
              "\n",
              "      async function convertToInteractive(key) {\n",
              "        const element = document.querySelector('#df-c6acfb73-ba2c-4ce1-b460-9151d71e3179');\n",
              "        const dataTable =\n",
              "          await google.colab.kernel.invokeFunction('convertToInteractive',\n",
              "                                                    [key], {});\n",
              "        if (!dataTable) return;\n",
              "\n",
              "        const docLinkHtml = 'Like what you see? Visit the ' +\n",
              "          '<a target=\"_blank\" href=https://colab.research.google.com/notebooks/data_table.ipynb>data table notebook</a>'\n",
              "          + ' to learn more about interactive tables.';\n",
              "        element.innerHTML = '';\n",
              "        dataTable['output_type'] = 'display_data';\n",
              "        await google.colab.output.renderOutput(dataTable, element);\n",
              "        const docLink = document.createElement('div');\n",
              "        docLink.innerHTML = docLinkHtml;\n",
              "        element.appendChild(docLink);\n",
              "      }\n",
              "    </script>\n",
              "  </div>\n",
              "\n",
              "\n",
              "    <div id=\"df-ea28f01d-71c4-45c8-a033-c9228e8b5b2f\">\n",
              "      <button class=\"colab-df-quickchart\" onclick=\"quickchart('df-ea28f01d-71c4-45c8-a033-c9228e8b5b2f')\"\n",
              "                title=\"Suggest charts\"\n",
              "                style=\"display:none;\">\n",
              "\n",
              "<svg xmlns=\"http://www.w3.org/2000/svg\" height=\"24px\"viewBox=\"0 0 24 24\"\n",
              "     width=\"24px\">\n",
              "    <g>\n",
              "        <path d=\"M19 3H5c-1.1 0-2 .9-2 2v14c0 1.1.9 2 2 2h14c1.1 0 2-.9 2-2V5c0-1.1-.9-2-2-2zM9 17H7v-7h2v7zm4 0h-2V7h2v10zm4 0h-2v-4h2v4z\"/>\n",
              "    </g>\n",
              "</svg>\n",
              "      </button>\n",
              "\n",
              "<style>\n",
              "  .colab-df-quickchart {\n",
              "      --bg-color: #E8F0FE;\n",
              "      --fill-color: #1967D2;\n",
              "      --hover-bg-color: #E2EBFA;\n",
              "      --hover-fill-color: #174EA6;\n",
              "      --disabled-fill-color: #AAA;\n",
              "      --disabled-bg-color: #DDD;\n",
              "  }\n",
              "\n",
              "  [theme=dark] .colab-df-quickchart {\n",
              "      --bg-color: #3B4455;\n",
              "      --fill-color: #D2E3FC;\n",
              "      --hover-bg-color: #434B5C;\n",
              "      --hover-fill-color: #FFFFFF;\n",
              "      --disabled-bg-color: #3B4455;\n",
              "      --disabled-fill-color: #666;\n",
              "  }\n",
              "\n",
              "  .colab-df-quickchart {\n",
              "    background-color: var(--bg-color);\n",
              "    border: none;\n",
              "    border-radius: 50%;\n",
              "    cursor: pointer;\n",
              "    display: none;\n",
              "    fill: var(--fill-color);\n",
              "    height: 32px;\n",
              "    padding: 0;\n",
              "    width: 32px;\n",
              "  }\n",
              "\n",
              "  .colab-df-quickchart:hover {\n",
              "    background-color: var(--hover-bg-color);\n",
              "    box-shadow: 0 1px 2px rgba(60, 64, 67, 0.3), 0 1px 3px 1px rgba(60, 64, 67, 0.15);\n",
              "    fill: var(--button-hover-fill-color);\n",
              "  }\n",
              "\n",
              "  .colab-df-quickchart-complete:disabled,\n",
              "  .colab-df-quickchart-complete:disabled:hover {\n",
              "    background-color: var(--disabled-bg-color);\n",
              "    fill: var(--disabled-fill-color);\n",
              "    box-shadow: none;\n",
              "  }\n",
              "\n",
              "  .colab-df-spinner {\n",
              "    border: 2px solid var(--fill-color);\n",
              "    border-color: transparent;\n",
              "    border-bottom-color: var(--fill-color);\n",
              "    animation:\n",
              "      spin 1s steps(1) infinite;\n",
              "  }\n",
              "\n",
              "  @keyframes spin {\n",
              "    0% {\n",
              "      border-color: transparent;\n",
              "      border-bottom-color: var(--fill-color);\n",
              "      border-left-color: var(--fill-color);\n",
              "    }\n",
              "    20% {\n",
              "      border-color: transparent;\n",
              "      border-left-color: var(--fill-color);\n",
              "      border-top-color: var(--fill-color);\n",
              "    }\n",
              "    30% {\n",
              "      border-color: transparent;\n",
              "      border-left-color: var(--fill-color);\n",
              "      border-top-color: var(--fill-color);\n",
              "      border-right-color: var(--fill-color);\n",
              "    }\n",
              "    40% {\n",
              "      border-color: transparent;\n",
              "      border-right-color: var(--fill-color);\n",
              "      border-top-color: var(--fill-color);\n",
              "    }\n",
              "    60% {\n",
              "      border-color: transparent;\n",
              "      border-right-color: var(--fill-color);\n",
              "    }\n",
              "    80% {\n",
              "      border-color: transparent;\n",
              "      border-right-color: var(--fill-color);\n",
              "      border-bottom-color: var(--fill-color);\n",
              "    }\n",
              "    90% {\n",
              "      border-color: transparent;\n",
              "      border-bottom-color: var(--fill-color);\n",
              "    }\n",
              "  }\n",
              "</style>\n",
              "\n",
              "      <script>\n",
              "        async function quickchart(key) {\n",
              "          const quickchartButtonEl =\n",
              "            document.querySelector('#' + key + ' button');\n",
              "          quickchartButtonEl.disabled = true;  // To prevent multiple clicks.\n",
              "          quickchartButtonEl.classList.add('colab-df-spinner');\n",
              "          try {\n",
              "            const charts = await google.colab.kernel.invokeFunction(\n",
              "                'suggestCharts', [key], {});\n",
              "          } catch (error) {\n",
              "            console.error('Error during call to suggestCharts:', error);\n",
              "          }\n",
              "          quickchartButtonEl.classList.remove('colab-df-spinner');\n",
              "          quickchartButtonEl.classList.add('colab-df-quickchart-complete');\n",
              "        }\n",
              "        (() => {\n",
              "          let quickchartButtonEl =\n",
              "            document.querySelector('#df-ea28f01d-71c4-45c8-a033-c9228e8b5b2f button');\n",
              "          quickchartButtonEl.style.display =\n",
              "            google.colab.kernel.accessAllowed ? 'block' : 'none';\n",
              "        })();\n",
              "      </script>\n",
              "    </div>\n",
              "\n",
              "    </div>\n",
              "  </div>\n"
            ],
            "application/vnd.google.colaboratory.intrinsic+json": {
              "type": "dataframe",
              "variable_name": "df_dim_customer",
              "summary": "{\n  \"name\": \"df_dim_customer\",\n  \"rows\": 11761,\n  \"fields\": [\n    {\n      \"column\": \"ID\",\n      \"properties\": {\n        \"dtype\": \"number\",\n        \"std\": 267593,\n        \"min\": 89100,\n        \"max\": 863754,\n        \"num_unique_values\": 11761,\n        \"samples\": [\n          431931,\n          816239,\n          812421\n        ],\n        \"semantic_type\": \"\",\n        \"description\": \"\"\n      }\n    },\n    {\n      \"column\": \"City\",\n      \"properties\": {\n        \"dtype\": \"category\",\n        \"num_unique_values\": 6,\n        \"samples\": [\n          \"C\\u1ea7n Th\\u01a1\",\n          \"H\\u00e0 N\\u1ed9i\",\n          \"Nha Trang\"\n        ],\n        \"semantic_type\": \"\",\n        \"description\": \"\"\n      }\n    },\n    {\n      \"column\": \"Group_size\",\n      \"properties\": {\n        \"dtype\": \"number\",\n        \"std\": 1.3320493157489928,\n        \"min\": 1.0,\n        \"max\": 35.0,\n        \"num_unique_values\": 16,\n        \"samples\": [\n          3.0,\n          4.0,\n          6.0\n        ],\n        \"semantic_type\": \"\",\n        \"description\": \"\"\n      }\n    },\n    {\n      \"column\": \"Age\",\n      \"properties\": {\n        \"dtype\": \"number\",\n        \"std\": 10.829024945349325,\n        \"min\": 16.0,\n        \"max\": 60.0,\n        \"num_unique_values\": 45,\n        \"samples\": [\n          47.0,\n          30.0,\n          51.0\n        ],\n        \"semantic_type\": \"\",\n        \"description\": \"\"\n      }\n    },\n    {\n      \"column\": \"MPI#Mean\",\n      \"properties\": {\n        \"dtype\": \"number\",\n        \"std\": 4667.292681486819,\n        \"min\": 1499.0,\n        \"max\": 112499.0,\n        \"num_unique_values\": 13,\n        \"samples\": [\n          59999.0,\n          27499.0,\n          5499.0\n        ],\n        \"semantic_type\": \"\",\n        \"description\": \"\"\n      }\n    },\n    {\n      \"column\": \"TOM\",\n      \"properties\": {\n        \"dtype\": \"category\",\n        \"num_unique_values\": 32,\n        \"samples\": [\n          \"Gong Cha\",\n          \"Viva Star\",\n          \"Th\\u1ee9c Coffee\"\n        ],\n        \"semantic_type\": \"\",\n        \"description\": \"\"\n      }\n    },\n    {\n      \"column\": \"BUMO\",\n      \"properties\": {\n        \"dtype\": \"category\",\n        \"num_unique_values\": 33,\n        \"samples\": [\n          \"\\u0110en \\u0110\\u00e1\",\n          \"Urban Station\",\n          \"KOI cafe\"\n        ],\n        \"semantic_type\": \"\",\n        \"description\": \"\"\n      }\n    },\n    {\n      \"column\": \"BUMO_Previous\",\n      \"properties\": {\n        \"dtype\": \"category\",\n        \"num_unique_values\": 32,\n        \"samples\": [\n          \"\\u0110en \\u0110\\u00e1\",\n          \"Ph\\u00fac Long\",\n          \"M\\u00ea Trang\"\n        ],\n        \"semantic_type\": \"\",\n        \"description\": \"\"\n      }\n    },\n    {\n      \"column\": \"MostFavourite\",\n      \"properties\": {\n        \"dtype\": \"category\",\n        \"num_unique_values\": 34,\n        \"samples\": [\n          \"M\\u1ed9c Mi\\u00ean\",\n          \"Coffee Bean & Tea Leaf\",\n          \"Gong Cha\"\n        ],\n        \"semantic_type\": \"\",\n        \"description\": \"\"\n      }\n    },\n    {\n      \"column\": \"Gender\",\n      \"properties\": {\n        \"dtype\": \"category\",\n        \"num_unique_values\": 2,\n        \"samples\": [\n          \"Male\",\n          \"Female\"\n        ],\n        \"semantic_type\": \"\",\n        \"description\": \"\"\n      }\n    },\n    {\n      \"column\": \"MPI#detail\",\n      \"properties\": {\n        \"dtype\": \"category\",\n        \"num_unique_values\": 14,\n        \"samples\": [\n          \"Refuse\",\n          \"From 30 millions to 44.99 millions VND\"\n        ],\n        \"semantic_type\": \"\",\n        \"description\": \"\"\n      }\n    },\n    {\n      \"column\": \"Age#group\",\n      \"properties\": {\n        \"dtype\": \"category\",\n        \"num_unique_values\": 4,\n        \"samples\": [\n          \"30 - 39\",\n          \"16 - 19\"\n        ],\n        \"semantic_type\": \"\",\n        \"description\": \"\"\n      }\n    },\n    {\n      \"column\": \"Age#Group#2\",\n      \"properties\": {\n        \"dtype\": \"category\",\n        \"num_unique_values\": 7,\n        \"samples\": [\n          \"25 - 29 y.o.\",\n          \"20 - 24 y.o.\"\n        ],\n        \"semantic_type\": \"\",\n        \"description\": \"\"\n      }\n    },\n    {\n      \"column\": \"MPI\",\n      \"properties\": {\n        \"dtype\": \"category\",\n        \"num_unique_values\": 5,\n        \"samples\": [\n          \"Under VND 4.5m\",\n          \"VND 25m+\"\n        ],\n        \"semantic_type\": \"\",\n        \"description\": \"\"\n      }\n    },\n    {\n      \"column\": \"Occupation\",\n      \"properties\": {\n        \"dtype\": \"category\",\n        \"num_unique_values\": 28,\n        \"samples\": [\n          \"Pupil / Student\",\n          \"Job hunting\"\n        ],\n        \"semantic_type\": \"\",\n        \"description\": \"\"\n      }\n    },\n    {\n      \"column\": \"Occupation#group\",\n      \"properties\": {\n        \"dtype\": \"category\",\n        \"num_unique_values\": 7,\n        \"samples\": [\n          \"Blue Collar\",\n          \"White Collar\"\n        ],\n        \"semantic_type\": \"\",\n        \"description\": \"\"\n      }\n    },\n    {\n      \"column\": \"Year\",\n      \"properties\": {\n        \"dtype\": \"number\",\n        \"std\": 0,\n        \"min\": 2017,\n        \"max\": 2019,\n        \"num_unique_values\": 3,\n        \"samples\": [\n          2018,\n          2019\n        ],\n        \"semantic_type\": \"\",\n        \"description\": \"\"\n      }\n    },\n    {\n      \"column\": \"Col\",\n      \"properties\": {\n        \"dtype\": \"number\",\n        \"std\": 1,\n        \"min\": 0,\n        \"max\": 5,\n        \"num_unique_values\": 6,\n        \"samples\": [\n          3,\n          4\n        ],\n        \"semantic_type\": \"\",\n        \"description\": \"\"\n      }\n    }\n  ]\n}"
            }
          },
          "metadata": {},
          "execution_count": 8
        }
      ],
      "source": [
        "##5 Dim_Customer\n",
        "df_dim_customer = df_sa.drop(columns=['MPI#2', 'MPI_Mean_Use'])\n",
        "df_dim_customer.head()"
      ]
    },
    {
      "cell_type": "code",
      "execution_count": null,
      "id": "13f13627",
      "metadata": {
        "colab": {
          "base_uri": "https://localhost:8080/"
        },
        "id": "13f13627",
        "outputId": "81bc701d-f3d9-4393-a041-e88ef1124557"
      },
      "outputs": [
        {
          "output_type": "stream",
          "name": "stdout",
          "text": [
            "                                            Brand  Brand_ID    BrandType\n",
            "0                                Highlands Coffee         1        Chain\n",
            "1                                 Indepedent Cafe         2  Independent\n",
            "2                                          Milano         3  Independent\n",
            "3                                        Gong Cha         4  Independent\n",
            "4                          Coffee Bean & Tea Leaf         5  Independent\n",
            "5                                       Phúc Long         6        Chain\n",
            "6                              The Coffee Factory         7  Independent\n",
            "7                                           Effoc         8  Independent\n",
            "8                                     Maxx Coffee         9  Independent\n",
            "9                                     Saigon Café        10  Independent\n",
            "10                                       KOI cafe        11  Independent\n",
            "11                                    Thức Coffee        12  Independent\n",
            "12                                         Passio        13  Independent\n",
            "13                               The Coffee House        14        Chain\n",
            "14                                          Other        15         None\n",
            "15                                  Urban Station        16  Independent\n",
            "16                                      Starbucks        17        Chain\n",
            "17  Street / Half street coffee (including carts)        18       Street\n",
            "18                                     Runam cafe        19  Independent\n",
            "19                                       Mộc Miên        20  Independent\n",
            "20                                       Nia cafe        21  Independent\n",
            "21                                         Đen Đá        22  Independent\n",
            "22                                       Aha Cafe        23  Independent\n",
            "23                                         Street        24       Street\n",
            "24                                      Viva Star        25  Independent\n",
            "25                                    Laha Coffee        26  Independent\n",
            "26                                  Cheese Coffee        27  Independent\n",
            "27                                The Cups Coffee        28  Independent\n",
            "28                                         BonPas        29  Independent\n",
            "29                                      Long Cafe        30  Independent\n",
            "30                                       Mê Trang        31  Independent\n",
            "31                                   Trung Nguyên        32        Chain\n",
            "32                                    Cộng Cà Phê        33        Chain\n"
          ]
        }
      ],
      "source": [
        "##6 Dim_Brand\n",
        "df_dim_brand = df_BI[['Awareness']].dropna().drop_duplicates().reset_index(drop=True)\n",
        "df_dim_brand['Brand_ID'] = range(1, len(df_dim_brand) + 1)\n",
        "df_dim_brand['BrandType'] = None\n",
        "df_dim_brand.rename(columns={'Awareness': 'Brand'}, inplace=True)\n",
        "df_dim_brand['BrandType'] = df_dim_brand['Brand'].apply(\n",
        "                                                    lambda x: 'Street' if 'street' in x.lower()\n",
        "                                                            else 'Chain' if x in df_count['Brand'].values or 'chain' in x.lower()\n",
        "                                                            else 'Independent' if 'other' not in x.lower()\n",
        "                                                            else None\n",
        ")\n",
        "\n",
        "print(df_dim_brand)"
      ]
    },
    {
      "cell_type": "code",
      "execution_count": null,
      "id": "2e49cfd3",
      "metadata": {
        "colab": {
          "base_uri": "https://localhost:8080/"
        },
        "id": "2e49cfd3",
        "outputId": "e76b5ce8-1f88-45cc-a9d1-c32acd84f122"
      },
      "outputs": [
        {
          "output_type": "stream",
          "name": "stdout",
          "text": [
            "                                            Needstate  \\\n",
            "0                                     Drinking coffee   \n",
            "1   Drinking other beverages (excluding tea, coffe...   \n",
            "2                                        Drinking tea   \n",
            "3                                Drinking ice-blended   \n",
            "4                         Socializing with colleagues   \n",
            "5                 Socializing with family / relatives   \n",
            "6                                          Socialzing   \n",
            "7                            Socializing with friends   \n",
            "8   Enterntainment (watching movies. Playing games...   \n",
            "9                                    Relaxing (Alone)   \n",
            "10            Have meals (breakfast / lunch / dinner)   \n",
            "11                                Have snack / pastry   \n",
            "12                           Studying / Reading books   \n",
            "13                                              Other   \n",
            "14                         Working / Business meeting   \n",
            "\n",
            "                NeedstateGroup  Needstate_ID  \n",
            "0           Drinking beverages             1  \n",
            "1           Drinking beverages             2  \n",
            "2           Drinking beverages             3  \n",
            "3           Drinking beverages             4  \n",
            "4                  Socializing             5  \n",
            "5                  Socializing             6  \n",
            "6                  Socializing             7  \n",
            "7                  Socializing             8  \n",
            "8     Relaxing & entertainment             9  \n",
            "9     Relaxing & entertainment            10  \n",
            "10               Meals & Snack            11  \n",
            "11               Meals & Snack            12  \n",
            "12           Studying & Others            13  \n",
            "13           Studying & Others            14  \n",
            "14  Working & business meeting            15  \n"
          ]
        }
      ],
      "source": [
        "##7 Dim_Needstate\n",
        "df_dim_needstate = df_ns[['Needstates', 'NeedstateGroup']].dropna().drop_duplicates().reset_index(drop=True)\n",
        "df_dim_needstate['Needstate_ID'] = range(1, len(df_dim_needstate) + 1)\n",
        "df_dim_needstate.rename(columns={'Needstates': 'Needstate'}, inplace=True)\n",
        "print(df_dim_needstate)"
      ]
    },
    {
      "cell_type": "code",
      "execution_count": null,
      "id": "ec56f1c7",
      "metadata": {
        "colab": {
          "base_uri": "https://localhost:8080/"
        },
        "id": "ec56f1c7",
        "outputId": "8aeb4077-4e7e-4224-d7ec-bc2688636dde"
      },
      "outputs": [
        {
          "output_type": "stream",
          "name": "stdout",
          "text": [
            "                 Companion#group  Companion_ID\n",
            "0                        Friends             1\n",
            "1                         Family             2\n",
            "2  Colleagues / Business partner             3\n",
            "3                          Alone             4\n",
            "4         Boyfriend / Girlfriend             5\n",
            "5                         Others             6\n"
          ]
        }
      ],
      "source": [
        "##8 Dim_Companion\n",
        "df_dim_companion = df_cp[['Companion#group']].dropna().drop_duplicates().reset_index(drop=True)\n",
        "df_dim_companion['Companion_ID'] = range(1, len(df_dim_companion) + 1)\n",
        "print(df_dim_companion)"
      ]
    },
    {
      "cell_type": "code",
      "execution_count": null,
      "id": "21df4fcb",
      "metadata": {
        "colab": {
          "base_uri": "https://localhost:8080/"
        },
        "id": "21df4fcb",
        "outputId": "b3a14148-6b61-42b2-e95d-8ffd5b809861"
      },
      "outputs": [
        {
          "output_type": "stream",
          "name": "stdout",
          "text": [
            "    NPS#P3M NPS#P3M#Group  NPS_ID\n",
            "0       9.0      Promoter       1\n",
            "1       8.0       Passive       2\n",
            "2       7.0       Passive       3\n",
            "3      10.0      Promoter       4\n",
            "4       5.0     Detractor       5\n",
            "5       6.0     Detractor       6\n",
            "6       0.0     Detractor       7\n",
            "7       4.0     Detractor       8\n",
            "8       3.0     Detractor       9\n",
            "9       1.0     Detractor      10\n",
            "10      2.0     Detractor      11\n"
          ]
        }
      ],
      "source": [
        "##9 Dim_NPS\n",
        "df_dim_nps = df_BH[['NPS#P3M', 'NPS#P3M#Group']].dropna().drop_duplicates().reset_index(drop=True)\n",
        "df_dim_nps['NPS_ID'] = range(1, len(df_dim_nps) + 1)\n",
        "print(df_dim_nps)"
      ]
    },
    {
      "cell_type": "code",
      "execution_count": null,
      "id": "c305f22e",
      "metadata": {
        "colab": {
          "base_uri": "https://localhost:8080/"
        },
        "id": "c305f22e",
        "outputId": "a9b13783-93f8-4227-8ef2-feca9136be72"
      },
      "outputs": [
        {
          "output_type": "stream",
          "name": "stdout",
          "text": [
            "                            Segmentation  Segmentation_ID\n",
            "0               Seg.01 - Mass (<VND 25K)                1\n",
            "1  Seg.02 - Mass Asp (VND 25K - VND 59K)                2\n",
            "2   Seg.03 - Premium (VND 60K - VND 99K)                3\n",
            "3     Seg.04 - Super Premium (VND 100K+)                4\n"
          ]
        }
      ],
      "source": [
        "##10 Dim_Segmentation\n",
        "df_dim_segmentation = df_BH[['Segmentation']].dropna().drop_duplicates().reset_index(drop=True)\n",
        "df_dim_segmentation['Segmentation_ID'] = range(1, len(df_dim_segmentation) + 1)\n",
        "print(df_dim_segmentation)"
      ]
    },
    {
      "cell_type": "code",
      "source": [
        "##11 Dim_Attribute\n",
        "df_dim_attribute = df_BI[['Attribute']].dropna().drop_duplicates().reset_index(drop=True)\n",
        "df_dim_attribute['Attribute_ID'] = range(1, len(df_dim_attribute) + 1)\n",
        "print(df_dim_attribute)"
      ],
      "metadata": {
        "colab": {
          "base_uri": "https://localhost:8080/"
        },
        "id": "ZbKvT66OjfBo",
        "outputId": "28dcf796-b37f-4b32-f7a9-766e886e823c"
      },
      "id": "ZbKvT66OjfBo",
      "execution_count": null,
      "outputs": [
        {
          "output_type": "stream",
          "name": "stdout",
          "text": [
            "                                            Attribute  Attribute_ID\n",
            "0                                       Popular brand             1\n",
            "1                                       Trusted brand             2\n",
            "2                             Nice environment design             3\n",
            "3                                               Clean             4\n",
            "4           Good place for working / business meeting             5\n",
            "5                Comfortable and relaxing environment             6\n",
            "6                                   Good coffee taste             7\n",
            "7                                 Convenient location             8\n",
            "8                             Good place for relaxing             9\n",
            "9                                      Friendly staff            10\n",
            "10                             Good ice-blended taste            11\n",
            "11         Good place for socializing with colleagues            12\n",
            "12            Good place for socializing with friends            13\n",
            "13             Good place for socializing with family            14\n",
            "14                             High speed of internet            15\n",
            "15                               Good value for money            16\n",
            "16                             Quick speed of service            17\n",
            "17  Good other beverages (other than coffee, tea &...            18\n",
            "18                                     Good tea taste            19\n",
            "19                                         Good music            20\n",
            "20                                 Feel I belong here            21\n",
            "21                              Recommended by others            22\n",
            "22                         Have new product regularly            23\n",
            "23                            Good place for studying            24\n",
            "24                         Good place for socializing            25\n",
            "25                                   Diversified menu            26\n",
            "26                  Good place for working / studying            27\n",
            "27                                     Delicious food            28\n"
          ]
        }
      ]
    },
    {
      "cell_type": "code",
      "source": [
        "df_dim_attribute.to_csv('Dim_Attribute.csv', sep=';', index=False)"
      ],
      "metadata": {
        "id": "2VK4eCZMjpE2"
      },
      "id": "2VK4eCZMjpE2",
      "execution_count": null,
      "outputs": []
    },
    {
      "cell_type": "code",
      "source": [
        "##1 Fact_BrandImage\n",
        "df_fact_brand_image = df_BI\n",
        "df_fact_brand_image['BI_ID'] = range(1, len(df_fact_brand_image) + 1)\n",
        "print(df_fact_brand_image.head())\n",
        "\n",
        "#Merge Dim_Brand with Fact_BrandImage\n",
        "df_fact_brand_image = pd.merge(df_fact_brand_image, df_dim_brand[['Brand', 'Brand_ID']], left_on='Awareness', right_on='Brand', how='left')\n",
        "print(df_fact_brand_image.head())\n",
        "df_fact_brand_image.drop(columns=['Awareness', 'Brand'], inplace=True)\n",
        "df_fact_brand_image.rename(columns={'Brand_ID': 'Awareness_ID'}, inplace=True)\n",
        "\n",
        "df_fact_brand_image = pd.merge(df_fact_brand_image, df_dim_brand[['Brand', 'Brand_ID']], left_on='BrandImage', right_on='Brand', how='left')\n",
        "print(df_fact_brand_image.head())\n",
        "df_fact_brand_image.drop(columns=['BrandImage', 'Brand'], inplace=True)\n",
        "df_fact_brand_image.rename(columns={'Brand_ID': 'BrandImage_ID'}, inplace=True)\n",
        "\n",
        "# Merge Dim_City with Fact_BrandImage\n",
        "df_fact_brand_image = df_fact_brand_image.merge(df_dim_city[['City_ID', 'City']], on='City', how='left')\n",
        "print(df_fact_brand_image.head())\n",
        "df_fact_brand_image.drop(columns=['City'], inplace=True)\n",
        "\n",
        "# Merge Dim_Attribute with Fact_BrandImage\n",
        "df_fact_brand_image = df_fact_brand_image.merge(df_dim_attribute[['Attribute_ID', 'Attribute']], on='Attribute', how='left')\n",
        "print(df_fact_brand_image.head())\n",
        "df_fact_brand_image.drop(columns=['Attribute'], inplace=True)"
      ],
      "metadata": {
        "colab": {
          "base_uri": "https://localhost:8080/"
        },
        "id": "nS4aANlJjizG",
        "outputId": "398549d5-ca7c-47b7-d6af-f5c5b635e130"
      },
      "id": "nS4aANlJjizG",
      "execution_count": null,
      "outputs": [
        {
          "output_type": "stream",
          "name": "stdout",
          "text": [
            "       ID  Year    City         Awareness      Attribute        BrandImage  \\\n",
            "0  725118  2019  Hà Nội  Highlands Coffee  Popular brand  Highlands Coffee   \n",
            "1  725466  2019  Hà Nội  Highlands Coffee  Popular brand  Highlands Coffee   \n",
            "2  726561  2019  Hà Nội  Highlands Coffee  Popular brand  Highlands Coffee   \n",
            "3  726862  2019  Hà Nội  Highlands Coffee  Popular brand  Highlands Coffee   \n",
            "4  727219  2019  Hà Nội  Highlands Coffee  Popular brand  Highlands Coffee   \n",
            "\n",
            "   BI_ID  \n",
            "0      1  \n",
            "1      2  \n",
            "2      3  \n",
            "3      4  \n",
            "4      5  \n",
            "       ID  Year    City         Awareness      Attribute        BrandImage  \\\n",
            "0  725118  2019  Hà Nội  Highlands Coffee  Popular brand  Highlands Coffee   \n",
            "1  725466  2019  Hà Nội  Highlands Coffee  Popular brand  Highlands Coffee   \n",
            "2  726561  2019  Hà Nội  Highlands Coffee  Popular brand  Highlands Coffee   \n",
            "3  726862  2019  Hà Nội  Highlands Coffee  Popular brand  Highlands Coffee   \n",
            "4  727219  2019  Hà Nội  Highlands Coffee  Popular brand  Highlands Coffee   \n",
            "\n",
            "   BI_ID             Brand  Brand_ID  \n",
            "0      1  Highlands Coffee         1  \n",
            "1      2  Highlands Coffee         1  \n",
            "2      3  Highlands Coffee         1  \n",
            "3      4  Highlands Coffee         1  \n",
            "4      5  Highlands Coffee         1  \n",
            "       ID  Year    City      Attribute        BrandImage  BI_ID  Awareness_ID  \\\n",
            "0  725118  2019  Hà Nội  Popular brand  Highlands Coffee      1             1   \n",
            "1  725466  2019  Hà Nội  Popular brand  Highlands Coffee      2             1   \n",
            "2  726561  2019  Hà Nội  Popular brand  Highlands Coffee      3             1   \n",
            "3  726862  2019  Hà Nội  Popular brand  Highlands Coffee      4             1   \n",
            "4  727219  2019  Hà Nội  Popular brand  Highlands Coffee      5             1   \n",
            "\n",
            "              Brand  Brand_ID  \n",
            "0  Highlands Coffee         1  \n",
            "1  Highlands Coffee         1  \n",
            "2  Highlands Coffee         1  \n",
            "3  Highlands Coffee         1  \n",
            "4  Highlands Coffee         1  \n",
            "       ID  Year    City      Attribute  BI_ID  Awareness_ID  BrandImage_ID  \\\n",
            "0  725118  2019  Hà Nội  Popular brand      1             1              1   \n",
            "1  725466  2019  Hà Nội  Popular brand      2             1              1   \n",
            "2  726561  2019  Hà Nội  Popular brand      3             1              1   \n",
            "3  726862  2019  Hà Nội  Popular brand      4             1              1   \n",
            "4  727219  2019  Hà Nội  Popular brand      5             1              1   \n",
            "\n",
            "   City_ID  \n",
            "0        2  \n",
            "1        2  \n",
            "2        2  \n",
            "3        2  \n",
            "4        2  \n",
            "       ID  Year      Attribute  BI_ID  Awareness_ID  BrandImage_ID  City_ID  \\\n",
            "0  725118  2019  Popular brand      1             1              1        2   \n",
            "1  725466  2019  Popular brand      2             1              1        2   \n",
            "2  726561  2019  Popular brand      3             1              1        2   \n",
            "3  726862  2019  Popular brand      4             1              1        2   \n",
            "4  727219  2019  Popular brand      5             1              1        2   \n",
            "\n",
            "   Attribute_ID  \n",
            "0             1  \n",
            "1             1  \n",
            "2             1  \n",
            "3             1  \n",
            "4             1  \n"
          ]
        }
      ]
    },
    {
      "cell_type": "code",
      "source": [
        "df_fact_brand_image.to_csv('Fact_BrandImage2.csv', sep=';', index=False)"
      ],
      "metadata": {
        "id": "-ZS4Cftrjub3"
      },
      "id": "-ZS4Cftrjub3",
      "execution_count": null,
      "outputs": []
    },
    {
      "cell_type": "code",
      "execution_count": null,
      "id": "c30e6c3d",
      "metadata": {
        "colab": {
          "base_uri": "https://localhost:8080/"
        },
        "id": "c30e6c3d",
        "outputId": "be78a3ac-798a-456a-85b6-c330042ab874"
      },
      "outputs": [
        {
          "output_type": "stream",
          "name": "stdout",
          "text": [
            "       ID  Year    City         Awareness      Attribute        BrandImage  \\\n",
            "0  725118  2019  Hà Nội  Highlands Coffee  Popular brand  Highlands Coffee   \n",
            "1  725466  2019  Hà Nội  Highlands Coffee  Popular brand  Highlands Coffee   \n",
            "2  726561  2019  Hà Nội  Highlands Coffee  Popular brand  Highlands Coffee   \n",
            "3  726862  2019  Hà Nội  Highlands Coffee  Popular brand  Highlands Coffee   \n",
            "4  727219  2019  Hà Nội  Highlands Coffee  Popular brand  Highlands Coffee   \n",
            "\n",
            "   BI_ID  \n",
            "0      1  \n",
            "1      2  \n",
            "2      3  \n",
            "3      4  \n",
            "4      5  \n",
            "       ID  Year    City         Awareness      Attribute        BrandImage  \\\n",
            "0  725118  2019  Hà Nội  Highlands Coffee  Popular brand  Highlands Coffee   \n",
            "1  725466  2019  Hà Nội  Highlands Coffee  Popular brand  Highlands Coffee   \n",
            "2  726561  2019  Hà Nội  Highlands Coffee  Popular brand  Highlands Coffee   \n",
            "3  726862  2019  Hà Nội  Highlands Coffee  Popular brand  Highlands Coffee   \n",
            "4  727219  2019  Hà Nội  Highlands Coffee  Popular brand  Highlands Coffee   \n",
            "\n",
            "   BI_ID             Brand  Brand_ID  \n",
            "0      1  Highlands Coffee         1  \n",
            "1      2  Highlands Coffee         1  \n",
            "2      3  Highlands Coffee         1  \n",
            "3      4  Highlands Coffee         1  \n",
            "4      5  Highlands Coffee         1  \n",
            "       ID  Year    City      Attribute        BrandImage  BI_ID  Awareness_ID  \\\n",
            "0  725118  2019  Hà Nội  Popular brand  Highlands Coffee      1             1   \n",
            "1  725466  2019  Hà Nội  Popular brand  Highlands Coffee      2             1   \n",
            "2  726561  2019  Hà Nội  Popular brand  Highlands Coffee      3             1   \n",
            "3  726862  2019  Hà Nội  Popular brand  Highlands Coffee      4             1   \n",
            "4  727219  2019  Hà Nội  Popular brand  Highlands Coffee      5             1   \n",
            "\n",
            "              Brand  Brand_ID  \n",
            "0  Highlands Coffee         1  \n",
            "1  Highlands Coffee         1  \n",
            "2  Highlands Coffee         1  \n",
            "3  Highlands Coffee         1  \n",
            "4  Highlands Coffee         1  \n",
            "       ID  Year    City      Attribute  BI_ID  Awareness_ID  BrandImage_ID  \\\n",
            "0  725118  2019  Hà Nội  Popular brand      1             1              1   \n",
            "1  725466  2019  Hà Nội  Popular brand      2             1              1   \n",
            "2  726561  2019  Hà Nội  Popular brand      3             1              1   \n",
            "3  726862  2019  Hà Nội  Popular brand      4             1              1   \n",
            "4  727219  2019  Hà Nội  Popular brand      5             1              1   \n",
            "\n",
            "   City_ID  \n",
            "0        2  \n",
            "1        2  \n",
            "2        2  \n",
            "3        2  \n",
            "4        2  \n"
          ]
        }
      ],
      "source": [
        "##1 Fact_BrandImage\n",
        "df_fact_brand_image = df_BI\n",
        "df_fact_brand_image['BI_ID'] = range(1, len(df_fact_brand_image) + 1)\n",
        "print(df_fact_brand_image.head())\n",
        "\n",
        "#Merge Dim_Brand with Fact_BrandImage\n",
        "df_fact_brand_image = pd.merge(df_fact_brand_image, df_dim_brand[['Brand', 'Brand_ID']], left_on='Awareness', right_on='Brand', how='left')\n",
        "print(df_fact_brand_image.head())\n",
        "df_fact_brand_image.drop(columns=['Awareness', 'Brand'], inplace=True)\n",
        "df_fact_brand_image.rename(columns={'Brand_ID': 'Awareness_ID'}, inplace=True)\n",
        "\n",
        "df_fact_brand_image = pd.merge(df_fact_brand_image, df_dim_brand[['Brand', 'Brand_ID']], left_on='BrandImage', right_on='Brand', how='left')\n",
        "print(df_fact_brand_image.head())\n",
        "df_fact_brand_image.drop(columns=['BrandImage', 'Brand'], inplace=True)\n",
        "df_fact_brand_image.rename(columns={'Brand_ID': 'BrandImage_ID'}, inplace=True)\n",
        "\n",
        "# Merge Dim_City with Fact_BrandImage\n",
        "df_fact_brand_image = df_fact_brand_image.merge(df_dim_city[['City_ID', 'City']], on='City', how='left')\n",
        "print(df_fact_brand_image.head())\n",
        "df_fact_brand_image.drop(columns=['City'], inplace=True)\n",
        "\n"
      ]
    },
    {
      "cell_type": "code",
      "execution_count": null,
      "id": "44be2a54",
      "metadata": {
        "colab": {
          "base_uri": "https://localhost:8080/"
        },
        "id": "44be2a54",
        "outputId": "c8dd3b1e-a7ac-4ab6-8bf6-16ac33b7240d"
      },
      "outputs": [
        {
          "output_type": "stream",
          "name": "stdout",
          "text": [
            "       ID  Year         City      Brand  Spontaneous  Awareness  Trial  P3M  \\\n",
            "0  345853  2018  Hồ Chí Minh  Phúc Long            0          1      0    0   \n",
            "1  348403  2018  Hồ Chí Minh  Phúc Long            0          1      0    0   \n",
            "2  349552  2018  Hồ Chí Minh  Phúc Long            0          1      0    0   \n",
            "3  349764  2018  Hồ Chí Minh  Phúc Long            0          1      0    0   \n",
            "4  350072  2018  Hồ Chí Minh  Phúc Long            0          1      0    0   \n",
            "\n",
            "   P1M  Comprehension  Brand_Likability  Weekly  Daily  Fre#visit  PPA  \\\n",
            "0    0              2                 0       0      0        NaN  NaN   \n",
            "1    0              2                 0       0      0        NaN  NaN   \n",
            "2    0              2                 0       0      0        NaN  NaN   \n",
            "3    0              2                 0       0      0        NaN  NaN   \n",
            "4    0              2                 0       0      0        NaN  NaN   \n",
            "\n",
            "   Spending Segmentation  NPS#P3M  BH_ID  \n",
            "0       NaN          NaN      NaN      1  \n",
            "1       NaN          NaN      NaN      2  \n",
            "2       NaN          NaN      NaN      3  \n",
            "3       NaN          NaN      NaN      4  \n",
            "4       NaN          NaN      NaN      5  \n",
            "       ID  Year         City      Brand  Spontaneous  Awareness  Trial  P3M  \\\n",
            "0  345853  2018  Hồ Chí Minh  Phúc Long            0          1      0    0   \n",
            "1  348403  2018  Hồ Chí Minh  Phúc Long            0          1      0    0   \n",
            "2  349552  2018  Hồ Chí Minh  Phúc Long            0          1      0    0   \n",
            "3  349764  2018  Hồ Chí Minh  Phúc Long            0          1      0    0   \n",
            "4  350072  2018  Hồ Chí Minh  Phúc Long            0          1      0    0   \n",
            "\n",
            "   P1M  Comprehension  Brand_Likability  Weekly  Daily  Fre#visit  PPA  \\\n",
            "0    0              2                 0       0      0        NaN  NaN   \n",
            "1    0              2                 0       0      0        NaN  NaN   \n",
            "2    0              2                 0       0      0        NaN  NaN   \n",
            "3    0              2                 0       0      0        NaN  NaN   \n",
            "4    0              2                 0       0      0        NaN  NaN   \n",
            "\n",
            "   Spending Segmentation  NPS#P3M  BH_ID  Brand_ID  \n",
            "0       NaN          NaN      NaN      1         6  \n",
            "1       NaN          NaN      NaN      2         6  \n",
            "2       NaN          NaN      NaN      3         6  \n",
            "3       NaN          NaN      NaN      4         6  \n",
            "4       NaN          NaN      NaN      5         6  \n",
            "       ID  Year         City  Spontaneous  Awareness  Trial  P3M  P1M  \\\n",
            "0  345853  2018  Hồ Chí Minh            0          1      0    0    0   \n",
            "1  348403  2018  Hồ Chí Minh            0          1      0    0    0   \n",
            "2  349552  2018  Hồ Chí Minh            0          1      0    0    0   \n",
            "3  349764  2018  Hồ Chí Minh            0          1      0    0    0   \n",
            "4  350072  2018  Hồ Chí Minh            0          1      0    0    0   \n",
            "\n",
            "   Comprehension  Brand_Likability  Weekly  Daily  Fre#visit  PPA  Spending  \\\n",
            "0              2                 0       0      0        NaN  NaN       NaN   \n",
            "1              2                 0       0      0        NaN  NaN       NaN   \n",
            "2              2                 0       0      0        NaN  NaN       NaN   \n",
            "3              2                 0       0      0        NaN  NaN       NaN   \n",
            "4              2                 0       0      0        NaN  NaN       NaN   \n",
            "\n",
            "  Segmentation  NPS#P3M  BH_ID  Brand_ID  City_ID  \n",
            "0          NaN      NaN      1         6        3  \n",
            "1          NaN      NaN      2         6        3  \n",
            "2          NaN      NaN      3         6        3  \n",
            "3          NaN      NaN      4         6        3  \n",
            "4          NaN      NaN      5         6        3  \n",
            "       ID  Year  Spontaneous  Awareness  Trial  P3M  P1M  Comprehension  \\\n",
            "0  345853  2018            0          1      0    0    0              2   \n",
            "1  348403  2018            0          1      0    0    0              2   \n",
            "2  349552  2018            0          1      0    0    0              2   \n",
            "3  349764  2018            0          1      0    0    0              2   \n",
            "4  350072  2018            0          1      0    0    0              2   \n",
            "\n",
            "   Brand_Likability  Weekly  Daily  Fre#visit  PPA  Spending Segmentation  \\\n",
            "0                 0       0      0        NaN  NaN       NaN          NaN   \n",
            "1                 0       0      0        NaN  NaN       NaN          NaN   \n",
            "2                 0       0      0        NaN  NaN       NaN          NaN   \n",
            "3                 0       0      0        NaN  NaN       NaN          NaN   \n",
            "4                 0       0      0        NaN  NaN       NaN          NaN   \n",
            "\n",
            "   NPS#P3M  BH_ID  Brand_ID  City_ID  Segmentation_ID  \n",
            "0      NaN      1         6        3              NaN  \n",
            "1      NaN      2         6        3              NaN  \n",
            "2      NaN      3         6        3              NaN  \n",
            "3      NaN      4         6        3              NaN  \n",
            "4      NaN      5         6        3              NaN  \n",
            "       ID  Year  Spontaneous  Awareness  Trial  P3M  P1M  Comprehension  \\\n",
            "0  345853  2018            0          1      0    0    0              2   \n",
            "1  348403  2018            0          1      0    0    0              2   \n",
            "2  349552  2018            0          1      0    0    0              2   \n",
            "3  349764  2018            0          1      0    0    0              2   \n",
            "4  350072  2018            0          1      0    0    0              2   \n",
            "\n",
            "   Brand_Likability  Weekly  Daily  Fre#visit  PPA  Spending  NPS#P3M  BH_ID  \\\n",
            "0                 0       0      0        NaN  NaN       NaN      NaN      1   \n",
            "1                 0       0      0        NaN  NaN       NaN      NaN      2   \n",
            "2                 0       0      0        NaN  NaN       NaN      NaN      3   \n",
            "3                 0       0      0        NaN  NaN       NaN      NaN      4   \n",
            "4                 0       0      0        NaN  NaN       NaN      NaN      5   \n",
            "\n",
            "   Brand_ID  City_ID  Segmentation_ID  NPS_ID  \n",
            "0         6        3              NaN     NaN  \n",
            "1         6        3              NaN     NaN  \n",
            "2         6        3              NaN     NaN  \n",
            "3         6        3              NaN     NaN  \n",
            "4         6        3              NaN     NaN  \n"
          ]
        }
      ],
      "source": [
        "##2 Fact_BrandHealth\n",
        "df_brand_health = df_BH.drop(columns=['Spending_use', 'NPS#P3M#Group'])\n",
        "df_brand_health['BH_ID'] = range(1, len(df_brand_health) + 1)\n",
        "print(df_brand_health.head())\n",
        "\n",
        "#Merge Dim_Brand with Fact_BrandHealth\n",
        "df_brand_health = df_brand_health.merge(df_dim_brand[['Brand_ID', 'Brand']], on='Brand', how='left')\n",
        "print(df_brand_health.head())\n",
        "df_brand_health.drop(columns=['Brand'], inplace=True)\n",
        "\n",
        "#Merge Dim_City with Fact_BrandHealth\n",
        "df_brand_health = df_brand_health.merge(df_dim_city[['City_ID', 'City']], on='City', how='left')\n",
        "print(df_brand_health.head())\n",
        "df_brand_health.drop(columns=['City'], inplace=True)\n",
        "\n",
        "# Merge Dim_Segmentation with Fact_BrandHealth\n",
        "df_brand_health = df_brand_health.merge(df_dim_segmentation[['Segmentation_ID', 'Segmentation']], on='Segmentation', how='left')\n",
        "print(df_brand_health.head())\n",
        "df_brand_health.drop(columns=['Segmentation'], inplace=True)\n",
        "\n",
        "# Merge Dim_NPS with Fact_BrandHealth\n",
        "df_brand_health = df_brand_health.merge(df_dim_nps[['NPS_ID', 'NPS#P3M']], on='NPS#P3M', how='left')\n",
        "print(df_brand_health.head())\n",
        "df_brand_health.drop(columns=['NPS#P3M'], inplace=True)\n"
      ]
    },
    {
      "cell_type": "code",
      "execution_count": null,
      "id": "b0233a7e",
      "metadata": {
        "colab": {
          "base_uri": "https://localhost:8080/"
        },
        "id": "b0233a7e",
        "outputId": "28410402-48f3-4712-bf53-617c82236604"
      },
      "outputs": [
        {
          "output_type": "stream",
          "name": "stdout",
          "text": [
            "       ID Companion#group  Fact_Companion_ID\n",
            "0  725466         Friends                  1\n",
            "1  726862         Friends                  2\n",
            "2  727015         Friends                  3\n",
            "3  727219         Friends                  4\n",
            "4  727611         Friends                  5\n",
            "       ID Companion#group  Fact_Companion_ID  Companion_ID\n",
            "0  725466         Friends                  1             1\n",
            "1  726862         Friends                  2             1\n",
            "2  727015         Friends                  3             1\n",
            "3  727219         Friends                  4             1\n",
            "4  727611         Friends                  5             1\n"
          ]
        }
      ],
      "source": [
        "##3 Fact_Companion\n",
        "df_fact_companion = df_cp.drop(columns=['Year', 'City'])\n",
        "df_fact_companion['Fact_Companion_ID'] = range(1, len(df_fact_companion) + 1)\n",
        "print(df_fact_companion.head())\n",
        "\n",
        "# Merge Dim_Companion with Fact_Companion\n",
        "df_fact_companion = df_fact_companion.merge(df_dim_companion, on='Companion#group', how='left')\n",
        "print(df_fact_companion.head())\n",
        "df_fact_companion.drop(columns=['Companion#group'], inplace=True)"
      ]
    },
    {
      "cell_type": "code",
      "execution_count": null,
      "id": "e90bca36",
      "metadata": {
        "colab": {
          "base_uri": "https://localhost:8080/"
        },
        "id": "e90bca36",
        "outputId": "55653820-2394-4fd3-ca1d-19e5ac250c0f"
      },
      "outputs": [
        {
          "output_type": "stream",
          "name": "stdout",
          "text": [
            "       ID        Needstate  Fact_Needstate_ID\n",
            "0  725118  Drinking coffee                  1\n",
            "1  725466  Drinking coffee                  2\n",
            "2  726561  Drinking coffee                  3\n",
            "3  726862  Drinking coffee                  4\n",
            "4  727015  Drinking coffee                  5\n",
            "       ID        Needstate  Fact_Needstate_ID  Needstate_ID\n",
            "0  725118  Drinking coffee                  1             1\n",
            "1  725466  Drinking coffee                  2             1\n",
            "2  726561  Drinking coffee                  3             1\n",
            "3  726862  Drinking coffee                  4             1\n",
            "4  727015  Drinking coffee                  5             1\n"
          ]
        }
      ],
      "source": [
        "##4 Fact_Needstate (overall)\n",
        "df_fact_needstate = df_ns[df_ns['Day#Daypart'] == 'Overall'].drop(columns=['Day#Daypart', 'NeedstateGroup', 'Year', 'City'])\n",
        "df_fact_needstate['Fact_Needstate_ID'] = range(1, len(df_fact_needstate) + 1)\n",
        "df_fact_needstate.rename(columns={'Needstates': 'Needstate'}, inplace=True)\n",
        "print(df_fact_needstate.head())\n",
        "\n",
        "# Merging Dim_Needstate with Fact_Needstate\n",
        "df_fact_needstate = df_fact_needstate.merge(\n",
        "    df_dim_needstate[['Needstate', 'Needstate_ID']],\n",
        "    on='Needstate',\n",
        "    how='left'\n",
        ")\n",
        "print(df_fact_needstate.head())\n",
        "df_fact_needstate = df_fact_needstate.drop(columns=['Needstate'])\n",
        "\n"
      ]
    },
    {
      "cell_type": "code",
      "execution_count": null,
      "id": "7c6d3d87",
      "metadata": {
        "colab": {
          "base_uri": "https://localhost:8080/"
        },
        "id": "7c6d3d87",
        "outputId": "b0ac15d7-6b6e-4a85-cbb8-7b1fbce7199b"
      },
      "outputs": [
        {
          "output_type": "stream",
          "name": "stdout",
          "text": [
            "   No#        Brand        City  Year  StoreCount\n",
            "0    6  Cộng Cà Phê   Hải Phòng  2017           1\n",
            "1    9  Cộng Cà Phê     Lào Cai  2017           1\n",
            "2   10  Cộng Cà Phê   Nha Trang  2017           1\n",
            "3   11  Cộng Cà Phê   Quảng Nam  2017           1\n",
            "4   12  Cộng Cà Phê  Quảng Ninh  2017           1\n",
            "   No#        Brand        City  Year  StoreCount  City_ID\n",
            "0    6  Cộng Cà Phê   Hải Phòng  2017           1        5\n",
            "1    9  Cộng Cà Phê     Lào Cai  2017           1        7\n",
            "2   10  Cộng Cà Phê   Nha Trang  2017           1        6\n",
            "3   11  Cộng Cà Phê   Quảng Nam  2017           1        8\n",
            "4   12  Cộng Cà Phê  Quảng Ninh  2017           1        9\n",
            "   No#        Brand  Year  StoreCount  City_ID  Brand_ID\n",
            "0    6  Cộng Cà Phê  2017           1        5        33\n",
            "1    9  Cộng Cà Phê  2017           1        7        33\n",
            "2   10  Cộng Cà Phê  2017           1        6        33\n",
            "3   11  Cộng Cà Phê  2017           1        8        33\n",
            "4   12  Cộng Cà Phê  2017           1        9        33\n"
          ]
        }
      ],
      "source": [
        "##5 Fact_StoreCount\n",
        "df_fact_store_count = df_count\n",
        "print(df_fact_store_count.head())\n",
        "\n",
        "# Merging Dim_City with Fact_StoreCount\n",
        "df_fact_store_count = df_fact_store_count.merge(\n",
        "    df_dim_city[['City', 'City_ID']],\n",
        "    on='City',\n",
        "    how='left'\n",
        ")\n",
        "print(df_fact_store_count.head())\n",
        "df_fact_store_count = df_fact_store_count.drop(columns=['City'])\n",
        "\n",
        "# Merging Dim_Brand with Fact_StoreCount\n",
        "df_fact_store_count = df_fact_store_count.merge(\n",
        "    df_dim_brand[['Brand', 'Brand_ID']],\n",
        "    on='Brand',\n",
        "    how='left'\n",
        ")\n",
        "print(df_fact_store_count.head())\n",
        "df_fact_store_count = df_fact_store_count.drop(columns=['Brand'])"
      ]
    },
    {
      "cell_type": "code",
      "source": [
        "##6 Fact_Visit_Dayofweek\n",
        "df_fact_visit_dow = df_dow.drop(columns=['Year', 'City', 'Weekday#end']).reset_index(drop=True)\n",
        "df_fact_visit_dow['Fact_Visit_Dayofweek_ID'] = range(1, len(df_fact_visit_dow) + 1)\n",
        "print(df_fact_visit_dow.head())\n",
        "\n",
        "# Merging Dim_Dayofweek with Fact_Visit_Dayofweek\n",
        "df_fact_visit_dow = df_fact_visit_dow.merge(\n",
        "    df_dim_dow[['DayofWeek_ID', 'Dayofweek']],\n",
        "    on='Dayofweek',\n",
        "    how='left'\n",
        ")\n",
        "print(df_fact_visit_dow.head())\n",
        "df_fact_visit_dow = df_fact_visit_dow.drop(columns=['Dayofweek'])"
      ],
      "metadata": {
        "colab": {
          "base_uri": "https://localhost:8080/"
        },
        "id": "IjVRfh2mcKVV",
        "outputId": "043ac722-ece7-4de0-d00a-8cfc1aaaf635"
      },
      "id": "IjVRfh2mcKVV",
      "execution_count": null,
      "outputs": [
        {
          "output_type": "stream",
          "name": "stdout",
          "text": [
            "       ID Dayofweek  Visit#Dayofweek  Fact_Visit_Dayofweek_ID\n",
            "0  344625    Monday              4.0                        1\n",
            "1  345343    Monday              4.0                        2\n",
            "2  346249    Monday              4.0                        3\n",
            "3  346725    Monday              4.0                        4\n",
            "4  346833    Monday              4.0                        5\n",
            "       ID Dayofweek  Visit#Dayofweek  Fact_Visit_Dayofweek_ID  DayofWeek_ID\n",
            "0  344625    Monday              4.0                        1             2\n",
            "1  345343    Monday              4.0                        2             2\n",
            "2  346249    Monday              4.0                        3             2\n",
            "3  346725    Monday              4.0                        4             2\n",
            "4  346833    Monday              4.0                        5             2\n"
          ]
        }
      ]
    },
    {
      "cell_type": "code",
      "source": [
        "##7 Fact_Visit_Daypart\n",
        "df_fact_visit_daypart = df_dp.drop(columns=['Year', 'City']).reset_index(drop=True)\n",
        "df_fact_visit_daypart['Fact_Visit_Daypart_ID'] = range(1, len(df_fact_visit_daypart) + 1)\n",
        "print(df_fact_visit_daypart.head())\n",
        "\n",
        "# Merging Dim_Daypart with Fact_Visit_Daypart\n",
        "df_fact_visit_daypart = df_fact_visit_daypart.merge(\n",
        "    df_dim_daypart[['Daypart_ID', 'Daypart']],\n",
        "    on='Daypart',\n",
        "    how='left'\n",
        ")\n",
        "print(df_fact_visit_daypart.head())\n",
        "df_fact_visit_daypart = df_fact_visit_daypart.drop(columns=['Daypart'])"
      ],
      "metadata": {
        "colab": {
          "base_uri": "https://localhost:8080/"
        },
        "id": "ei81K70EcLIv",
        "outputId": "8285f06d-b818-416d-f647-176527e938f5"
      },
      "id": "ei81K70EcLIv",
      "execution_count": null,
      "outputs": [
        {
          "output_type": "stream",
          "name": "stdout",
          "text": [
            "       ID             Daypart  Visit#Daypart  Fact_Visit_Daypart_ID\n",
            "0  729674  5 PM - before 9 PM            2.0                      1\n",
            "1  730472  5 PM - before 9 PM            2.0                      2\n",
            "2  732361  5 PM - before 9 PM            2.0                      3\n",
            "3  732732  5 PM - before 9 PM            2.0                      4\n",
            "4  733574  5 PM - before 9 PM            2.0                      5\n",
            "       ID             Daypart  Visit#Daypart  Fact_Visit_Daypart_ID  \\\n",
            "0  729674  5 PM - before 9 PM            2.0                      1   \n",
            "1  730472  5 PM - before 9 PM            2.0                      2   \n",
            "2  732361  5 PM - before 9 PM            2.0                      3   \n",
            "3  732732  5 PM - before 9 PM            2.0                      4   \n",
            "4  733574  5 PM - before 9 PM            2.0                      5   \n",
            "\n",
            "   Daypart_ID  \n",
            "0           1  \n",
            "1           1  \n",
            "2           1  \n",
            "3           1  \n",
            "4           1  \n"
          ]
        }
      ]
    },
    {
      "cell_type": "markdown",
      "id": "f3074e2f",
      "metadata": {
        "id": "f3074e2f"
      },
      "source": [
        "## Load"
      ]
    },
    {
      "cell_type": "code",
      "execution_count": null,
      "id": "d3ecc6f3",
      "metadata": {
        "id": "d3ecc6f3"
      },
      "outputs": [],
      "source": [
        "df_fact_brand_image.to_csv('Fact_BrandImage.csv', sep=';', index=False)\n",
        "df_brand_health.to_csv('Fact_BrandHealth.csv', sep=';', index=False)\n",
        "df_fact_companion.to_csv('Fact_Companion.csv', sep=';', index=False)\n",
        "df_fact_needstate.to_csv('Fact_Needstate.csv', sep=';', index=False)\n",
        "df_fact_store_count.to_csv('Fact_StoreCount.csv', sep=';', index=False)\n",
        "df_dim_dow.to_csv('Dim_Dayofweek.csv', sep=';', index=False)\n",
        "df_dim_daypart.to_csv('Dim_Daypart.csv', sep=';', index=False)\n",
        "df_dim_year.to_csv('Dim_Year.csv', sep=';', index=False)\n",
        "df_dim_city.to_csv('Dim_City.csv', sep=';', index=False)\n",
        "df_dim_customer.to_csv('Dim_Customer.csv', sep=';', index=False)\n",
        "df_dim_brand.to_csv('Dim_Brand.csv', sep=';', index=False)\n",
        "df_dim_needstate.to_csv('Dim_Needstate.csv', sep=';', index=False)\n",
        "df_dim_companion.to_csv('Dim_Companion.csv', sep=';', index=False)\n",
        "df_dim_nps.to_csv('Dim_NPS.csv', sep=';', index=False)\n",
        "df_dim_segmentation.to_csv('Dim_Segmentation.csv', sep=';', index=False)"
      ]
    },
    {
      "cell_type": "code",
      "source": [
        "df_fact_visit_dow.to_csv('Fact_Visit_Dayofweek.csv', sep=';', index=False)\n",
        "df_fact_visit_daypart.to_csv('Fact_Visit_Daypart.csv', sep=';', index=False)"
      ],
      "metadata": {
        "id": "fbB368aMcS0Y"
      },
      "id": "fbB368aMcS0Y",
      "execution_count": null,
      "outputs": []
    }
  ],
  "metadata": {
    "kernelspec": {
      "display_name": "tma",
      "language": "python",
      "name": "python3"
    },
    "language_info": {
      "codemirror_mode": {
        "name": "ipython",
        "version": 3
      },
      "file_extension": ".py",
      "mimetype": "text/x-python",
      "name": "python",
      "nbconvert_exporter": "python",
      "pygments_lexer": "ipython3",
      "version": "3.11.11"
    },
    "colab": {
      "provenance": []
    }
  },
  "nbformat": 4,
  "nbformat_minor": 5
}