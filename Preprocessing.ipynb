{
  "nbformat": 4,
  "nbformat_minor": 0,
  "metadata": {
    "colab": {
      "provenance": []
    },
    "kernelspec": {
      "name": "python3",
      "display_name": "Python 3"
    },
    "language_info": {
      "name": "python"
    }
  },
  "cells": [
    {
      "cell_type": "code",
      "execution_count": null,
      "metadata": {
        "id": "p-oBGk8BAYiN"
      },
      "outputs": [],
      "source": [
        "import matplotlib.pyplot as plt\n",
        "import seaborn as sns\n",
        "import numpy as np\n",
        "import pandas as pd\n",
        "import csv"
      ]
    },
    {
      "cell_type": "markdown",
      "source": [
        "#Bảng Segmentation\n"
      ],
      "metadata": {
        "id": "Kf0VntIML_b-"
      }
    },
    {
      "cell_type": "code",
      "source": [
        "Segmentation = pd.read_csv('/content/2017Segmentation3685case.csv',sep=\";\" )"
      ],
      "metadata": {
        "id": "hGqtuJB2Axo-"
      },
      "execution_count": null,
      "outputs": []
    },
    {
      "cell_type": "code",
      "source": [
        "Segmentation.info()"
      ],
      "metadata": {
        "colab": {
          "base_uri": "https://localhost:8080/"
        },
        "id": "Gt6rHQtOA6Kd",
        "outputId": "e1c09d5a-f84b-4a5b-e07a-645aa9676ae2"
      },
      "execution_count": null,
      "outputs": [
        {
          "output_type": "stream",
          "name": "stdout",
          "text": [
            "<class 'pandas.core.frame.DataFrame'>\n",
            "RangeIndex: 4944 entries, 0 to 4943\n",
            "Data columns (total 6 columns):\n",
            " #   Column        Non-Null Count  Dtype \n",
            "---  ------        --------------  ----- \n",
            " 0   ID            4944 non-null   int64 \n",
            " 1   Segmentation  4944 non-null   object\n",
            " 2   Visit         4944 non-null   int64 \n",
            " 3   Spending      4944 non-null   int64 \n",
            " 4   Brand         4944 non-null   object\n",
            " 5   PPA           4944 non-null   int64 \n",
            "dtypes: int64(4), object(2)\n",
            "memory usage: 231.9+ KB\n"
          ]
        }
      ]
    },
    {
      "cell_type": "code",
      "source": [
        "Segmentation.head()"
      ],
      "metadata": {
        "colab": {
          "base_uri": "https://localhost:8080/",
          "height": 206
        },
        "id": "SUflz5N2BtPG",
        "outputId": "bdd809d3-cf49-4e8a-f2ce-c9d3948fd654"
      },
      "execution_count": null,
      "outputs": [
        {
          "output_type": "execute_result",
          "data": {
            "text/plain": [
              "       ID                           Segmentation  Visit  Spending  \\\n",
              "0   92316  Seg.02 - Mass Asp (VND 25K - VND 59K)      4       120   \n",
              "1   96307  Seg.02 - Mass Asp (VND 25K - VND 59K)      4       120   \n",
              "2  105678  Seg.02 - Mass Asp (VND 25K - VND 59K)      4       120   \n",
              "3  106554  Seg.02 - Mass Asp (VND 25K - VND 59K)      4       120   \n",
              "4  106555  Seg.02 - Mass Asp (VND 25K - VND 59K)      4       120   \n",
              "\n",
              "          Brand  PPA  \n",
              "0  Indepentdent   30  \n",
              "1  Indepentdent   30  \n",
              "2  Indepentdent   30  \n",
              "3  Indepentdent   30  \n",
              "4  Indepentdent   30  "
            ],
            "text/html": [
              "\n",
              "  <div id=\"df-9451591b-07b6-4a8a-9fe2-f7e777a56c43\" class=\"colab-df-container\">\n",
              "    <div>\n",
              "<style scoped>\n",
              "    .dataframe tbody tr th:only-of-type {\n",
              "        vertical-align: middle;\n",
              "    }\n",
              "\n",
              "    .dataframe tbody tr th {\n",
              "        vertical-align: top;\n",
              "    }\n",
              "\n",
              "    .dataframe thead th {\n",
              "        text-align: right;\n",
              "    }\n",
              "</style>\n",
              "<table border=\"1\" class=\"dataframe\">\n",
              "  <thead>\n",
              "    <tr style=\"text-align: right;\">\n",
              "      <th></th>\n",
              "      <th>ID</th>\n",
              "      <th>Segmentation</th>\n",
              "      <th>Visit</th>\n",
              "      <th>Spending</th>\n",
              "      <th>Brand</th>\n",
              "      <th>PPA</th>\n",
              "    </tr>\n",
              "  </thead>\n",
              "  <tbody>\n",
              "    <tr>\n",
              "      <th>0</th>\n",
              "      <td>92316</td>\n",
              "      <td>Seg.02 - Mass Asp (VND 25K - VND 59K)</td>\n",
              "      <td>4</td>\n",
              "      <td>120</td>\n",
              "      <td>Indepentdent</td>\n",
              "      <td>30</td>\n",
              "    </tr>\n",
              "    <tr>\n",
              "      <th>1</th>\n",
              "      <td>96307</td>\n",
              "      <td>Seg.02 - Mass Asp (VND 25K - VND 59K)</td>\n",
              "      <td>4</td>\n",
              "      <td>120</td>\n",
              "      <td>Indepentdent</td>\n",
              "      <td>30</td>\n",
              "    </tr>\n",
              "    <tr>\n",
              "      <th>2</th>\n",
              "      <td>105678</td>\n",
              "      <td>Seg.02 - Mass Asp (VND 25K - VND 59K)</td>\n",
              "      <td>4</td>\n",
              "      <td>120</td>\n",
              "      <td>Indepentdent</td>\n",
              "      <td>30</td>\n",
              "    </tr>\n",
              "    <tr>\n",
              "      <th>3</th>\n",
              "      <td>106554</td>\n",
              "      <td>Seg.02 - Mass Asp (VND 25K - VND 59K)</td>\n",
              "      <td>4</td>\n",
              "      <td>120</td>\n",
              "      <td>Indepentdent</td>\n",
              "      <td>30</td>\n",
              "    </tr>\n",
              "    <tr>\n",
              "      <th>4</th>\n",
              "      <td>106555</td>\n",
              "      <td>Seg.02 - Mass Asp (VND 25K - VND 59K)</td>\n",
              "      <td>4</td>\n",
              "      <td>120</td>\n",
              "      <td>Indepentdent</td>\n",
              "      <td>30</td>\n",
              "    </tr>\n",
              "  </tbody>\n",
              "</table>\n",
              "</div>\n",
              "    <div class=\"colab-df-buttons\">\n",
              "\n",
              "  <div class=\"colab-df-container\">\n",
              "    <button class=\"colab-df-convert\" onclick=\"convertToInteractive('df-9451591b-07b6-4a8a-9fe2-f7e777a56c43')\"\n",
              "            title=\"Convert this dataframe to an interactive table.\"\n",
              "            style=\"display:none;\">\n",
              "\n",
              "  <svg xmlns=\"http://www.w3.org/2000/svg\" height=\"24px\" viewBox=\"0 -960 960 960\">\n",
              "    <path d=\"M120-120v-720h720v720H120Zm60-500h600v-160H180v160Zm220 220h160v-160H400v160Zm0 220h160v-160H400v160ZM180-400h160v-160H180v160Zm440 0h160v-160H620v160ZM180-180h160v-160H180v160Zm440 0h160v-160H620v160Z\"/>\n",
              "  </svg>\n",
              "    </button>\n",
              "\n",
              "  <style>\n",
              "    .colab-df-container {\n",
              "      display:flex;\n",
              "      gap: 12px;\n",
              "    }\n",
              "\n",
              "    .colab-df-convert {\n",
              "      background-color: #E8F0FE;\n",
              "      border: none;\n",
              "      border-radius: 50%;\n",
              "      cursor: pointer;\n",
              "      display: none;\n",
              "      fill: #1967D2;\n",
              "      height: 32px;\n",
              "      padding: 0 0 0 0;\n",
              "      width: 32px;\n",
              "    }\n",
              "\n",
              "    .colab-df-convert:hover {\n",
              "      background-color: #E2EBFA;\n",
              "      box-shadow: 0px 1px 2px rgba(60, 64, 67, 0.3), 0px 1px 3px 1px rgba(60, 64, 67, 0.15);\n",
              "      fill: #174EA6;\n",
              "    }\n",
              "\n",
              "    .colab-df-buttons div {\n",
              "      margin-bottom: 4px;\n",
              "    }\n",
              "\n",
              "    [theme=dark] .colab-df-convert {\n",
              "      background-color: #3B4455;\n",
              "      fill: #D2E3FC;\n",
              "    }\n",
              "\n",
              "    [theme=dark] .colab-df-convert:hover {\n",
              "      background-color: #434B5C;\n",
              "      box-shadow: 0px 1px 3px 1px rgba(0, 0, 0, 0.15);\n",
              "      filter: drop-shadow(0px 1px 2px rgba(0, 0, 0, 0.3));\n",
              "      fill: #FFFFFF;\n",
              "    }\n",
              "  </style>\n",
              "\n",
              "    <script>\n",
              "      const buttonEl =\n",
              "        document.querySelector('#df-9451591b-07b6-4a8a-9fe2-f7e777a56c43 button.colab-df-convert');\n",
              "      buttonEl.style.display =\n",
              "        google.colab.kernel.accessAllowed ? 'block' : 'none';\n",
              "\n",
              "      async function convertToInteractive(key) {\n",
              "        const element = document.querySelector('#df-9451591b-07b6-4a8a-9fe2-f7e777a56c43');\n",
              "        const dataTable =\n",
              "          await google.colab.kernel.invokeFunction('convertToInteractive',\n",
              "                                                    [key], {});\n",
              "        if (!dataTable) return;\n",
              "\n",
              "        const docLinkHtml = 'Like what you see? Visit the ' +\n",
              "          '<a target=\"_blank\" href=https://colab.research.google.com/notebooks/data_table.ipynb>data table notebook</a>'\n",
              "          + ' to learn more about interactive tables.';\n",
              "        element.innerHTML = '';\n",
              "        dataTable['output_type'] = 'display_data';\n",
              "        await google.colab.output.renderOutput(dataTable, element);\n",
              "        const docLink = document.createElement('div');\n",
              "        docLink.innerHTML = docLinkHtml;\n",
              "        element.appendChild(docLink);\n",
              "      }\n",
              "    </script>\n",
              "  </div>\n",
              "\n",
              "\n",
              "    <div id=\"df-bc4bb00f-aebd-4468-8685-f337203d0cb7\">\n",
              "      <button class=\"colab-df-quickchart\" onclick=\"quickchart('df-bc4bb00f-aebd-4468-8685-f337203d0cb7')\"\n",
              "                title=\"Suggest charts\"\n",
              "                style=\"display:none;\">\n",
              "\n",
              "<svg xmlns=\"http://www.w3.org/2000/svg\" height=\"24px\"viewBox=\"0 0 24 24\"\n",
              "     width=\"24px\">\n",
              "    <g>\n",
              "        <path d=\"M19 3H5c-1.1 0-2 .9-2 2v14c0 1.1.9 2 2 2h14c1.1 0 2-.9 2-2V5c0-1.1-.9-2-2-2zM9 17H7v-7h2v7zm4 0h-2V7h2v10zm4 0h-2v-4h2v4z\"/>\n",
              "    </g>\n",
              "</svg>\n",
              "      </button>\n",
              "\n",
              "<style>\n",
              "  .colab-df-quickchart {\n",
              "      --bg-color: #E8F0FE;\n",
              "      --fill-color: #1967D2;\n",
              "      --hover-bg-color: #E2EBFA;\n",
              "      --hover-fill-color: #174EA6;\n",
              "      --disabled-fill-color: #AAA;\n",
              "      --disabled-bg-color: #DDD;\n",
              "  }\n",
              "\n",
              "  [theme=dark] .colab-df-quickchart {\n",
              "      --bg-color: #3B4455;\n",
              "      --fill-color: #D2E3FC;\n",
              "      --hover-bg-color: #434B5C;\n",
              "      --hover-fill-color: #FFFFFF;\n",
              "      --disabled-bg-color: #3B4455;\n",
              "      --disabled-fill-color: #666;\n",
              "  }\n",
              "\n",
              "  .colab-df-quickchart {\n",
              "    background-color: var(--bg-color);\n",
              "    border: none;\n",
              "    border-radius: 50%;\n",
              "    cursor: pointer;\n",
              "    display: none;\n",
              "    fill: var(--fill-color);\n",
              "    height: 32px;\n",
              "    padding: 0;\n",
              "    width: 32px;\n",
              "  }\n",
              "\n",
              "  .colab-df-quickchart:hover {\n",
              "    background-color: var(--hover-bg-color);\n",
              "    box-shadow: 0 1px 2px rgba(60, 64, 67, 0.3), 0 1px 3px 1px rgba(60, 64, 67, 0.15);\n",
              "    fill: var(--button-hover-fill-color);\n",
              "  }\n",
              "\n",
              "  .colab-df-quickchart-complete:disabled,\n",
              "  .colab-df-quickchart-complete:disabled:hover {\n",
              "    background-color: var(--disabled-bg-color);\n",
              "    fill: var(--disabled-fill-color);\n",
              "    box-shadow: none;\n",
              "  }\n",
              "\n",
              "  .colab-df-spinner {\n",
              "    border: 2px solid var(--fill-color);\n",
              "    border-color: transparent;\n",
              "    border-bottom-color: var(--fill-color);\n",
              "    animation:\n",
              "      spin 1s steps(1) infinite;\n",
              "  }\n",
              "\n",
              "  @keyframes spin {\n",
              "    0% {\n",
              "      border-color: transparent;\n",
              "      border-bottom-color: var(--fill-color);\n",
              "      border-left-color: var(--fill-color);\n",
              "    }\n",
              "    20% {\n",
              "      border-color: transparent;\n",
              "      border-left-color: var(--fill-color);\n",
              "      border-top-color: var(--fill-color);\n",
              "    }\n",
              "    30% {\n",
              "      border-color: transparent;\n",
              "      border-left-color: var(--fill-color);\n",
              "      border-top-color: var(--fill-color);\n",
              "      border-right-color: var(--fill-color);\n",
              "    }\n",
              "    40% {\n",
              "      border-color: transparent;\n",
              "      border-right-color: var(--fill-color);\n",
              "      border-top-color: var(--fill-color);\n",
              "    }\n",
              "    60% {\n",
              "      border-color: transparent;\n",
              "      border-right-color: var(--fill-color);\n",
              "    }\n",
              "    80% {\n",
              "      border-color: transparent;\n",
              "      border-right-color: var(--fill-color);\n",
              "      border-bottom-color: var(--fill-color);\n",
              "    }\n",
              "    90% {\n",
              "      border-color: transparent;\n",
              "      border-bottom-color: var(--fill-color);\n",
              "    }\n",
              "  }\n",
              "</style>\n",
              "\n",
              "      <script>\n",
              "        async function quickchart(key) {\n",
              "          const quickchartButtonEl =\n",
              "            document.querySelector('#' + key + ' button');\n",
              "          quickchartButtonEl.disabled = true;  // To prevent multiple clicks.\n",
              "          quickchartButtonEl.classList.add('colab-df-spinner');\n",
              "          try {\n",
              "            const charts = await google.colab.kernel.invokeFunction(\n",
              "                'suggestCharts', [key], {});\n",
              "          } catch (error) {\n",
              "            console.error('Error during call to suggestCharts:', error);\n",
              "          }\n",
              "          quickchartButtonEl.classList.remove('colab-df-spinner');\n",
              "          quickchartButtonEl.classList.add('colab-df-quickchart-complete');\n",
              "        }\n",
              "        (() => {\n",
              "          let quickchartButtonEl =\n",
              "            document.querySelector('#df-bc4bb00f-aebd-4468-8685-f337203d0cb7 button');\n",
              "          quickchartButtonEl.style.display =\n",
              "            google.colab.kernel.accessAllowed ? 'block' : 'none';\n",
              "        })();\n",
              "      </script>\n",
              "    </div>\n",
              "\n",
              "    </div>\n",
              "  </div>\n"
            ],
            "application/vnd.google.colaboratory.intrinsic+json": {
              "type": "dataframe",
              "variable_name": "Segmentation",
              "summary": "{\n  \"name\": \"Segmentation\",\n  \"rows\": 4944,\n  \"fields\": [\n    {\n      \"column\": \"ID\",\n      \"properties\": {\n        \"dtype\": \"number\",\n        \"std\": 14200,\n        \"min\": 89100,\n        \"max\": 142479,\n        \"num_unique_values\": 3676,\n        \"samples\": [\n          134833,\n          95723,\n          111879\n        ],\n        \"semantic_type\": \"\",\n        \"description\": \"\"\n      }\n    },\n    {\n      \"column\": \"Segmentation\",\n      \"properties\": {\n        \"dtype\": \"category\",\n        \"num_unique_values\": 4,\n        \"samples\": [\n          \"Seg.01 - Mass (<VND 25K)\",\n          \"Seg.03 - Premium (VND 60K - VND 99K)\",\n          \"Seg.02 - Mass Asp (VND 25K - VND 59K)\"\n        ],\n        \"semantic_type\": \"\",\n        \"description\": \"\"\n      }\n    },\n    {\n      \"column\": \"Visit\",\n      \"properties\": {\n        \"dtype\": \"number\",\n        \"std\": 11,\n        \"min\": 1,\n        \"max\": 120,\n        \"num_unique_values\": 49,\n        \"samples\": [\n          15,\n          32,\n          33\n        ],\n        \"semantic_type\": \"\",\n        \"description\": \"\"\n      }\n    },\n    {\n      \"column\": \"Spending\",\n      \"properties\": {\n        \"dtype\": \"number\",\n        \"std\": 208,\n        \"min\": 6,\n        \"max\": 2500,\n        \"num_unique_values\": 225,\n        \"samples\": [\n          40,\n          161,\n          245\n        ],\n        \"semantic_type\": \"\",\n        \"description\": \"\"\n      }\n    },\n    {\n      \"column\": \"Brand\",\n      \"properties\": {\n        \"dtype\": \"category\",\n        \"num_unique_values\": 3,\n        \"samples\": [\n          \"Indepentdent\",\n          \"Chain\",\n          \"Street\"\n        ],\n        \"semantic_type\": \"\",\n        \"description\": \"\"\n      }\n    },\n    {\n      \"column\": \"PPA\",\n      \"properties\": {\n        \"dtype\": \"number\",\n        \"std\": 17,\n        \"min\": 5,\n        \"max\": 100,\n        \"num_unique_values\": 56,\n        \"samples\": [\n          30,\n          100,\n          69\n        ],\n        \"semantic_type\": \"\",\n        \"description\": \"\"\n      }\n    }\n  ]\n}"
            }
          },
          "metadata": {},
          "execution_count": 6
        }
      ]
    },
    {
      "cell_type": "code",
      "source": [
        "print(Segmentation.nunique())"
      ],
      "metadata": {
        "colab": {
          "base_uri": "https://localhost:8080/"
        },
        "id": "cT8nDCI-Jh1o",
        "outputId": "0585c7dc-5c94-4340-e78d-dd3b13d5e919"
      },
      "execution_count": null,
      "outputs": [
        {
          "output_type": "stream",
          "name": "stdout",
          "text": [
            "ID              3676\n",
            "Segmentation       4\n",
            "Visit             49\n",
            "Spending         225\n",
            "Brand              3\n",
            "PPA               56\n",
            "dtype: int64\n"
          ]
        }
      ]
    },
    {
      "cell_type": "code",
      "source": [
        "Segmentation.isnull().sum()"
      ],
      "metadata": {
        "colab": {
          "base_uri": "https://localhost:8080/",
          "height": 272
        },
        "id": "KEedcx9Khmcy",
        "outputId": "9fb020ee-788f-4e51-b05c-2ed05f1deafb"
      },
      "execution_count": null,
      "outputs": [
        {
          "output_type": "execute_result",
          "data": {
            "text/plain": [
              "ID              0\n",
              "Segmentation    0\n",
              "Visit           0\n",
              "Spending        0\n",
              "Brand           0\n",
              "PPA             0\n",
              "dtype: int64"
            ],
            "text/html": [
              "<div>\n",
              "<style scoped>\n",
              "    .dataframe tbody tr th:only-of-type {\n",
              "        vertical-align: middle;\n",
              "    }\n",
              "\n",
              "    .dataframe tbody tr th {\n",
              "        vertical-align: top;\n",
              "    }\n",
              "\n",
              "    .dataframe thead th {\n",
              "        text-align: right;\n",
              "    }\n",
              "</style>\n",
              "<table border=\"1\" class=\"dataframe\">\n",
              "  <thead>\n",
              "    <tr style=\"text-align: right;\">\n",
              "      <th></th>\n",
              "      <th>0</th>\n",
              "    </tr>\n",
              "  </thead>\n",
              "  <tbody>\n",
              "    <tr>\n",
              "      <th>ID</th>\n",
              "      <td>0</td>\n",
              "    </tr>\n",
              "    <tr>\n",
              "      <th>Segmentation</th>\n",
              "      <td>0</td>\n",
              "    </tr>\n",
              "    <tr>\n",
              "      <th>Visit</th>\n",
              "      <td>0</td>\n",
              "    </tr>\n",
              "    <tr>\n",
              "      <th>Spending</th>\n",
              "      <td>0</td>\n",
              "    </tr>\n",
              "    <tr>\n",
              "      <th>Brand</th>\n",
              "      <td>0</td>\n",
              "    </tr>\n",
              "    <tr>\n",
              "      <th>PPA</th>\n",
              "      <td>0</td>\n",
              "    </tr>\n",
              "  </tbody>\n",
              "</table>\n",
              "</div><br><label><b>dtype:</b> int64</label>"
            ]
          },
          "metadata": {},
          "execution_count": 8
        }
      ]
    },
    {
      "cell_type": "markdown",
      "source": [
        "##In các giá trị unique trong Segmentation để xác định xem có lỗi Logic không"
      ],
      "metadata": {
        "id": "KOnV8-HoLltf"
      }
    },
    {
      "cell_type": "markdown",
      "source": [
        "#Bảng Brand_image\n"
      ],
      "metadata": {
        "id": "6pmu8eA-fkpT"
      }
    },
    {
      "cell_type": "code",
      "source": [
        "Brand_Image = pd.read_csv('/content/Brand_Image.csv',sep=\";\" )"
      ],
      "metadata": {
        "id": "rF_zKxXqfoeZ"
      },
      "execution_count": null,
      "outputs": []
    },
    {
      "cell_type": "code",
      "source": [
        "Brand_Image.info()"
      ],
      "metadata": {
        "colab": {
          "base_uri": "https://localhost:8080/"
        },
        "id": "QU8EncFqfzyB",
        "outputId": "9eaa96ec-6c02-4130-9ca6-da2ac02abd65"
      },
      "execution_count": null,
      "outputs": [
        {
          "output_type": "stream",
          "name": "stdout",
          "text": [
            "<class 'pandas.core.frame.DataFrame'>\n",
            "RangeIndex: 643072 entries, 0 to 643071\n",
            "Data columns (total 6 columns):\n",
            " #   Column      Non-Null Count   Dtype \n",
            "---  ------      --------------   ----- \n",
            " 0   ID          643072 non-null  int64 \n",
            " 1   Year        643072 non-null  int64 \n",
            " 2   City        643072 non-null  object\n",
            " 3   Awareness   642675 non-null  object\n",
            " 4   Attribute   643072 non-null  object\n",
            " 5   BrandImage  643072 non-null  object\n",
            "dtypes: int64(2), object(4)\n",
            "memory usage: 29.4+ MB\n"
          ]
        }
      ]
    },
    {
      "cell_type": "code",
      "source": [
        "Brand_Image.head()"
      ],
      "metadata": {
        "colab": {
          "base_uri": "https://localhost:8080/",
          "height": 206
        },
        "id": "uOlMRPkRf4J5",
        "outputId": "4d5dbe41-12a8-4f4d-aa00-13bb20aa18b1"
      },
      "execution_count": null,
      "outputs": [
        {
          "output_type": "execute_result",
          "data": {
            "text/plain": [
              "       ID  Year    City         Awareness      Attribute        BrandImage\n",
              "0  725118  2019  Hà Nội  Highlands Coffee  Popular brand  Highlands Coffee\n",
              "1  725466  2019  Hà Nội  Highlands Coffee  Popular brand  Highlands Coffee\n",
              "2  726561  2019  Hà Nội  Highlands Coffee  Popular brand  Highlands Coffee\n",
              "3  726862  2019  Hà Nội  Highlands Coffee  Popular brand  Highlands Coffee\n",
              "4  727219  2019  Hà Nội  Highlands Coffee  Popular brand  Highlands Coffee"
            ],
            "text/html": [
              "\n",
              "  <div id=\"df-872ca7ca-fb7d-4e16-951b-186d4cb1c629\" class=\"colab-df-container\">\n",
              "    <div>\n",
              "<style scoped>\n",
              "    .dataframe tbody tr th:only-of-type {\n",
              "        vertical-align: middle;\n",
              "    }\n",
              "\n",
              "    .dataframe tbody tr th {\n",
              "        vertical-align: top;\n",
              "    }\n",
              "\n",
              "    .dataframe thead th {\n",
              "        text-align: right;\n",
              "    }\n",
              "</style>\n",
              "<table border=\"1\" class=\"dataframe\">\n",
              "  <thead>\n",
              "    <tr style=\"text-align: right;\">\n",
              "      <th></th>\n",
              "      <th>ID</th>\n",
              "      <th>Year</th>\n",
              "      <th>City</th>\n",
              "      <th>Awareness</th>\n",
              "      <th>Attribute</th>\n",
              "      <th>BrandImage</th>\n",
              "    </tr>\n",
              "  </thead>\n",
              "  <tbody>\n",
              "    <tr>\n",
              "      <th>0</th>\n",
              "      <td>725118</td>\n",
              "      <td>2019</td>\n",
              "      <td>Hà Nội</td>\n",
              "      <td>Highlands Coffee</td>\n",
              "      <td>Popular brand</td>\n",
              "      <td>Highlands Coffee</td>\n",
              "    </tr>\n",
              "    <tr>\n",
              "      <th>1</th>\n",
              "      <td>725466</td>\n",
              "      <td>2019</td>\n",
              "      <td>Hà Nội</td>\n",
              "      <td>Highlands Coffee</td>\n",
              "      <td>Popular brand</td>\n",
              "      <td>Highlands Coffee</td>\n",
              "    </tr>\n",
              "    <tr>\n",
              "      <th>2</th>\n",
              "      <td>726561</td>\n",
              "      <td>2019</td>\n",
              "      <td>Hà Nội</td>\n",
              "      <td>Highlands Coffee</td>\n",
              "      <td>Popular brand</td>\n",
              "      <td>Highlands Coffee</td>\n",
              "    </tr>\n",
              "    <tr>\n",
              "      <th>3</th>\n",
              "      <td>726862</td>\n",
              "      <td>2019</td>\n",
              "      <td>Hà Nội</td>\n",
              "      <td>Highlands Coffee</td>\n",
              "      <td>Popular brand</td>\n",
              "      <td>Highlands Coffee</td>\n",
              "    </tr>\n",
              "    <tr>\n",
              "      <th>4</th>\n",
              "      <td>727219</td>\n",
              "      <td>2019</td>\n",
              "      <td>Hà Nội</td>\n",
              "      <td>Highlands Coffee</td>\n",
              "      <td>Popular brand</td>\n",
              "      <td>Highlands Coffee</td>\n",
              "    </tr>\n",
              "  </tbody>\n",
              "</table>\n",
              "</div>\n",
              "    <div class=\"colab-df-buttons\">\n",
              "\n",
              "  <div class=\"colab-df-container\">\n",
              "    <button class=\"colab-df-convert\" onclick=\"convertToInteractive('df-872ca7ca-fb7d-4e16-951b-186d4cb1c629')\"\n",
              "            title=\"Convert this dataframe to an interactive table.\"\n",
              "            style=\"display:none;\">\n",
              "\n",
              "  <svg xmlns=\"http://www.w3.org/2000/svg\" height=\"24px\" viewBox=\"0 -960 960 960\">\n",
              "    <path d=\"M120-120v-720h720v720H120Zm60-500h600v-160H180v160Zm220 220h160v-160H400v160Zm0 220h160v-160H400v160ZM180-400h160v-160H180v160Zm440 0h160v-160H620v160ZM180-180h160v-160H180v160Zm440 0h160v-160H620v160Z\"/>\n",
              "  </svg>\n",
              "    </button>\n",
              "\n",
              "  <style>\n",
              "    .colab-df-container {\n",
              "      display:flex;\n",
              "      gap: 12px;\n",
              "    }\n",
              "\n",
              "    .colab-df-convert {\n",
              "      background-color: #E8F0FE;\n",
              "      border: none;\n",
              "      border-radius: 50%;\n",
              "      cursor: pointer;\n",
              "      display: none;\n",
              "      fill: #1967D2;\n",
              "      height: 32px;\n",
              "      padding: 0 0 0 0;\n",
              "      width: 32px;\n",
              "    }\n",
              "\n",
              "    .colab-df-convert:hover {\n",
              "      background-color: #E2EBFA;\n",
              "      box-shadow: 0px 1px 2px rgba(60, 64, 67, 0.3), 0px 1px 3px 1px rgba(60, 64, 67, 0.15);\n",
              "      fill: #174EA6;\n",
              "    }\n",
              "\n",
              "    .colab-df-buttons div {\n",
              "      margin-bottom: 4px;\n",
              "    }\n",
              "\n",
              "    [theme=dark] .colab-df-convert {\n",
              "      background-color: #3B4455;\n",
              "      fill: #D2E3FC;\n",
              "    }\n",
              "\n",
              "    [theme=dark] .colab-df-convert:hover {\n",
              "      background-color: #434B5C;\n",
              "      box-shadow: 0px 1px 3px 1px rgba(0, 0, 0, 0.15);\n",
              "      filter: drop-shadow(0px 1px 2px rgba(0, 0, 0, 0.3));\n",
              "      fill: #FFFFFF;\n",
              "    }\n",
              "  </style>\n",
              "\n",
              "    <script>\n",
              "      const buttonEl =\n",
              "        document.querySelector('#df-872ca7ca-fb7d-4e16-951b-186d4cb1c629 button.colab-df-convert');\n",
              "      buttonEl.style.display =\n",
              "        google.colab.kernel.accessAllowed ? 'block' : 'none';\n",
              "\n",
              "      async function convertToInteractive(key) {\n",
              "        const element = document.querySelector('#df-872ca7ca-fb7d-4e16-951b-186d4cb1c629');\n",
              "        const dataTable =\n",
              "          await google.colab.kernel.invokeFunction('convertToInteractive',\n",
              "                                                    [key], {});\n",
              "        if (!dataTable) return;\n",
              "\n",
              "        const docLinkHtml = 'Like what you see? Visit the ' +\n",
              "          '<a target=\"_blank\" href=https://colab.research.google.com/notebooks/data_table.ipynb>data table notebook</a>'\n",
              "          + ' to learn more about interactive tables.';\n",
              "        element.innerHTML = '';\n",
              "        dataTable['output_type'] = 'display_data';\n",
              "        await google.colab.output.renderOutput(dataTable, element);\n",
              "        const docLink = document.createElement('div');\n",
              "        docLink.innerHTML = docLinkHtml;\n",
              "        element.appendChild(docLink);\n",
              "      }\n",
              "    </script>\n",
              "  </div>\n",
              "\n",
              "\n",
              "    <div id=\"df-67336caa-0569-4abc-b088-b226333f25b9\">\n",
              "      <button class=\"colab-df-quickchart\" onclick=\"quickchart('df-67336caa-0569-4abc-b088-b226333f25b9')\"\n",
              "                title=\"Suggest charts\"\n",
              "                style=\"display:none;\">\n",
              "\n",
              "<svg xmlns=\"http://www.w3.org/2000/svg\" height=\"24px\"viewBox=\"0 0 24 24\"\n",
              "     width=\"24px\">\n",
              "    <g>\n",
              "        <path d=\"M19 3H5c-1.1 0-2 .9-2 2v14c0 1.1.9 2 2 2h14c1.1 0 2-.9 2-2V5c0-1.1-.9-2-2-2zM9 17H7v-7h2v7zm4 0h-2V7h2v10zm4 0h-2v-4h2v4z\"/>\n",
              "    </g>\n",
              "</svg>\n",
              "      </button>\n",
              "\n",
              "<style>\n",
              "  .colab-df-quickchart {\n",
              "      --bg-color: #E8F0FE;\n",
              "      --fill-color: #1967D2;\n",
              "      --hover-bg-color: #E2EBFA;\n",
              "      --hover-fill-color: #174EA6;\n",
              "      --disabled-fill-color: #AAA;\n",
              "      --disabled-bg-color: #DDD;\n",
              "  }\n",
              "\n",
              "  [theme=dark] .colab-df-quickchart {\n",
              "      --bg-color: #3B4455;\n",
              "      --fill-color: #D2E3FC;\n",
              "      --hover-bg-color: #434B5C;\n",
              "      --hover-fill-color: #FFFFFF;\n",
              "      --disabled-bg-color: #3B4455;\n",
              "      --disabled-fill-color: #666;\n",
              "  }\n",
              "\n",
              "  .colab-df-quickchart {\n",
              "    background-color: var(--bg-color);\n",
              "    border: none;\n",
              "    border-radius: 50%;\n",
              "    cursor: pointer;\n",
              "    display: none;\n",
              "    fill: var(--fill-color);\n",
              "    height: 32px;\n",
              "    padding: 0;\n",
              "    width: 32px;\n",
              "  }\n",
              "\n",
              "  .colab-df-quickchart:hover {\n",
              "    background-color: var(--hover-bg-color);\n",
              "    box-shadow: 0 1px 2px rgba(60, 64, 67, 0.3), 0 1px 3px 1px rgba(60, 64, 67, 0.15);\n",
              "    fill: var(--button-hover-fill-color);\n",
              "  }\n",
              "\n",
              "  .colab-df-quickchart-complete:disabled,\n",
              "  .colab-df-quickchart-complete:disabled:hover {\n",
              "    background-color: var(--disabled-bg-color);\n",
              "    fill: var(--disabled-fill-color);\n",
              "    box-shadow: none;\n",
              "  }\n",
              "\n",
              "  .colab-df-spinner {\n",
              "    border: 2px solid var(--fill-color);\n",
              "    border-color: transparent;\n",
              "    border-bottom-color: var(--fill-color);\n",
              "    animation:\n",
              "      spin 1s steps(1) infinite;\n",
              "  }\n",
              "\n",
              "  @keyframes spin {\n",
              "    0% {\n",
              "      border-color: transparent;\n",
              "      border-bottom-color: var(--fill-color);\n",
              "      border-left-color: var(--fill-color);\n",
              "    }\n",
              "    20% {\n",
              "      border-color: transparent;\n",
              "      border-left-color: var(--fill-color);\n",
              "      border-top-color: var(--fill-color);\n",
              "    }\n",
              "    30% {\n",
              "      border-color: transparent;\n",
              "      border-left-color: var(--fill-color);\n",
              "      border-top-color: var(--fill-color);\n",
              "      border-right-color: var(--fill-color);\n",
              "    }\n",
              "    40% {\n",
              "      border-color: transparent;\n",
              "      border-right-color: var(--fill-color);\n",
              "      border-top-color: var(--fill-color);\n",
              "    }\n",
              "    60% {\n",
              "      border-color: transparent;\n",
              "      border-right-color: var(--fill-color);\n",
              "    }\n",
              "    80% {\n",
              "      border-color: transparent;\n",
              "      border-right-color: var(--fill-color);\n",
              "      border-bottom-color: var(--fill-color);\n",
              "    }\n",
              "    90% {\n",
              "      border-color: transparent;\n",
              "      border-bottom-color: var(--fill-color);\n",
              "    }\n",
              "  }\n",
              "</style>\n",
              "\n",
              "      <script>\n",
              "        async function quickchart(key) {\n",
              "          const quickchartButtonEl =\n",
              "            document.querySelector('#' + key + ' button');\n",
              "          quickchartButtonEl.disabled = true;  // To prevent multiple clicks.\n",
              "          quickchartButtonEl.classList.add('colab-df-spinner');\n",
              "          try {\n",
              "            const charts = await google.colab.kernel.invokeFunction(\n",
              "                'suggestCharts', [key], {});\n",
              "          } catch (error) {\n",
              "            console.error('Error during call to suggestCharts:', error);\n",
              "          }\n",
              "          quickchartButtonEl.classList.remove('colab-df-spinner');\n",
              "          quickchartButtonEl.classList.add('colab-df-quickchart-complete');\n",
              "        }\n",
              "        (() => {\n",
              "          let quickchartButtonEl =\n",
              "            document.querySelector('#df-67336caa-0569-4abc-b088-b226333f25b9 button');\n",
              "          quickchartButtonEl.style.display =\n",
              "            google.colab.kernel.accessAllowed ? 'block' : 'none';\n",
              "        })();\n",
              "      </script>\n",
              "    </div>\n",
              "\n",
              "    </div>\n",
              "  </div>\n"
            ],
            "application/vnd.google.colaboratory.intrinsic+json": {
              "type": "dataframe",
              "variable_name": "Brand_Image"
            }
          },
          "metadata": {},
          "execution_count": 10
        }
      ]
    },
    {
      "cell_type": "code",
      "source": [
        "Brand_Image.nunique()"
      ],
      "metadata": {
        "id": "ff8Fq51FhwbV",
        "outputId": "a9c114c9-74e8-4cd3-d924-f5e78978712e",
        "colab": {
          "base_uri": "https://localhost:8080/",
          "height": 272
        }
      },
      "execution_count": null,
      "outputs": [
        {
          "output_type": "execute_result",
          "data": {
            "text/plain": [
              "ID            11761\n",
              "Year              3\n",
              "City              6\n",
              "Awareness        37\n",
              "Attribute        28\n",
              "BrandImage       37\n",
              "dtype: int64"
            ],
            "text/html": [
              "<div>\n",
              "<style scoped>\n",
              "    .dataframe tbody tr th:only-of-type {\n",
              "        vertical-align: middle;\n",
              "    }\n",
              "\n",
              "    .dataframe tbody tr th {\n",
              "        vertical-align: top;\n",
              "    }\n",
              "\n",
              "    .dataframe thead th {\n",
              "        text-align: right;\n",
              "    }\n",
              "</style>\n",
              "<table border=\"1\" class=\"dataframe\">\n",
              "  <thead>\n",
              "    <tr style=\"text-align: right;\">\n",
              "      <th></th>\n",
              "      <th>0</th>\n",
              "    </tr>\n",
              "  </thead>\n",
              "  <tbody>\n",
              "    <tr>\n",
              "      <th>ID</th>\n",
              "      <td>11761</td>\n",
              "    </tr>\n",
              "    <tr>\n",
              "      <th>Year</th>\n",
              "      <td>3</td>\n",
              "    </tr>\n",
              "    <tr>\n",
              "      <th>City</th>\n",
              "      <td>6</td>\n",
              "    </tr>\n",
              "    <tr>\n",
              "      <th>Awareness</th>\n",
              "      <td>37</td>\n",
              "    </tr>\n",
              "    <tr>\n",
              "      <th>Attribute</th>\n",
              "      <td>28</td>\n",
              "    </tr>\n",
              "    <tr>\n",
              "      <th>BrandImage</th>\n",
              "      <td>37</td>\n",
              "    </tr>\n",
              "  </tbody>\n",
              "</table>\n",
              "</div><br><label><b>dtype:</b> int64</label>"
            ]
          },
          "metadata": {},
          "execution_count": 11
        }
      ]
    },
    {
      "cell_type": "code",
      "source": [
        "Brand_Image['Awareness'] = Brand_Image['Awareness'].replace(to_replace=r'^Other.*', value='Other', regex=True)\n",
        "Brand_Image['BrandImage'] = Brand_Image['BrandImage'].replace(to_replace=r'^Other.*', value='Other', regex=True)"
      ],
      "metadata": {
        "id": "z9r6LrT8ytSA"
      },
      "execution_count": null,
      "outputs": []
    },
    {
      "cell_type": "code",
      "source": [
        "count = Brand_Image['Awareness'] == Brand_Image['BrandImage']\n",
        "\n",
        "# Số lượng dòng mà hai cột giống nhau\n",
        "count_equal = count.sum()\n",
        "print(count_equal)"
      ],
      "metadata": {
        "colab": {
          "base_uri": "https://localhost:8080/"
        },
        "id": "6ywnpsVQ0HCj",
        "outputId": "e088b6ec-9b64-4f42-b69c-07d2ca46b3cf"
      },
      "execution_count": null,
      "outputs": [
        {
          "output_type": "stream",
          "name": "stdout",
          "text": [
            "642675\n"
          ]
        }
      ]
    },
    {
      "cell_type": "code",
      "source": [
        "Brand_Image.isnull().sum()"
      ],
      "metadata": {
        "colab": {
          "base_uri": "https://localhost:8080/",
          "height": 272
        },
        "id": "qmrCyR9FsO5B",
        "outputId": "51c0b7f6-d172-41fe-f194-0b8fcfb371df"
      },
      "execution_count": null,
      "outputs": [
        {
          "output_type": "execute_result",
          "data": {
            "text/plain": [
              "ID              0\n",
              "Year            0\n",
              "City            0\n",
              "Awareness     397\n",
              "Attribute       0\n",
              "BrandImage      0\n",
              "dtype: int64"
            ],
            "text/html": [
              "<div>\n",
              "<style scoped>\n",
              "    .dataframe tbody tr th:only-of-type {\n",
              "        vertical-align: middle;\n",
              "    }\n",
              "\n",
              "    .dataframe tbody tr th {\n",
              "        vertical-align: top;\n",
              "    }\n",
              "\n",
              "    .dataframe thead th {\n",
              "        text-align: right;\n",
              "    }\n",
              "</style>\n",
              "<table border=\"1\" class=\"dataframe\">\n",
              "  <thead>\n",
              "    <tr style=\"text-align: right;\">\n",
              "      <th></th>\n",
              "      <th>0</th>\n",
              "    </tr>\n",
              "  </thead>\n",
              "  <tbody>\n",
              "    <tr>\n",
              "      <th>ID</th>\n",
              "      <td>0</td>\n",
              "    </tr>\n",
              "    <tr>\n",
              "      <th>Year</th>\n",
              "      <td>0</td>\n",
              "    </tr>\n",
              "    <tr>\n",
              "      <th>City</th>\n",
              "      <td>0</td>\n",
              "    </tr>\n",
              "    <tr>\n",
              "      <th>Awareness</th>\n",
              "      <td>397</td>\n",
              "    </tr>\n",
              "    <tr>\n",
              "      <th>Attribute</th>\n",
              "      <td>0</td>\n",
              "    </tr>\n",
              "    <tr>\n",
              "      <th>BrandImage</th>\n",
              "      <td>0</td>\n",
              "    </tr>\n",
              "  </tbody>\n",
              "</table>\n",
              "</div><br><label><b>dtype:</b> int64</label>"
            ]
          },
          "metadata": {},
          "execution_count": 17
        }
      ]
    },
    {
      "cell_type": "code",
      "source": [
        "Brand_Image['Awareness'].value_counts()"
      ],
      "metadata": {
        "colab": {
          "base_uri": "https://localhost:8080/",
          "height": 1000
        },
        "id": "gjFCWG0xtRrs",
        "outputId": "82479975-af91-4d94-e54b-e49df039405a",
        "collapsed": true
      },
      "execution_count": null,
      "outputs": [
        {
          "output_type": "execute_result",
          "data": {
            "text/plain": [
              "Awareness\n",
              "Other                                            125553\n",
              "Highlands Coffee                                 106427\n",
              "Trung Nguyên                                      81577\n",
              "Street / Half street coffee (including carts)     39747\n",
              "The Coffee House                                  37529\n",
              "Cộng Cà Phê                                       35825\n",
              "Indepedent Cafe                                   33554\n",
              "Milano                                            30133\n",
              "Starbucks                                         23643\n",
              "Phúc Long                                         21931\n",
              "Street                                            20358\n",
              "Aha Cafe                                          19114\n",
              "Urban Station                                     13740\n",
              "Passio                                             9295\n",
              "Viva Star                                          7028\n",
              "Thức Coffee                                        5345\n",
              "Coffee Bean & Tea Leaf                             3924\n",
              "Mê Trang                                           3624\n",
              "Gong Cha                                           3240\n",
              "Maxx Coffee                                        3123\n",
              "Long Cafe                                          2511\n",
              "Mộc Miên                                           2464\n",
              "Runam cafe                                         1948\n",
              "Effoc                                              1743\n",
              "Đen Đá                                             1661\n",
              "Saigon Café                                        1544\n",
              "KOI cafe                                           1420\n",
              "BonPas                                             1381\n",
              "The Coffee Factory                                 1137\n",
              "Nia cafe                                            940\n",
              "Cheese Coffee                                       689\n",
              "The Cups Coffee                                     388\n",
              "Laha Coffee                                         139\n",
              "Name: count, dtype: int64"
            ],
            "text/html": [
              "<div>\n",
              "<style scoped>\n",
              "    .dataframe tbody tr th:only-of-type {\n",
              "        vertical-align: middle;\n",
              "    }\n",
              "\n",
              "    .dataframe tbody tr th {\n",
              "        vertical-align: top;\n",
              "    }\n",
              "\n",
              "    .dataframe thead th {\n",
              "        text-align: right;\n",
              "    }\n",
              "</style>\n",
              "<table border=\"1\" class=\"dataframe\">\n",
              "  <thead>\n",
              "    <tr style=\"text-align: right;\">\n",
              "      <th></th>\n",
              "      <th>count</th>\n",
              "    </tr>\n",
              "    <tr>\n",
              "      <th>Awareness</th>\n",
              "      <th></th>\n",
              "    </tr>\n",
              "  </thead>\n",
              "  <tbody>\n",
              "    <tr>\n",
              "      <th>Other</th>\n",
              "      <td>125553</td>\n",
              "    </tr>\n",
              "    <tr>\n",
              "      <th>Highlands Coffee</th>\n",
              "      <td>106427</td>\n",
              "    </tr>\n",
              "    <tr>\n",
              "      <th>Trung Nguyên</th>\n",
              "      <td>81577</td>\n",
              "    </tr>\n",
              "    <tr>\n",
              "      <th>Street / Half street coffee (including carts)</th>\n",
              "      <td>39747</td>\n",
              "    </tr>\n",
              "    <tr>\n",
              "      <th>The Coffee House</th>\n",
              "      <td>37529</td>\n",
              "    </tr>\n",
              "    <tr>\n",
              "      <th>Cộng Cà Phê</th>\n",
              "      <td>35825</td>\n",
              "    </tr>\n",
              "    <tr>\n",
              "      <th>Indepedent Cafe</th>\n",
              "      <td>33554</td>\n",
              "    </tr>\n",
              "    <tr>\n",
              "      <th>Milano</th>\n",
              "      <td>30133</td>\n",
              "    </tr>\n",
              "    <tr>\n",
              "      <th>Starbucks</th>\n",
              "      <td>23643</td>\n",
              "    </tr>\n",
              "    <tr>\n",
              "      <th>Phúc Long</th>\n",
              "      <td>21931</td>\n",
              "    </tr>\n",
              "    <tr>\n",
              "      <th>Street</th>\n",
              "      <td>20358</td>\n",
              "    </tr>\n",
              "    <tr>\n",
              "      <th>Aha Cafe</th>\n",
              "      <td>19114</td>\n",
              "    </tr>\n",
              "    <tr>\n",
              "      <th>Urban Station</th>\n",
              "      <td>13740</td>\n",
              "    </tr>\n",
              "    <tr>\n",
              "      <th>Passio</th>\n",
              "      <td>9295</td>\n",
              "    </tr>\n",
              "    <tr>\n",
              "      <th>Viva Star</th>\n",
              "      <td>7028</td>\n",
              "    </tr>\n",
              "    <tr>\n",
              "      <th>Thức Coffee</th>\n",
              "      <td>5345</td>\n",
              "    </tr>\n",
              "    <tr>\n",
              "      <th>Coffee Bean &amp; Tea Leaf</th>\n",
              "      <td>3924</td>\n",
              "    </tr>\n",
              "    <tr>\n",
              "      <th>Mê Trang</th>\n",
              "      <td>3624</td>\n",
              "    </tr>\n",
              "    <tr>\n",
              "      <th>Gong Cha</th>\n",
              "      <td>3240</td>\n",
              "    </tr>\n",
              "    <tr>\n",
              "      <th>Maxx Coffee</th>\n",
              "      <td>3123</td>\n",
              "    </tr>\n",
              "    <tr>\n",
              "      <th>Long Cafe</th>\n",
              "      <td>2511</td>\n",
              "    </tr>\n",
              "    <tr>\n",
              "      <th>Mộc Miên</th>\n",
              "      <td>2464</td>\n",
              "    </tr>\n",
              "    <tr>\n",
              "      <th>Runam cafe</th>\n",
              "      <td>1948</td>\n",
              "    </tr>\n",
              "    <tr>\n",
              "      <th>Effoc</th>\n",
              "      <td>1743</td>\n",
              "    </tr>\n",
              "    <tr>\n",
              "      <th>Đen Đá</th>\n",
              "      <td>1661</td>\n",
              "    </tr>\n",
              "    <tr>\n",
              "      <th>Saigon Café</th>\n",
              "      <td>1544</td>\n",
              "    </tr>\n",
              "    <tr>\n",
              "      <th>KOI cafe</th>\n",
              "      <td>1420</td>\n",
              "    </tr>\n",
              "    <tr>\n",
              "      <th>BonPas</th>\n",
              "      <td>1381</td>\n",
              "    </tr>\n",
              "    <tr>\n",
              "      <th>The Coffee Factory</th>\n",
              "      <td>1137</td>\n",
              "    </tr>\n",
              "    <tr>\n",
              "      <th>Nia cafe</th>\n",
              "      <td>940</td>\n",
              "    </tr>\n",
              "    <tr>\n",
              "      <th>Cheese Coffee</th>\n",
              "      <td>689</td>\n",
              "    </tr>\n",
              "    <tr>\n",
              "      <th>The Cups Coffee</th>\n",
              "      <td>388</td>\n",
              "    </tr>\n",
              "    <tr>\n",
              "      <th>Laha Coffee</th>\n",
              "      <td>139</td>\n",
              "    </tr>\n",
              "  </tbody>\n",
              "</table>\n",
              "</div><br><label><b>dtype:</b> int64</label>"
            ]
          },
          "metadata": {},
          "execution_count": 18
        }
      ]
    },
    {
      "cell_type": "code",
      "source": [
        "Brand_Image.to_csv('Brand_Image_clean.csv', index=False)"
      ],
      "metadata": {
        "id": "duNefKj5zC6o"
      },
      "execution_count": null,
      "outputs": []
    },
    {
      "cell_type": "markdown",
      "source": [
        "Awareness có tống giá trị null là 379, điền bằng cách chuyển từ brandimage sang awareness  \n",
        "Lý do là vì Awareness là thương hiệu người khảo sát nhận diện, còn BrandImage là người khảo sát nhìn hình để nhận diện  \n",
        "Do đó nếu khách hàng nhìn hình để dự đoán được thì đã từng nghe được Awareness."
      ],
      "metadata": {
        "id": "4U8WN0B9zxb0"
      }
    },
    {
      "cell_type": "markdown",
      "source": [
        "#Bảng BrandHealth\n"
      ],
      "metadata": {
        "id": "Qj3FrI2NGB90"
      }
    },
    {
      "cell_type": "code",
      "source": [
        "Brandhealth = pd.read_csv('/content/Brandhealth.csv',sep=\";\" )"
      ],
      "metadata": {
        "colab": {
          "base_uri": "https://localhost:8080/"
        },
        "id": "2L3lCCgBGFEz",
        "outputId": "65bcd3c3-2b6a-411c-aaf3-68634fda9b4b"
      },
      "execution_count": null,
      "outputs": [
        {
          "output_type": "stream",
          "name": "stderr",
          "text": [
            "/tmp/ipython-input-10-1590658787.py:1: DtypeWarning: Columns (4,7,8,10,11,12,16,18) have mixed types. Specify dtype option on import or set low_memory=False.\n",
            "  Brandhealth = pd.read_csv('/content/Brandhealth.csv',sep=\";\" )\n"
          ]
        }
      ]
    },
    {
      "cell_type": "code",
      "source": [
        "Brandhealth.info()"
      ],
      "metadata": {
        "colab": {
          "base_uri": "https://localhost:8080/"
        },
        "id": "jFNfXXvuGQ58",
        "outputId": "9f6e3902-afeb-4fb3-f51e-7d15be0868ef"
      },
      "execution_count": null,
      "outputs": [
        {
          "output_type": "stream",
          "name": "stdout",
          "text": [
            "<class 'pandas.core.frame.DataFrame'>\n",
            "RangeIndex: 74419 entries, 0 to 74418\n",
            "Data columns (total 20 columns):\n",
            " #   Column            Non-Null Count  Dtype  \n",
            "---  ------            --------------  -----  \n",
            " 0   ID                74419 non-null  int64  \n",
            " 1   Year              74419 non-null  int64  \n",
            " 2   City              74419 non-null  object \n",
            " 3   Brand             74419 non-null  object \n",
            " 4   Spontaneous       30993 non-null  object \n",
            " 5   Awareness         74305 non-null  object \n",
            " 6   Trial             47330 non-null  object \n",
            " 7   P3M               28849 non-null  object \n",
            " 8   P1M               19399 non-null  object \n",
            " 9   Comprehension     26346 non-null  object \n",
            " 10  Brand_Likability  10331 non-null  object \n",
            " 11  Weekly            13382 non-null  object \n",
            " 12  Daily             7621 non-null   object \n",
            " 13  Fre#visit         19332 non-null  float64\n",
            " 14  PPA               14073 non-null  float64\n",
            " 15  Spending          14073 non-null  float64\n",
            " 16  Segmentation      14073 non-null  object \n",
            " 17  NPS#P3M           21605 non-null  float64\n",
            " 18  NPS#P3M#Group     21605 non-null  object \n",
            " 19  Spending_use      14073 non-null  float64\n",
            "dtypes: float64(5), int64(2), object(13)\n",
            "memory usage: 11.4+ MB\n"
          ]
        }
      ]
    },
    {
      "cell_type": "code",
      "source": [
        "Brandhealth['Brand'].value_counts()"
      ],
      "metadata": {
        "colab": {
          "base_uri": "https://localhost:8080/",
          "height": 1000
        },
        "id": "FdJbfPWMGuXb",
        "outputId": "e1c13e41-967c-4f7a-dfc8-70390fd7969a"
      },
      "execution_count": null,
      "outputs": [
        {
          "output_type": "execute_result",
          "data": {
            "text/plain": [
              "Brand\n",
              "Trung Nguyên                                     9954\n",
              "Highlands Coffee                                 8520\n",
              "Street / Half street coffee (including carts)    7391\n",
              "Other 1                                          5536\n",
              "Milano                                           4699\n",
              "Cộng Cà Phê                                      3929\n",
              "The Coffee House                                 3830\n",
              "Starbucks                                        3350\n",
              "Street                                           3278\n",
              "Other 2                                          2861\n",
              "Phúc Long                                        2786\n",
              "Indepedent Cafe                                  2717\n",
              "Aha Cafe                                         1852\n",
              "Urban Station                                    1667\n",
              "Passio                                           1627\n",
              "Thức Coffee                                      1061\n",
              "Viva Star                                        1029\n",
              "Other 3                                           840\n",
              "Mê Trang                                          836\n",
              "Coffee Bean & Tea Leaf                            824\n",
              "Long Cafe                                         710\n",
              "Gong Cha                                          594\n",
              "Mộc Miên                                          585\n",
              "Đen Đá                                            520\n",
              "Other Branded Cafe Chain                          496\n",
              "Effoc                                             473\n",
              "Maxx Coffee                                       397\n",
              "Saigon Café                                       363\n",
              "Runam cafe                                        316\n",
              "BonPas                                            316\n",
              "Nia cafe                                          263\n",
              "The Coffee Factory                                256\n",
              "KOI cafe                                          237\n",
              "The Cups Coffee                                   133\n",
              "Cheese Coffee                                     123\n",
              "Laha Coffee                                        50\n",
              "Name: count, dtype: int64"
            ],
            "text/html": [
              "<div>\n",
              "<style scoped>\n",
              "    .dataframe tbody tr th:only-of-type {\n",
              "        vertical-align: middle;\n",
              "    }\n",
              "\n",
              "    .dataframe tbody tr th {\n",
              "        vertical-align: top;\n",
              "    }\n",
              "\n",
              "    .dataframe thead th {\n",
              "        text-align: right;\n",
              "    }\n",
              "</style>\n",
              "<table border=\"1\" class=\"dataframe\">\n",
              "  <thead>\n",
              "    <tr style=\"text-align: right;\">\n",
              "      <th></th>\n",
              "      <th>count</th>\n",
              "    </tr>\n",
              "    <tr>\n",
              "      <th>Brand</th>\n",
              "      <th></th>\n",
              "    </tr>\n",
              "  </thead>\n",
              "  <tbody>\n",
              "    <tr>\n",
              "      <th>Trung Nguyên</th>\n",
              "      <td>9954</td>\n",
              "    </tr>\n",
              "    <tr>\n",
              "      <th>Highlands Coffee</th>\n",
              "      <td>8520</td>\n",
              "    </tr>\n",
              "    <tr>\n",
              "      <th>Street / Half street coffee (including carts)</th>\n",
              "      <td>7391</td>\n",
              "    </tr>\n",
              "    <tr>\n",
              "      <th>Other 1</th>\n",
              "      <td>5536</td>\n",
              "    </tr>\n",
              "    <tr>\n",
              "      <th>Milano</th>\n",
              "      <td>4699</td>\n",
              "    </tr>\n",
              "    <tr>\n",
              "      <th>Cộng Cà Phê</th>\n",
              "      <td>3929</td>\n",
              "    </tr>\n",
              "    <tr>\n",
              "      <th>The Coffee House</th>\n",
              "      <td>3830</td>\n",
              "    </tr>\n",
              "    <tr>\n",
              "      <th>Starbucks</th>\n",
              "      <td>3350</td>\n",
              "    </tr>\n",
              "    <tr>\n",
              "      <th>Street</th>\n",
              "      <td>3278</td>\n",
              "    </tr>\n",
              "    <tr>\n",
              "      <th>Other 2</th>\n",
              "      <td>2861</td>\n",
              "    </tr>\n",
              "    <tr>\n",
              "      <th>Phúc Long</th>\n",
              "      <td>2786</td>\n",
              "    </tr>\n",
              "    <tr>\n",
              "      <th>Indepedent Cafe</th>\n",
              "      <td>2717</td>\n",
              "    </tr>\n",
              "    <tr>\n",
              "      <th>Aha Cafe</th>\n",
              "      <td>1852</td>\n",
              "    </tr>\n",
              "    <tr>\n",
              "      <th>Urban Station</th>\n",
              "      <td>1667</td>\n",
              "    </tr>\n",
              "    <tr>\n",
              "      <th>Passio</th>\n",
              "      <td>1627</td>\n",
              "    </tr>\n",
              "    <tr>\n",
              "      <th>Thức Coffee</th>\n",
              "      <td>1061</td>\n",
              "    </tr>\n",
              "    <tr>\n",
              "      <th>Viva Star</th>\n",
              "      <td>1029</td>\n",
              "    </tr>\n",
              "    <tr>\n",
              "      <th>Other 3</th>\n",
              "      <td>840</td>\n",
              "    </tr>\n",
              "    <tr>\n",
              "      <th>Mê Trang</th>\n",
              "      <td>836</td>\n",
              "    </tr>\n",
              "    <tr>\n",
              "      <th>Coffee Bean &amp; Tea Leaf</th>\n",
              "      <td>824</td>\n",
              "    </tr>\n",
              "    <tr>\n",
              "      <th>Long Cafe</th>\n",
              "      <td>710</td>\n",
              "    </tr>\n",
              "    <tr>\n",
              "      <th>Gong Cha</th>\n",
              "      <td>594</td>\n",
              "    </tr>\n",
              "    <tr>\n",
              "      <th>Mộc Miên</th>\n",
              "      <td>585</td>\n",
              "    </tr>\n",
              "    <tr>\n",
              "      <th>Đen Đá</th>\n",
              "      <td>520</td>\n",
              "    </tr>\n",
              "    <tr>\n",
              "      <th>Other Branded Cafe Chain</th>\n",
              "      <td>496</td>\n",
              "    </tr>\n",
              "    <tr>\n",
              "      <th>Effoc</th>\n",
              "      <td>473</td>\n",
              "    </tr>\n",
              "    <tr>\n",
              "      <th>Maxx Coffee</th>\n",
              "      <td>397</td>\n",
              "    </tr>\n",
              "    <tr>\n",
              "      <th>Saigon Café</th>\n",
              "      <td>363</td>\n",
              "    </tr>\n",
              "    <tr>\n",
              "      <th>Runam cafe</th>\n",
              "      <td>316</td>\n",
              "    </tr>\n",
              "    <tr>\n",
              "      <th>BonPas</th>\n",
              "      <td>316</td>\n",
              "    </tr>\n",
              "    <tr>\n",
              "      <th>Nia cafe</th>\n",
              "      <td>263</td>\n",
              "    </tr>\n",
              "    <tr>\n",
              "      <th>The Coffee Factory</th>\n",
              "      <td>256</td>\n",
              "    </tr>\n",
              "    <tr>\n",
              "      <th>KOI cafe</th>\n",
              "      <td>237</td>\n",
              "    </tr>\n",
              "    <tr>\n",
              "      <th>The Cups Coffee</th>\n",
              "      <td>133</td>\n",
              "    </tr>\n",
              "    <tr>\n",
              "      <th>Cheese Coffee</th>\n",
              "      <td>123</td>\n",
              "    </tr>\n",
              "    <tr>\n",
              "      <th>Laha Coffee</th>\n",
              "      <td>50</td>\n",
              "    </tr>\n",
              "  </tbody>\n",
              "</table>\n",
              "</div><br><label><b>dtype:</b> int64</label>"
            ]
          },
          "metadata": {},
          "execution_count": 12
        }
      ]
    },
    {
      "cell_type": "code",
      "source": [
        "# Lọc các dòng có Brand là \"Highland\"\n",
        "highland_rows = Brandhealth[Brandhealth['Brand'] == 'Highlands Coffee']\n",
        "\n",
        "# In kết quả\n",
        "print(highland_rows)\n",
        "highland_rows = highland_rows.dropna(subset=['Segmentation'])\n",
        "highland_rows.to_csv('highland_rows.csv', index=False)"
      ],
      "metadata": {
        "colab": {
          "base_uri": "https://localhost:8080/"
        },
        "id": "-YMbe_dLfAmz",
        "outputId": "f7e8dc2b-23fc-4aa4-cc7d-7b7fbabdd1cf"
      },
      "execution_count": null,
      "outputs": [
        {
          "output_type": "stream",
          "name": "stdout",
          "text": [
            "           ID  Year         City             Brand       Spontaneous  \\\n",
            "1149   345938  2018  Hồ Chí Minh  Highlands Coffee               NaN   \n",
            "1150   349764  2018  Hồ Chí Minh  Highlands Coffee               NaN   \n",
            "1151   349957  2018  Hồ Chí Minh  Highlands Coffee               NaN   \n",
            "1152   350090  2018  Hồ Chí Minh  Highlands Coffee               NaN   \n",
            "1153   350576  2018  Hồ Chí Minh  Highlands Coffee               NaN   \n",
            "...       ...   ...          ...               ...               ...   \n",
            "74212  458059  2018       Hà Nội  Highlands Coffee  Highlands Coffee   \n",
            "74213  459806  2018  Hồ Chí Minh  Highlands Coffee  Highlands Coffee   \n",
            "74246  400654  2018    Hải Phòng  Highlands Coffee  Highlands Coffee   \n",
            "74286  447981  2018    Nha Trang  Highlands Coffee  Highlands Coffee   \n",
            "74293  450932  2018      Đà Nẵng  Highlands Coffee  Highlands Coffee   \n",
            "\n",
            "              Awareness             Trial               P3M               P1M  \\\n",
            "1149   Highlands Coffee               NaN               NaN               NaN   \n",
            "1150   Highlands Coffee               NaN               NaN               NaN   \n",
            "1151   Highlands Coffee               NaN               NaN               NaN   \n",
            "1152   Highlands Coffee               NaN               NaN               NaN   \n",
            "1153   Highlands Coffee               NaN               NaN               NaN   \n",
            "...                 ...               ...               ...               ...   \n",
            "74212  Highlands Coffee  Highlands Coffee  Highlands Coffee  Highlands Coffee   \n",
            "74213  Highlands Coffee  Highlands Coffee  Highlands Coffee  Highlands Coffee   \n",
            "74246  Highlands Coffee  Highlands Coffee  Highlands Coffee  Highlands Coffee   \n",
            "74286  Highlands Coffee  Highlands Coffee  Highlands Coffee  Highlands Coffee   \n",
            "74293  Highlands Coffee  Highlands Coffee  Highlands Coffee  Highlands Coffee   \n",
            "\n",
            "      Comprehension Brand_Likability Weekly Daily  Fre#visit   PPA  Spending  \\\n",
            "1149            NaN              NaN    NaN   NaN        NaN   NaN       NaN   \n",
            "1150            NaN              NaN    NaN   NaN        NaN   NaN       NaN   \n",
            "1151            NaN              NaN    NaN   NaN        NaN   NaN       NaN   \n",
            "1152            NaN              NaN    NaN   NaN        NaN   NaN       NaN   \n",
            "1153            NaN              NaN    NaN   NaN        NaN   NaN       NaN   \n",
            "...             ...              ...    ...   ...        ...   ...       ...   \n",
            "74212           NaN              NaN    NaN   NaN        2.0  50.0     100.0   \n",
            "74213           NaN              NaN    NaN   NaN        2.0  50.0     100.0   \n",
            "74246           NaN              NaN    NaN   NaN        2.0  30.0      60.0   \n",
            "74286           NaN              NaN    NaN   NaN        2.0  30.0      60.0   \n",
            "74293           NaN              NaN    NaN   NaN        2.0  30.0      60.0   \n",
            "\n",
            "                                Segmentation  NPS#P3M NPS#P3M#Group  \\\n",
            "1149                                     NaN      NaN           NaN   \n",
            "1150                                     NaN      NaN           NaN   \n",
            "1151                                     NaN      NaN           NaN   \n",
            "1152                                     NaN      NaN           NaN   \n",
            "1153                                     NaN      NaN           NaN   \n",
            "...                                      ...      ...           ...   \n",
            "74212  Seg.02 - Mass Asp (VND 25K - VND 59K)      8.0       Passive   \n",
            "74213  Seg.02 - Mass Asp (VND 25K - VND 59K)     10.0      Promoter   \n",
            "74246  Seg.02 - Mass Asp (VND 25K - VND 59K)      8.0       Passive   \n",
            "74286  Seg.02 - Mass Asp (VND 25K - VND 59K)      9.0      Promoter   \n",
            "74293  Seg.02 - Mass Asp (VND 25K - VND 59K)      8.0       Passive   \n",
            "\n",
            "       Spending_use  \n",
            "1149            NaN  \n",
            "1150            NaN  \n",
            "1151            NaN  \n",
            "1152            NaN  \n",
            "1153            NaN  \n",
            "...             ...  \n",
            "74212         100.0  \n",
            "74213         100.0  \n",
            "74246          60.0  \n",
            "74286          60.0  \n",
            "74293          60.0  \n",
            "\n",
            "[8520 rows x 20 columns]\n"
          ]
        }
      ]
    },
    {
      "cell_type": "code",
      "source": [
        "Brandhealth.isnull().sum()"
      ],
      "metadata": {
        "colab": {
          "base_uri": "https://localhost:8080/",
          "height": 711
        },
        "id": "Mup8vGC7JBzj",
        "outputId": "3dfa6532-8cf3-4760-8321-5f5c46b5ea1e"
      },
      "execution_count": null,
      "outputs": [
        {
          "output_type": "execute_result",
          "data": {
            "text/plain": [
              "ID                      0\n",
              "Year                    0\n",
              "City                    0\n",
              "Brand                   0\n",
              "Spontaneous         43426\n",
              "Awareness             114\n",
              "Trial               27089\n",
              "P3M                 45570\n",
              "P1M                 55020\n",
              "Comprehension       48073\n",
              "Brand_Likability    64088\n",
              "Weekly              61037\n",
              "Daily               66798\n",
              "Fre#visit           55087\n",
              "PPA                 60346\n",
              "Spending            60346\n",
              "Segmentation        60346\n",
              "NPS#P3M             52814\n",
              "NPS#P3M#Group       52814\n",
              "Spending_use        60346\n",
              "dtype: int64"
            ],
            "text/html": [
              "<div>\n",
              "<style scoped>\n",
              "    .dataframe tbody tr th:only-of-type {\n",
              "        vertical-align: middle;\n",
              "    }\n",
              "\n",
              "    .dataframe tbody tr th {\n",
              "        vertical-align: top;\n",
              "    }\n",
              "\n",
              "    .dataframe thead th {\n",
              "        text-align: right;\n",
              "    }\n",
              "</style>\n",
              "<table border=\"1\" class=\"dataframe\">\n",
              "  <thead>\n",
              "    <tr style=\"text-align: right;\">\n",
              "      <th></th>\n",
              "      <th>0</th>\n",
              "    </tr>\n",
              "  </thead>\n",
              "  <tbody>\n",
              "    <tr>\n",
              "      <th>ID</th>\n",
              "      <td>0</td>\n",
              "    </tr>\n",
              "    <tr>\n",
              "      <th>Year</th>\n",
              "      <td>0</td>\n",
              "    </tr>\n",
              "    <tr>\n",
              "      <th>City</th>\n",
              "      <td>0</td>\n",
              "    </tr>\n",
              "    <tr>\n",
              "      <th>Brand</th>\n",
              "      <td>0</td>\n",
              "    </tr>\n",
              "    <tr>\n",
              "      <th>Spontaneous</th>\n",
              "      <td>43426</td>\n",
              "    </tr>\n",
              "    <tr>\n",
              "      <th>Awareness</th>\n",
              "      <td>114</td>\n",
              "    </tr>\n",
              "    <tr>\n",
              "      <th>Trial</th>\n",
              "      <td>27089</td>\n",
              "    </tr>\n",
              "    <tr>\n",
              "      <th>P3M</th>\n",
              "      <td>45570</td>\n",
              "    </tr>\n",
              "    <tr>\n",
              "      <th>P1M</th>\n",
              "      <td>55020</td>\n",
              "    </tr>\n",
              "    <tr>\n",
              "      <th>Comprehension</th>\n",
              "      <td>48073</td>\n",
              "    </tr>\n",
              "    <tr>\n",
              "      <th>Brand_Likability</th>\n",
              "      <td>64088</td>\n",
              "    </tr>\n",
              "    <tr>\n",
              "      <th>Weekly</th>\n",
              "      <td>61037</td>\n",
              "    </tr>\n",
              "    <tr>\n",
              "      <th>Daily</th>\n",
              "      <td>66798</td>\n",
              "    </tr>\n",
              "    <tr>\n",
              "      <th>Fre#visit</th>\n",
              "      <td>55087</td>\n",
              "    </tr>\n",
              "    <tr>\n",
              "      <th>PPA</th>\n",
              "      <td>60346</td>\n",
              "    </tr>\n",
              "    <tr>\n",
              "      <th>Spending</th>\n",
              "      <td>60346</td>\n",
              "    </tr>\n",
              "    <tr>\n",
              "      <th>Segmentation</th>\n",
              "      <td>60346</td>\n",
              "    </tr>\n",
              "    <tr>\n",
              "      <th>NPS#P3M</th>\n",
              "      <td>52814</td>\n",
              "    </tr>\n",
              "    <tr>\n",
              "      <th>NPS#P3M#Group</th>\n",
              "      <td>52814</td>\n",
              "    </tr>\n",
              "    <tr>\n",
              "      <th>Spending_use</th>\n",
              "      <td>60346</td>\n",
              "    </tr>\n",
              "  </tbody>\n",
              "</table>\n",
              "</div><br><label><b>dtype:</b> int64</label>"
            ]
          },
          "metadata": {},
          "execution_count": 19
        }
      ]
    },
    {
      "cell_type": "markdown",
      "source": [
        "Điền Awareness bằng giá trị thường gặp  \n",
        "Còn lại thay thế bằng \"Không\""
      ],
      "metadata": {
        "id": "q5RcJt3v-QB1"
      }
    },
    {
      "cell_type": "code",
      "source": [
        "ans1= Brandhealth['Awareness'] == Brandhealth['Brand']\n",
        "count_ans = ans1.sum()\n",
        "print(count_ans)"
      ],
      "metadata": {
        "colab": {
          "base_uri": "https://localhost:8080/"
        },
        "id": "3G1hnnjuOL8z",
        "outputId": "c53d251c-5cec-4d9b-9756-f6b1b83d9992"
      },
      "execution_count": null,
      "outputs": [
        {
          "output_type": "stream",
          "name": "stdout",
          "text": [
            "70562\n"
          ]
        }
      ]
    },
    {
      "cell_type": "markdown",
      "source": [
        "Other 1 2 3.. chuyển thành other  \n",
        "Chuyển từ brand sang awareness  \n",
        "Brand là chính  \n",
        "P3M, P1M: Nếu có điền là số 1, không điền là số 0  \n"
      ],
      "metadata": {
        "id": "kMa49Cv0Q-JR"
      }
    },
    {
      "cell_type": "markdown",
      "source": [
        "#Bảng Companion"
      ],
      "metadata": {
        "id": "uH3q-a6YOp42"
      }
    },
    {
      "cell_type": "code",
      "source": [
        "Companion = pd.read_csv('/content/Companion.csv',sep=\";\" )"
      ],
      "metadata": {
        "id": "StBKaNZCOrvm"
      },
      "execution_count": null,
      "outputs": []
    },
    {
      "cell_type": "code",
      "source": [
        "Companion.info()"
      ],
      "metadata": {
        "colab": {
          "base_uri": "https://localhost:8080/"
        },
        "id": "5QuThzTKOv7W",
        "outputId": "2f361401-0975-40c4-b947-68f606de7621"
      },
      "execution_count": null,
      "outputs": [
        {
          "output_type": "stream",
          "name": "stdout",
          "text": [
            "<class 'pandas.core.frame.DataFrame'>\n",
            "RangeIndex: 20739 entries, 0 to 20738\n",
            "Data columns (total 4 columns):\n",
            " #   Column           Non-Null Count  Dtype \n",
            "---  ------           --------------  ----- \n",
            " 0   ID               20739 non-null  int64 \n",
            " 1   City             20739 non-null  object\n",
            " 2   Companion#group  20739 non-null  object\n",
            " 3   Year             20739 non-null  int64 \n",
            "dtypes: int64(2), object(2)\n",
            "memory usage: 648.2+ KB\n"
          ]
        }
      ]
    },
    {
      "cell_type": "code",
      "source": [
        "Companion.nunique()"
      ],
      "metadata": {
        "colab": {
          "base_uri": "https://localhost:8080/",
          "height": 210
        },
        "id": "bFFrnzSWO15u",
        "outputId": "94947fcd-dc39-42e9-e4e7-69bbe68b439f"
      },
      "execution_count": null,
      "outputs": [
        {
          "output_type": "execute_result",
          "data": {
            "text/plain": [
              "ID                 11746\n",
              "City                   6\n",
              "Companion#group        6\n",
              "Year                   3\n",
              "dtype: int64"
            ],
            "text/html": [
              "<div>\n",
              "<style scoped>\n",
              "    .dataframe tbody tr th:only-of-type {\n",
              "        vertical-align: middle;\n",
              "    }\n",
              "\n",
              "    .dataframe tbody tr th {\n",
              "        vertical-align: top;\n",
              "    }\n",
              "\n",
              "    .dataframe thead th {\n",
              "        text-align: right;\n",
              "    }\n",
              "</style>\n",
              "<table border=\"1\" class=\"dataframe\">\n",
              "  <thead>\n",
              "    <tr style=\"text-align: right;\">\n",
              "      <th></th>\n",
              "      <th>0</th>\n",
              "    </tr>\n",
              "  </thead>\n",
              "  <tbody>\n",
              "    <tr>\n",
              "      <th>ID</th>\n",
              "      <td>11746</td>\n",
              "    </tr>\n",
              "    <tr>\n",
              "      <th>City</th>\n",
              "      <td>6</td>\n",
              "    </tr>\n",
              "    <tr>\n",
              "      <th>Companion#group</th>\n",
              "      <td>6</td>\n",
              "    </tr>\n",
              "    <tr>\n",
              "      <th>Year</th>\n",
              "      <td>3</td>\n",
              "    </tr>\n",
              "  </tbody>\n",
              "</table>\n",
              "</div><br><label><b>dtype:</b> int64</label>"
            ]
          },
          "metadata": {},
          "execution_count": 23
        }
      ]
    },
    {
      "cell_type": "code",
      "source": [
        "Companion.isnull().sum()"
      ],
      "metadata": {
        "colab": {
          "base_uri": "https://localhost:8080/",
          "height": 210
        },
        "id": "EBLxZCWfO-IG",
        "outputId": "c2eac062-842c-4c1c-b744-7ac31123aea0"
      },
      "execution_count": null,
      "outputs": [
        {
          "output_type": "execute_result",
          "data": {
            "text/plain": [
              "ID                 0\n",
              "City               0\n",
              "Companion#group    0\n",
              "Year               0\n",
              "dtype: int64"
            ],
            "text/html": [
              "<div>\n",
              "<style scoped>\n",
              "    .dataframe tbody tr th:only-of-type {\n",
              "        vertical-align: middle;\n",
              "    }\n",
              "\n",
              "    .dataframe tbody tr th {\n",
              "        vertical-align: top;\n",
              "    }\n",
              "\n",
              "    .dataframe thead th {\n",
              "        text-align: right;\n",
              "    }\n",
              "</style>\n",
              "<table border=\"1\" class=\"dataframe\">\n",
              "  <thead>\n",
              "    <tr style=\"text-align: right;\">\n",
              "      <th></th>\n",
              "      <th>0</th>\n",
              "    </tr>\n",
              "  </thead>\n",
              "  <tbody>\n",
              "    <tr>\n",
              "      <th>ID</th>\n",
              "      <td>0</td>\n",
              "    </tr>\n",
              "    <tr>\n",
              "      <th>City</th>\n",
              "      <td>0</td>\n",
              "    </tr>\n",
              "    <tr>\n",
              "      <th>Companion#group</th>\n",
              "      <td>0</td>\n",
              "    </tr>\n",
              "    <tr>\n",
              "      <th>Year</th>\n",
              "      <td>0</td>\n",
              "    </tr>\n",
              "  </tbody>\n",
              "</table>\n",
              "</div><br><label><b>dtype:</b> int64</label>"
            ]
          },
          "metadata": {},
          "execution_count": 24
        }
      ]
    },
    {
      "cell_type": "markdown",
      "source": [
        "#Bảng Competitor"
      ],
      "metadata": {
        "id": "3ULagsd5PQbl"
      }
    },
    {
      "cell_type": "code",
      "source": [
        "Competitor = pd.read_csv('/content/Competitor database_xlnm#_FilterDatabase.csv',sep=\";\" )"
      ],
      "metadata": {
        "id": "v_gY-y3ZPQMN"
      },
      "execution_count": null,
      "outputs": []
    },
    {
      "cell_type": "code",
      "source": [
        "Competitor.info()"
      ],
      "metadata": {
        "colab": {
          "base_uri": "https://localhost:8080/"
        },
        "id": "DbOKbX70PYZl",
        "outputId": "91a66507-2835-4c45-aa58-760125640062"
      },
      "execution_count": null,
      "outputs": [
        {
          "output_type": "stream",
          "name": "stdout",
          "text": [
            "<class 'pandas.core.frame.DataFrame'>\n",
            "RangeIndex: 234 entries, 0 to 233\n",
            "Data columns (total 5 columns):\n",
            " #   Column      Non-Null Count  Dtype \n",
            "---  ------      --------------  ----- \n",
            " 0   No#         234 non-null    int64 \n",
            " 1   Brand       234 non-null    object\n",
            " 2   City        234 non-null    object\n",
            " 3   Year        234 non-null    int64 \n",
            " 4   StoreCount  234 non-null    int64 \n",
            "dtypes: int64(3), object(2)\n",
            "memory usage: 9.3+ KB\n"
          ]
        }
      ]
    },
    {
      "cell_type": "code",
      "source": [
        "Competitor.isnull().sum()"
      ],
      "metadata": {
        "colab": {
          "base_uri": "https://localhost:8080/",
          "height": 241
        },
        "id": "_MyRUtm_SNQl",
        "outputId": "b5802bb6-94ab-4344-f839-447d17305209"
      },
      "execution_count": null,
      "outputs": [
        {
          "output_type": "execute_result",
          "data": {
            "text/plain": [
              "No#           0\n",
              "Brand         0\n",
              "City          0\n",
              "Year          0\n",
              "StoreCount    0\n",
              "dtype: int64"
            ],
            "text/html": [
              "<div>\n",
              "<style scoped>\n",
              "    .dataframe tbody tr th:only-of-type {\n",
              "        vertical-align: middle;\n",
              "    }\n",
              "\n",
              "    .dataframe tbody tr th {\n",
              "        vertical-align: top;\n",
              "    }\n",
              "\n",
              "    .dataframe thead th {\n",
              "        text-align: right;\n",
              "    }\n",
              "</style>\n",
              "<table border=\"1\" class=\"dataframe\">\n",
              "  <thead>\n",
              "    <tr style=\"text-align: right;\">\n",
              "      <th></th>\n",
              "      <th>0</th>\n",
              "    </tr>\n",
              "  </thead>\n",
              "  <tbody>\n",
              "    <tr>\n",
              "      <th>No#</th>\n",
              "      <td>0</td>\n",
              "    </tr>\n",
              "    <tr>\n",
              "      <th>Brand</th>\n",
              "      <td>0</td>\n",
              "    </tr>\n",
              "    <tr>\n",
              "      <th>City</th>\n",
              "      <td>0</td>\n",
              "    </tr>\n",
              "    <tr>\n",
              "      <th>Year</th>\n",
              "      <td>0</td>\n",
              "    </tr>\n",
              "    <tr>\n",
              "      <th>StoreCount</th>\n",
              "      <td>0</td>\n",
              "    </tr>\n",
              "  </tbody>\n",
              "</table>\n",
              "</div><br><label><b>dtype:</b> int64</label>"
            ]
          },
          "metadata": {},
          "execution_count": 28
        }
      ]
    },
    {
      "cell_type": "code",
      "source": [
        "# Tính tổng StoreCount cho mỗi Brand\n",
        "brand_store_total = Competitor.groupby('Brand')['StoreCount'].sum().reset_index()\n",
        "\n",
        "# Sắp xếp theo tổng số lượng store giảm dần (nếu muốn)\n",
        "brand_store_total = brand_store_total.sort_values(by='StoreCount', ascending=False)\n",
        "\n",
        "# Hiển thị kết quả\n",
        "print(brand_store_total)\n"
      ],
      "metadata": {
        "colab": {
          "base_uri": "https://localhost:8080/"
        },
        "id": "U6OQlgV3EXyg",
        "outputId": "17e1c4a5-c360-4b12-d21a-d942f3884657"
      },
      "execution_count": null,
      "outputs": [
        {
          "output_type": "stream",
          "name": "stdout",
          "text": [
            "              Brand  StoreCount\n",
            "1  Highlands Coffee         797\n",
            "4  The Coffee House         354\n",
            "5      Trung Nguyên         177\n",
            "0       Cộng Cà Phê         162\n",
            "3         Starbucks         132\n",
            "2         Phúc Long         118\n"
          ]
        }
      ]
    },
    {
      "cell_type": "markdown",
      "source": [
        "#Bảng Dayofweek"
      ],
      "metadata": {
        "id": "k2h9zr1GSpXs"
      }
    },
    {
      "cell_type": "code",
      "source": [
        "Dayofweek = pd.read_csv('/content/Dayofweek.csv',sep=\";\" )"
      ],
      "metadata": {
        "id": "W2VOFD-_SpMO"
      },
      "execution_count": null,
      "outputs": []
    },
    {
      "cell_type": "code",
      "source": [
        "Dayofweek.info()"
      ],
      "metadata": {
        "colab": {
          "base_uri": "https://localhost:8080/"
        },
        "id": "pFiqyq5mSu27",
        "outputId": "faca3322-769a-41b7-a1bc-3cc65b9f4fb4"
      },
      "execution_count": null,
      "outputs": [
        {
          "output_type": "stream",
          "name": "stdout",
          "text": [
            "<class 'pandas.core.frame.DataFrame'>\n",
            "RangeIndex: 39095 entries, 0 to 39094\n",
            "Data columns (total 6 columns):\n",
            " #   Column           Non-Null Count  Dtype  \n",
            "---  ------           --------------  -----  \n",
            " 0   ID               39095 non-null  int64  \n",
            " 1   City             39095 non-null  object \n",
            " 2   Dayofweek        39009 non-null  object \n",
            " 3   Visit#Dayofweek  39041 non-null  float64\n",
            " 4   Year             39095 non-null  int64  \n",
            " 5   Weekday#end      39009 non-null  object \n",
            "dtypes: float64(1), int64(2), object(3)\n",
            "memory usage: 1.8+ MB\n"
          ]
        }
      ]
    },
    {
      "cell_type": "code",
      "source": [
        "Dayofweek.nunique()"
      ],
      "metadata": {
        "colab": {
          "base_uri": "https://localhost:8080/",
          "height": 272
        },
        "id": "8bhh5bCsS55b",
        "outputId": "a183a426-9c11-4a8e-e7d4-94bf36ded3b3"
      },
      "execution_count": null,
      "outputs": [
        {
          "output_type": "execute_result",
          "data": {
            "text/plain": [
              "ID                 11761\n",
              "City                   6\n",
              "Dayofweek              7\n",
              "Visit#Dayofweek       26\n",
              "Year                   3\n",
              "Weekday#end            2\n",
              "dtype: int64"
            ],
            "text/html": [
              "<div>\n",
              "<style scoped>\n",
              "    .dataframe tbody tr th:only-of-type {\n",
              "        vertical-align: middle;\n",
              "    }\n",
              "\n",
              "    .dataframe tbody tr th {\n",
              "        vertical-align: top;\n",
              "    }\n",
              "\n",
              "    .dataframe thead th {\n",
              "        text-align: right;\n",
              "    }\n",
              "</style>\n",
              "<table border=\"1\" class=\"dataframe\">\n",
              "  <thead>\n",
              "    <tr style=\"text-align: right;\">\n",
              "      <th></th>\n",
              "      <th>0</th>\n",
              "    </tr>\n",
              "  </thead>\n",
              "  <tbody>\n",
              "    <tr>\n",
              "      <th>ID</th>\n",
              "      <td>11761</td>\n",
              "    </tr>\n",
              "    <tr>\n",
              "      <th>City</th>\n",
              "      <td>6</td>\n",
              "    </tr>\n",
              "    <tr>\n",
              "      <th>Dayofweek</th>\n",
              "      <td>7</td>\n",
              "    </tr>\n",
              "    <tr>\n",
              "      <th>Visit#Dayofweek</th>\n",
              "      <td>26</td>\n",
              "    </tr>\n",
              "    <tr>\n",
              "      <th>Year</th>\n",
              "      <td>3</td>\n",
              "    </tr>\n",
              "    <tr>\n",
              "      <th>Weekday#end</th>\n",
              "      <td>2</td>\n",
              "    </tr>\n",
              "  </tbody>\n",
              "</table>\n",
              "</div><br><label><b>dtype:</b> int64</label>"
            ]
          },
          "metadata": {},
          "execution_count": 31
        }
      ]
    },
    {
      "cell_type": "code",
      "source": [
        "Dayofweek.isnull().sum()"
      ],
      "metadata": {
        "colab": {
          "base_uri": "https://localhost:8080/",
          "height": 272
        },
        "id": "DCE6w4Q5T-qy",
        "outputId": "a50f14ca-489f-42ee-9057-d85f87a534be"
      },
      "execution_count": null,
      "outputs": [
        {
          "output_type": "execute_result",
          "data": {
            "text/plain": [
              "ID                  0\n",
              "City                0\n",
              "Dayofweek          86\n",
              "Visit#Dayofweek    54\n",
              "Year                0\n",
              "Weekday#end        86\n",
              "dtype: int64"
            ],
            "text/html": [
              "<div>\n",
              "<style scoped>\n",
              "    .dataframe tbody tr th:only-of-type {\n",
              "        vertical-align: middle;\n",
              "    }\n",
              "\n",
              "    .dataframe tbody tr th {\n",
              "        vertical-align: top;\n",
              "    }\n",
              "\n",
              "    .dataframe thead th {\n",
              "        text-align: right;\n",
              "    }\n",
              "</style>\n",
              "<table border=\"1\" class=\"dataframe\">\n",
              "  <thead>\n",
              "    <tr style=\"text-align: right;\">\n",
              "      <th></th>\n",
              "      <th>0</th>\n",
              "    </tr>\n",
              "  </thead>\n",
              "  <tbody>\n",
              "    <tr>\n",
              "      <th>ID</th>\n",
              "      <td>0</td>\n",
              "    </tr>\n",
              "    <tr>\n",
              "      <th>City</th>\n",
              "      <td>0</td>\n",
              "    </tr>\n",
              "    <tr>\n",
              "      <th>Dayofweek</th>\n",
              "      <td>86</td>\n",
              "    </tr>\n",
              "    <tr>\n",
              "      <th>Visit#Dayofweek</th>\n",
              "      <td>54</td>\n",
              "    </tr>\n",
              "    <tr>\n",
              "      <th>Year</th>\n",
              "      <td>0</td>\n",
              "    </tr>\n",
              "    <tr>\n",
              "      <th>Weekday#end</th>\n",
              "      <td>86</td>\n",
              "    </tr>\n",
              "  </tbody>\n",
              "</table>\n",
              "</div><br><label><b>dtype:</b> int64</label>"
            ]
          },
          "metadata": {},
          "execution_count": 32
        }
      ]
    },
    {
      "cell_type": "code",
      "source": [
        "Dayofweek['Dayofweek'].value_counts()"
      ],
      "metadata": {
        "colab": {
          "base_uri": "https://localhost:8080/",
          "height": 335
        },
        "id": "CuFntDxtt4f5",
        "outputId": "2b472a2a-cffe-42c4-df7f-e754809e618c"
      },
      "execution_count": null,
      "outputs": [
        {
          "output_type": "execute_result",
          "data": {
            "text/plain": [
              "Dayofweek\n",
              "Sunday       9246\n",
              "Saturday     8630\n",
              "Thursday     4449\n",
              "Friday       4429\n",
              "Wednesday    4240\n",
              "Monday       4075\n",
              "Tuesday      3940\n",
              "Name: count, dtype: int64"
            ],
            "text/html": [
              "<div>\n",
              "<style scoped>\n",
              "    .dataframe tbody tr th:only-of-type {\n",
              "        vertical-align: middle;\n",
              "    }\n",
              "\n",
              "    .dataframe tbody tr th {\n",
              "        vertical-align: top;\n",
              "    }\n",
              "\n",
              "    .dataframe thead th {\n",
              "        text-align: right;\n",
              "    }\n",
              "</style>\n",
              "<table border=\"1\" class=\"dataframe\">\n",
              "  <thead>\n",
              "    <tr style=\"text-align: right;\">\n",
              "      <th></th>\n",
              "      <th>count</th>\n",
              "    </tr>\n",
              "    <tr>\n",
              "      <th>Dayofweek</th>\n",
              "      <th></th>\n",
              "    </tr>\n",
              "  </thead>\n",
              "  <tbody>\n",
              "    <tr>\n",
              "      <th>Sunday</th>\n",
              "      <td>9246</td>\n",
              "    </tr>\n",
              "    <tr>\n",
              "      <th>Saturday</th>\n",
              "      <td>8630</td>\n",
              "    </tr>\n",
              "    <tr>\n",
              "      <th>Thursday</th>\n",
              "      <td>4449</td>\n",
              "    </tr>\n",
              "    <tr>\n",
              "      <th>Friday</th>\n",
              "      <td>4429</td>\n",
              "    </tr>\n",
              "    <tr>\n",
              "      <th>Wednesday</th>\n",
              "      <td>4240</td>\n",
              "    </tr>\n",
              "    <tr>\n",
              "      <th>Monday</th>\n",
              "      <td>4075</td>\n",
              "    </tr>\n",
              "    <tr>\n",
              "      <th>Tuesday</th>\n",
              "      <td>3940</td>\n",
              "    </tr>\n",
              "  </tbody>\n",
              "</table>\n",
              "</div><br><label><b>dtype:</b> int64</label>"
            ]
          },
          "metadata": {},
          "execution_count": 33
        }
      ]
    },
    {
      "cell_type": "code",
      "source": [
        "Dayofweek['Weekday#end'].value_counts()"
      ],
      "metadata": {
        "colab": {
          "base_uri": "https://localhost:8080/",
          "height": 178
        },
        "id": "598vYmzG_jZk",
        "outputId": "fb0819f6-a761-4144-b0e0-4780f05f34e7"
      },
      "execution_count": null,
      "outputs": [
        {
          "output_type": "execute_result",
          "data": {
            "text/plain": [
              "Weekday#end\n",
              "Weekdays    21133\n",
              "Weekends    17876\n",
              "Name: count, dtype: int64"
            ],
            "text/html": [
              "<div>\n",
              "<style scoped>\n",
              "    .dataframe tbody tr th:only-of-type {\n",
              "        vertical-align: middle;\n",
              "    }\n",
              "\n",
              "    .dataframe tbody tr th {\n",
              "        vertical-align: top;\n",
              "    }\n",
              "\n",
              "    .dataframe thead th {\n",
              "        text-align: right;\n",
              "    }\n",
              "</style>\n",
              "<table border=\"1\" class=\"dataframe\">\n",
              "  <thead>\n",
              "    <tr style=\"text-align: right;\">\n",
              "      <th></th>\n",
              "      <th>count</th>\n",
              "    </tr>\n",
              "    <tr>\n",
              "      <th>Weekday#end</th>\n",
              "      <th></th>\n",
              "    </tr>\n",
              "  </thead>\n",
              "  <tbody>\n",
              "    <tr>\n",
              "      <th>Weekdays</th>\n",
              "      <td>21133</td>\n",
              "    </tr>\n",
              "    <tr>\n",
              "      <th>Weekends</th>\n",
              "      <td>17876</td>\n",
              "    </tr>\n",
              "  </tbody>\n",
              "</table>\n",
              "</div><br><label><b>dtype:</b> int64</label>"
            ]
          },
          "metadata": {},
          "execution_count": 34
        }
      ]
    },
    {
      "cell_type": "markdown",
      "source": [
        "Đầu tiên điền Weekday#end trước, bằng phương pháp"
      ],
      "metadata": {
        "id": "bWdm0jWj_yOk"
      }
    },
    {
      "cell_type": "markdown",
      "source": [
        "#Bảng Daypart"
      ],
      "metadata": {
        "id": "dXTSIegiWEop"
      }
    },
    {
      "cell_type": "code",
      "source": [
        "Daypart = pd.read_csv('/content/Daypart.csv',sep=\";\" )"
      ],
      "metadata": {
        "id": "Oy1sJ4nOV-CZ"
      },
      "execution_count": null,
      "outputs": []
    },
    {
      "cell_type": "code",
      "source": [
        "Daypart.info()"
      ],
      "metadata": {
        "colab": {
          "base_uri": "https://localhost:8080/"
        },
        "id": "xh4cXzXWWKsG",
        "outputId": "f2dfa1eb-10e0-4f47-c438-93b1a591756c"
      },
      "execution_count": null,
      "outputs": [
        {
          "output_type": "stream",
          "name": "stdout",
          "text": [
            "<class 'pandas.core.frame.DataFrame'>\n",
            "RangeIndex: 19189 entries, 0 to 19188\n",
            "Data columns (total 5 columns):\n",
            " #   Column         Non-Null Count  Dtype  \n",
            "---  ------         --------------  -----  \n",
            " 0   ID             19189 non-null  int64  \n",
            " 1   City           19189 non-null  object \n",
            " 2   Daypart        19176 non-null  object \n",
            " 3   Visit#Daypart  18342 non-null  float64\n",
            " 4   Year           19189 non-null  int64  \n",
            "dtypes: float64(1), int64(2), object(2)\n",
            "memory usage: 749.7+ KB\n"
          ]
        }
      ]
    },
    {
      "cell_type": "code",
      "source": [
        "Daypart.nunique()"
      ],
      "metadata": {
        "colab": {
          "base_uri": "https://localhost:8080/",
          "height": 241
        },
        "id": "O7UrV-qbWRf0",
        "outputId": "54bfaec9-b7fd-49aa-b0ae-1ae97442da03"
      },
      "execution_count": null,
      "outputs": [
        {
          "output_type": "execute_result",
          "data": {
            "text/plain": [
              "ID               11761\n",
              "City                 6\n",
              "Daypart              6\n",
              "Visit#Daypart       39\n",
              "Year                 3\n",
              "dtype: int64"
            ],
            "text/html": [
              "<div>\n",
              "<style scoped>\n",
              "    .dataframe tbody tr th:only-of-type {\n",
              "        vertical-align: middle;\n",
              "    }\n",
              "\n",
              "    .dataframe tbody tr th {\n",
              "        vertical-align: top;\n",
              "    }\n",
              "\n",
              "    .dataframe thead th {\n",
              "        text-align: right;\n",
              "    }\n",
              "</style>\n",
              "<table border=\"1\" class=\"dataframe\">\n",
              "  <thead>\n",
              "    <tr style=\"text-align: right;\">\n",
              "      <th></th>\n",
              "      <th>0</th>\n",
              "    </tr>\n",
              "  </thead>\n",
              "  <tbody>\n",
              "    <tr>\n",
              "      <th>ID</th>\n",
              "      <td>11761</td>\n",
              "    </tr>\n",
              "    <tr>\n",
              "      <th>City</th>\n",
              "      <td>6</td>\n",
              "    </tr>\n",
              "    <tr>\n",
              "      <th>Daypart</th>\n",
              "      <td>6</td>\n",
              "    </tr>\n",
              "    <tr>\n",
              "      <th>Visit#Daypart</th>\n",
              "      <td>39</td>\n",
              "    </tr>\n",
              "    <tr>\n",
              "      <th>Year</th>\n",
              "      <td>3</td>\n",
              "    </tr>\n",
              "  </tbody>\n",
              "</table>\n",
              "</div><br><label><b>dtype:</b> int64</label>"
            ]
          },
          "metadata": {},
          "execution_count": 36
        }
      ]
    },
    {
      "cell_type": "code",
      "source": [
        "Daypart.isnull().sum()"
      ],
      "metadata": {
        "colab": {
          "base_uri": "https://localhost:8080/",
          "height": 241
        },
        "id": "_O1bPNJmWV8p",
        "outputId": "1fab948f-2de9-4d6f-ef12-08cc6d0e0431"
      },
      "execution_count": null,
      "outputs": [
        {
          "output_type": "execute_result",
          "data": {
            "text/plain": [
              "ID                 0\n",
              "City               0\n",
              "Daypart           13\n",
              "Visit#Daypart    847\n",
              "Year               0\n",
              "dtype: int64"
            ],
            "text/html": [
              "<div>\n",
              "<style scoped>\n",
              "    .dataframe tbody tr th:only-of-type {\n",
              "        vertical-align: middle;\n",
              "    }\n",
              "\n",
              "    .dataframe tbody tr th {\n",
              "        vertical-align: top;\n",
              "    }\n",
              "\n",
              "    .dataframe thead th {\n",
              "        text-align: right;\n",
              "    }\n",
              "</style>\n",
              "<table border=\"1\" class=\"dataframe\">\n",
              "  <thead>\n",
              "    <tr style=\"text-align: right;\">\n",
              "      <th></th>\n",
              "      <th>0</th>\n",
              "    </tr>\n",
              "  </thead>\n",
              "  <tbody>\n",
              "    <tr>\n",
              "      <th>ID</th>\n",
              "      <td>0</td>\n",
              "    </tr>\n",
              "    <tr>\n",
              "      <th>City</th>\n",
              "      <td>0</td>\n",
              "    </tr>\n",
              "    <tr>\n",
              "      <th>Daypart</th>\n",
              "      <td>13</td>\n",
              "    </tr>\n",
              "    <tr>\n",
              "      <th>Visit#Daypart</th>\n",
              "      <td>847</td>\n",
              "    </tr>\n",
              "    <tr>\n",
              "      <th>Year</th>\n",
              "      <td>0</td>\n",
              "    </tr>\n",
              "  </tbody>\n",
              "</table>\n",
              "</div><br><label><b>dtype:</b> int64</label>"
            ]
          },
          "metadata": {},
          "execution_count": 37
        }
      ]
    },
    {
      "cell_type": "markdown",
      "source": [
        "#Bảng NeedstateDayDaypart"
      ],
      "metadata": {
        "id": "aAiKQhTCjlXf"
      }
    },
    {
      "cell_type": "code",
      "source": [
        "Need = pd.read_csv('/content/NeedstateDayDaypart.csv',sep=\";\" )"
      ],
      "metadata": {
        "id": "80G3jVWGjn-H"
      },
      "execution_count": null,
      "outputs": []
    },
    {
      "cell_type": "code",
      "source": [
        "Need.info()"
      ],
      "metadata": {
        "colab": {
          "base_uri": "https://localhost:8080/"
        },
        "id": "Q7PUe0TJjqwf",
        "outputId": "072af608-d091-4059-a0d3-525f57baf9d3"
      },
      "execution_count": null,
      "outputs": [
        {
          "output_type": "stream",
          "name": "stdout",
          "text": [
            "<class 'pandas.core.frame.DataFrame'>\n",
            "RangeIndex: 75251 entries, 0 to 75250\n",
            "Data columns (total 6 columns):\n",
            " #   Column          Non-Null Count  Dtype \n",
            "---  ------          --------------  ----- \n",
            " 0   ID              75251 non-null  int64 \n",
            " 1   City            75251 non-null  object\n",
            " 2   Year            75251 non-null  int64 \n",
            " 3   Needstates      75251 non-null  object\n",
            " 4   Day#Daypart     75251 non-null  object\n",
            " 5   NeedstateGroup  75251 non-null  object\n",
            "dtypes: int64(2), object(4)\n",
            "memory usage: 3.4+ MB\n"
          ]
        }
      ]
    },
    {
      "cell_type": "code",
      "source": [
        "Need.nunique()"
      ],
      "metadata": {
        "colab": {
          "base_uri": "https://localhost:8080/",
          "height": 272
        },
        "id": "biruAlSgkKrf",
        "outputId": "49df11fa-c420-4dbc-f42c-58a06a02e1dd"
      },
      "execution_count": null,
      "outputs": [
        {
          "output_type": "execute_result",
          "data": {
            "text/plain": [
              "ID                11740\n",
              "City                  6\n",
              "Year                  3\n",
              "Needstates           15\n",
              "Day#Daypart           9\n",
              "NeedstateGroup        6\n",
              "dtype: int64"
            ],
            "text/html": [
              "<div>\n",
              "<style scoped>\n",
              "    .dataframe tbody tr th:only-of-type {\n",
              "        vertical-align: middle;\n",
              "    }\n",
              "\n",
              "    .dataframe tbody tr th {\n",
              "        vertical-align: top;\n",
              "    }\n",
              "\n",
              "    .dataframe thead th {\n",
              "        text-align: right;\n",
              "    }\n",
              "</style>\n",
              "<table border=\"1\" class=\"dataframe\">\n",
              "  <thead>\n",
              "    <tr style=\"text-align: right;\">\n",
              "      <th></th>\n",
              "      <th>0</th>\n",
              "    </tr>\n",
              "  </thead>\n",
              "  <tbody>\n",
              "    <tr>\n",
              "      <th>ID</th>\n",
              "      <td>11740</td>\n",
              "    </tr>\n",
              "    <tr>\n",
              "      <th>City</th>\n",
              "      <td>6</td>\n",
              "    </tr>\n",
              "    <tr>\n",
              "      <th>Year</th>\n",
              "      <td>3</td>\n",
              "    </tr>\n",
              "    <tr>\n",
              "      <th>Needstates</th>\n",
              "      <td>15</td>\n",
              "    </tr>\n",
              "    <tr>\n",
              "      <th>Day#Daypart</th>\n",
              "      <td>9</td>\n",
              "    </tr>\n",
              "    <tr>\n",
              "      <th>NeedstateGroup</th>\n",
              "      <td>6</td>\n",
              "    </tr>\n",
              "  </tbody>\n",
              "</table>\n",
              "</div><br><label><b>dtype:</b> int64</label>"
            ]
          },
          "metadata": {},
          "execution_count": 41
        }
      ]
    },
    {
      "cell_type": "code",
      "source": [
        "Need.isnull().sum()"
      ],
      "metadata": {
        "colab": {
          "base_uri": "https://localhost:8080/",
          "height": 272
        },
        "id": "VGgX8l2skPK_",
        "outputId": "45a96b8b-ae37-4822-da0d-a0253b716564"
      },
      "execution_count": null,
      "outputs": [
        {
          "output_type": "execute_result",
          "data": {
            "text/plain": [
              "ID                0\n",
              "City              0\n",
              "Year              0\n",
              "Needstates        0\n",
              "Day#Daypart       0\n",
              "NeedstateGroup    0\n",
              "dtype: int64"
            ],
            "text/html": [
              "<div>\n",
              "<style scoped>\n",
              "    .dataframe tbody tr th:only-of-type {\n",
              "        vertical-align: middle;\n",
              "    }\n",
              "\n",
              "    .dataframe tbody tr th {\n",
              "        vertical-align: top;\n",
              "    }\n",
              "\n",
              "    .dataframe thead th {\n",
              "        text-align: right;\n",
              "    }\n",
              "</style>\n",
              "<table border=\"1\" class=\"dataframe\">\n",
              "  <thead>\n",
              "    <tr style=\"text-align: right;\">\n",
              "      <th></th>\n",
              "      <th>0</th>\n",
              "    </tr>\n",
              "  </thead>\n",
              "  <tbody>\n",
              "    <tr>\n",
              "      <th>ID</th>\n",
              "      <td>0</td>\n",
              "    </tr>\n",
              "    <tr>\n",
              "      <th>City</th>\n",
              "      <td>0</td>\n",
              "    </tr>\n",
              "    <tr>\n",
              "      <th>Year</th>\n",
              "      <td>0</td>\n",
              "    </tr>\n",
              "    <tr>\n",
              "      <th>Needstates</th>\n",
              "      <td>0</td>\n",
              "    </tr>\n",
              "    <tr>\n",
              "      <th>Day#Daypart</th>\n",
              "      <td>0</td>\n",
              "    </tr>\n",
              "    <tr>\n",
              "      <th>NeedstateGroup</th>\n",
              "      <td>0</td>\n",
              "    </tr>\n",
              "  </tbody>\n",
              "</table>\n",
              "</div><br><label><b>dtype:</b> int64</label>"
            ]
          },
          "metadata": {},
          "execution_count": 42
        }
      ]
    },
    {
      "cell_type": "markdown",
      "source": [
        "#Bảng SA"
      ],
      "metadata": {
        "id": "AhPkkyWDkZpv"
      }
    },
    {
      "cell_type": "code",
      "source": [
        "sa = pd.read_csv('/content/SA#var.csv',sep=\";\" )"
      ],
      "metadata": {
        "id": "BOJgBftWkbZv"
      },
      "execution_count": null,
      "outputs": []
    },
    {
      "cell_type": "code",
      "source": [
        "sa.info()"
      ],
      "metadata": {
        "colab": {
          "base_uri": "https://localhost:8080/"
        },
        "id": "lnDuyxJ-kuxP",
        "outputId": "15082be7-e1c3-4081-e8ec-758d9de78165"
      },
      "execution_count": null,
      "outputs": [
        {
          "output_type": "stream",
          "name": "stdout",
          "text": [
            "<class 'pandas.core.frame.DataFrame'>\n",
            "RangeIndex: 11761 entries, 0 to 11760\n",
            "Data columns (total 20 columns):\n",
            " #   Column            Non-Null Count  Dtype  \n",
            "---  ------            --------------  -----  \n",
            " 0   ID                11761 non-null  int64  \n",
            " 1   City              11761 non-null  object \n",
            " 2   Group_size        11746 non-null  float64\n",
            " 3   Age               11752 non-null  float64\n",
            " 4   MPI#Mean          8044 non-null   float64\n",
            " 5   TOM               11761 non-null  object \n",
            " 6   BUMO              11761 non-null  object \n",
            " 7   BUMO_Previous     6096 non-null   object \n",
            " 8   MostFavourite     11761 non-null  object \n",
            " 9   Gender            11761 non-null  object \n",
            " 10  MPI#detail        8076 non-null   object \n",
            " 11  Age#group         11752 non-null  object \n",
            " 12  Age#Group#2       11752 non-null  object \n",
            " 13  MPI               8044 non-null   object \n",
            " 14  MPI#2             8044 non-null   object \n",
            " 15  Occupation        11761 non-null  object \n",
            " 16  Occupation#group  11761 non-null  object \n",
            " 17  Year              11761 non-null  int64  \n",
            " 18  Col               11761 non-null  int64  \n",
            " 19  MPI_Mean_Use      8044 non-null   float64\n",
            "dtypes: float64(4), int64(3), object(13)\n",
            "memory usage: 1.8+ MB\n"
          ]
        }
      ]
    },
    {
      "cell_type": "code",
      "source": [
        "sa.nunique()"
      ],
      "metadata": {
        "colab": {
          "base_uri": "https://localhost:8080/",
          "height": 711
        },
        "id": "DXbDmjn-kxIJ",
        "outputId": "d4f7feda-254b-4407-bff7-d86ee8675f2b"
      },
      "execution_count": null,
      "outputs": [
        {
          "output_type": "execute_result",
          "data": {
            "text/plain": [
              "ID                  11761\n",
              "City                    6\n",
              "Group_size             16\n",
              "Age                    45\n",
              "MPI#Mean               13\n",
              "TOM                    32\n",
              "BUMO                   33\n",
              "BUMO_Previous          32\n",
              "MostFavourite          34\n",
              "Gender                  2\n",
              "MPI#detail             14\n",
              "Age#group               4\n",
              "Age#Group#2             7\n",
              "MPI                     5\n",
              "MPI#2                   5\n",
              "Occupation             28\n",
              "Occupation#group        7\n",
              "Year                    3\n",
              "Col                     6\n",
              "MPI_Mean_Use           13\n",
              "dtype: int64"
            ],
            "text/html": [
              "<div>\n",
              "<style scoped>\n",
              "    .dataframe tbody tr th:only-of-type {\n",
              "        vertical-align: middle;\n",
              "    }\n",
              "\n",
              "    .dataframe tbody tr th {\n",
              "        vertical-align: top;\n",
              "    }\n",
              "\n",
              "    .dataframe thead th {\n",
              "        text-align: right;\n",
              "    }\n",
              "</style>\n",
              "<table border=\"1\" class=\"dataframe\">\n",
              "  <thead>\n",
              "    <tr style=\"text-align: right;\">\n",
              "      <th></th>\n",
              "      <th>0</th>\n",
              "    </tr>\n",
              "  </thead>\n",
              "  <tbody>\n",
              "    <tr>\n",
              "      <th>ID</th>\n",
              "      <td>11761</td>\n",
              "    </tr>\n",
              "    <tr>\n",
              "      <th>City</th>\n",
              "      <td>6</td>\n",
              "    </tr>\n",
              "    <tr>\n",
              "      <th>Group_size</th>\n",
              "      <td>16</td>\n",
              "    </tr>\n",
              "    <tr>\n",
              "      <th>Age</th>\n",
              "      <td>45</td>\n",
              "    </tr>\n",
              "    <tr>\n",
              "      <th>MPI#Mean</th>\n",
              "      <td>13</td>\n",
              "    </tr>\n",
              "    <tr>\n",
              "      <th>TOM</th>\n",
              "      <td>32</td>\n",
              "    </tr>\n",
              "    <tr>\n",
              "      <th>BUMO</th>\n",
              "      <td>33</td>\n",
              "    </tr>\n",
              "    <tr>\n",
              "      <th>BUMO_Previous</th>\n",
              "      <td>32</td>\n",
              "    </tr>\n",
              "    <tr>\n",
              "      <th>MostFavourite</th>\n",
              "      <td>34</td>\n",
              "    </tr>\n",
              "    <tr>\n",
              "      <th>Gender</th>\n",
              "      <td>2</td>\n",
              "    </tr>\n",
              "    <tr>\n",
              "      <th>MPI#detail</th>\n",
              "      <td>14</td>\n",
              "    </tr>\n",
              "    <tr>\n",
              "      <th>Age#group</th>\n",
              "      <td>4</td>\n",
              "    </tr>\n",
              "    <tr>\n",
              "      <th>Age#Group#2</th>\n",
              "      <td>7</td>\n",
              "    </tr>\n",
              "    <tr>\n",
              "      <th>MPI</th>\n",
              "      <td>5</td>\n",
              "    </tr>\n",
              "    <tr>\n",
              "      <th>MPI#2</th>\n",
              "      <td>5</td>\n",
              "    </tr>\n",
              "    <tr>\n",
              "      <th>Occupation</th>\n",
              "      <td>28</td>\n",
              "    </tr>\n",
              "    <tr>\n",
              "      <th>Occupation#group</th>\n",
              "      <td>7</td>\n",
              "    </tr>\n",
              "    <tr>\n",
              "      <th>Year</th>\n",
              "      <td>3</td>\n",
              "    </tr>\n",
              "    <tr>\n",
              "      <th>Col</th>\n",
              "      <td>6</td>\n",
              "    </tr>\n",
              "    <tr>\n",
              "      <th>MPI_Mean_Use</th>\n",
              "      <td>13</td>\n",
              "    </tr>\n",
              "  </tbody>\n",
              "</table>\n",
              "</div><br><label><b>dtype:</b> int64</label>"
            ]
          },
          "metadata": {},
          "execution_count": 45
        }
      ]
    },
    {
      "cell_type": "code",
      "source": [
        "sa.isnull().sum()"
      ],
      "metadata": {
        "colab": {
          "base_uri": "https://localhost:8080/",
          "height": 711
        },
        "id": "ZLsM2LC5k0kp",
        "outputId": "47ca42e7-16af-459f-9c96-1c991e900afc"
      },
      "execution_count": null,
      "outputs": [
        {
          "output_type": "execute_result",
          "data": {
            "text/plain": [
              "ID                     0\n",
              "City                   0\n",
              "Group_size            15\n",
              "Age                    9\n",
              "MPI#Mean            3717\n",
              "TOM                    0\n",
              "BUMO                   0\n",
              "BUMO_Previous       5665\n",
              "MostFavourite          0\n",
              "Gender                 0\n",
              "MPI#detail          3685\n",
              "Age#group              9\n",
              "Age#Group#2            9\n",
              "MPI                 3717\n",
              "MPI#2               3717\n",
              "Occupation             0\n",
              "Occupation#group       0\n",
              "Year                   0\n",
              "Col                    0\n",
              "MPI_Mean_Use        3717\n",
              "dtype: int64"
            ],
            "text/html": [
              "<div>\n",
              "<style scoped>\n",
              "    .dataframe tbody tr th:only-of-type {\n",
              "        vertical-align: middle;\n",
              "    }\n",
              "\n",
              "    .dataframe tbody tr th {\n",
              "        vertical-align: top;\n",
              "    }\n",
              "\n",
              "    .dataframe thead th {\n",
              "        text-align: right;\n",
              "    }\n",
              "</style>\n",
              "<table border=\"1\" class=\"dataframe\">\n",
              "  <thead>\n",
              "    <tr style=\"text-align: right;\">\n",
              "      <th></th>\n",
              "      <th>0</th>\n",
              "    </tr>\n",
              "  </thead>\n",
              "  <tbody>\n",
              "    <tr>\n",
              "      <th>ID</th>\n",
              "      <td>0</td>\n",
              "    </tr>\n",
              "    <tr>\n",
              "      <th>City</th>\n",
              "      <td>0</td>\n",
              "    </tr>\n",
              "    <tr>\n",
              "      <th>Group_size</th>\n",
              "      <td>15</td>\n",
              "    </tr>\n",
              "    <tr>\n",
              "      <th>Age</th>\n",
              "      <td>9</td>\n",
              "    </tr>\n",
              "    <tr>\n",
              "      <th>MPI#Mean</th>\n",
              "      <td>3717</td>\n",
              "    </tr>\n",
              "    <tr>\n",
              "      <th>TOM</th>\n",
              "      <td>0</td>\n",
              "    </tr>\n",
              "    <tr>\n",
              "      <th>BUMO</th>\n",
              "      <td>0</td>\n",
              "    </tr>\n",
              "    <tr>\n",
              "      <th>BUMO_Previous</th>\n",
              "      <td>5665</td>\n",
              "    </tr>\n",
              "    <tr>\n",
              "      <th>MostFavourite</th>\n",
              "      <td>0</td>\n",
              "    </tr>\n",
              "    <tr>\n",
              "      <th>Gender</th>\n",
              "      <td>0</td>\n",
              "    </tr>\n",
              "    <tr>\n",
              "      <th>MPI#detail</th>\n",
              "      <td>3685</td>\n",
              "    </tr>\n",
              "    <tr>\n",
              "      <th>Age#group</th>\n",
              "      <td>9</td>\n",
              "    </tr>\n",
              "    <tr>\n",
              "      <th>Age#Group#2</th>\n",
              "      <td>9</td>\n",
              "    </tr>\n",
              "    <tr>\n",
              "      <th>MPI</th>\n",
              "      <td>3717</td>\n",
              "    </tr>\n",
              "    <tr>\n",
              "      <th>MPI#2</th>\n",
              "      <td>3717</td>\n",
              "    </tr>\n",
              "    <tr>\n",
              "      <th>Occupation</th>\n",
              "      <td>0</td>\n",
              "    </tr>\n",
              "    <tr>\n",
              "      <th>Occupation#group</th>\n",
              "      <td>0</td>\n",
              "    </tr>\n",
              "    <tr>\n",
              "      <th>Year</th>\n",
              "      <td>0</td>\n",
              "    </tr>\n",
              "    <tr>\n",
              "      <th>Col</th>\n",
              "      <td>0</td>\n",
              "    </tr>\n",
              "    <tr>\n",
              "      <th>MPI_Mean_Use</th>\n",
              "      <td>3717</td>\n",
              "    </tr>\n",
              "  </tbody>\n",
              "</table>\n",
              "</div><br><label><b>dtype:</b> int64</label>"
            ]
          },
          "metadata": {},
          "execution_count": 47
        }
      ]
    },
    {
      "cell_type": "markdown",
      "source": [
        "Age, Age#group, Age#group2 không đụng\n",
        "Kiểm tra MPI với MPI detail, nếu như MPI có mà MPI detail không có => điền  \n"
      ],
      "metadata": {
        "id": "E7AjsRq8E2Kp"
      }
    },
    {
      "cell_type": "markdown",
      "source": [
        "##Xử lý các giá trị null"
      ],
      "metadata": {
        "id": "SQFHVwNVFXOv"
      }
    },
    {
      "cell_type": "markdown",
      "source": [
        "Bảng segmentation: Không có giá trị null, không có giá trị vi phạm lỗi logic"
      ],
      "metadata": {
        "id": "px9b9P0VztKZ"
      }
    },
    {
      "cell_type": "markdown",
      "source": [
        "Bảng Brand_image: Thuộc tính Awareness có 44 giá trị null, xử lý bằng cách gán giá trị từ Brandimage qua\n"
      ],
      "metadata": {
        "id": "HKzF_rTkzyxH"
      }
    },
    {
      "cell_type": "code",
      "source": [
        "for index, row in Brand_Image.iterrows():\n",
        "    if pd.isnull(row['Awareness']):\n",
        "        Brand_Image.at[index, 'Awareness'] = row['BrandImage']\n",
        "print(Brand_Image.info())"
      ],
      "metadata": {
        "id": "ctV-sqeLFW7_",
        "colab": {
          "base_uri": "https://localhost:8080/"
        },
        "outputId": "9f480004-d293-4034-9eb7-aafc2f56f080"
      },
      "execution_count": null,
      "outputs": [
        {
          "output_type": "stream",
          "name": "stdout",
          "text": [
            "<class 'pandas.core.frame.DataFrame'>\n",
            "RangeIndex: 643072 entries, 0 to 643071\n",
            "Data columns (total 6 columns):\n",
            " #   Column      Non-Null Count   Dtype \n",
            "---  ------      --------------   ----- \n",
            " 0   ID          643072 non-null  int64 \n",
            " 1   Year        643072 non-null  int64 \n",
            " 2   City        643072 non-null  object\n",
            " 3   Awareness   643072 non-null  object\n",
            " 4   Attribute   643072 non-null  object\n",
            " 5   BrandImage  643072 non-null  object\n",
            "dtypes: int64(2), object(4)\n",
            "memory usage: 29.4+ MB\n",
            "None\n"
          ]
        }
      ]
    },
    {
      "cell_type": "markdown",
      "source": [
        "Bảng Brandhealth: Chưa xử lý 😁"
      ],
      "metadata": {
        "id": "jc6D0BPq3MB3"
      }
    },
    {
      "cell_type": "markdown",
      "source": [
        "Bảng Companion: Không có giá trị khuyết"
      ],
      "metadata": {
        "id": "THEZUUT-3_ud"
      }
    },
    {
      "cell_type": "markdown",
      "source": [
        "Bảng Competitor: Không có giá trị khuyết"
      ],
      "metadata": {
        "id": "8GtiyMJY4G6l"
      }
    },
    {
      "cell_type": "markdown",
      "source": [
        "Bảng Dayofweek: Thuộc tính \"Dayofweek\" có 86 giá trị khuyết, Thuộc tính \"Visit#Dayofweek\" có 54 giá trị khuyết, thuộc tính \"Weekday#end\" có 86 giá trị khuyết  \n",
        "Chúng ta sẽ điền giá trị \"Dayofweek\", sau đó suy ra được \"Weekday\"  \n",
        "Dayofweek sử dụng mô hình hồi quy   \n",
        "Visit#Dayofweek sử dụng mô hình hồi quy"
      ],
      "metadata": {
        "id": "Q8Se9m4f4MbU"
      }
    },
    {
      "cell_type": "code",
      "source": [
        "import pandas as pd\n",
        "import numpy as np\n",
        "from sklearn.model_selection import train_test_split\n",
        "from sklearn.linear_model import LogisticRegression, LinearRegression\n",
        "from sklearn.pipeline import Pipeline\n",
        "from sklearn.compose import ColumnTransformer\n",
        "from sklearn.preprocessing import OneHotEncoder\n",
        "\n",
        "# Giả sử bạn đã có DataFrame df\n",
        "df = pd.read_csv('/content/Dayofweek.csv', sep=';')\n",
        "\n",
        "# -------------------------------\n",
        "# BƯỚC 1: Điền khuyết Dayofweek và Weekday#end nếu chỉ thiếu 1 trong 2\n",
        "# -------------------------------\n",
        "\n",
        "weekday_days = ['Monday', 'Tuesday', 'Wednesday', 'Thursday', 'Friday']\n",
        "weekend_days = ['Saturday', 'Sunday']\n",
        "\n",
        "# Map Weekday#end từ Dayofweek\n",
        "weekday_map = {\n",
        "    'Monday': 'Weekday',\n",
        "    'Tuesday': 'Weekday',\n",
        "    'Wednesday': 'Weekday',\n",
        "    'Thursday': 'Weekday',\n",
        "    'Friday': 'Weekday',\n",
        "    'Saturday': 'Weekend',\n",
        "    'Sunday': 'Weekend'\n",
        "}\n",
        "\n",
        "# a. Nếu Weekday#end bị thiếu, dùng Dayofweek để điền\n",
        "mask_weekend_missing = df['Weekday#end'].isna() & df['Dayofweek'].notna()\n",
        "df.loc[mask_weekend_missing, 'Weekday#end'] = df.loc[mask_weekend_missing, 'Dayofweek'].map(weekday_map)\n",
        "\n",
        "# b. Nếu Dayofweek bị thiếu, dùng Weekday#end để điền\n",
        "mask_day_missing = df['Dayofweek'].isna() & df['Weekday#end'].notna()\n",
        "df.loc[mask_day_missing, 'Dayofweek'] = df.loc[mask_day_missing, 'Weekday#end'].apply(\n",
        "    lambda x: np.random.choice(weekday_days) if x == 'Weekday' else np.random.choice(weekend_days)\n",
        ")\n",
        "\n",
        "# -------------------------------\n",
        "# BƯỚC 2: Dự đoán khi cả 2 cột bị thiếu (mô hình logic)\n",
        "# -------------------------------\n",
        "\n",
        "# Chọn tập train: không bị thiếu\n",
        "train_df = df[df['Weekday#end'].notna() & df['Visit#Dayofweek'].notna()]\n",
        "\n",
        "X_train = train_df[['City', 'Visit#Dayofweek', 'Year']]\n",
        "y_train = train_df['Weekday#end']\n",
        "\n",
        "cat_cols = ['City']\n",
        "num_cols = ['Visit#Dayofweek', 'Year']\n",
        "\n",
        "preprocessor = ColumnTransformer(\n",
        "    transformers=[\n",
        "        ('cat', OneHotEncoder(handle_unknown='ignore'), cat_cols),\n",
        "        ('num', 'passthrough', num_cols)\n",
        "    ]\n",
        ")\n",
        "\n",
        "clf_weekend = Pipeline(steps=[\n",
        "    ('preprocessor', preprocessor),\n",
        "    ('classifier', LogisticRegression(max_iter=1000))\n",
        "])\n",
        "\n",
        "clf_weekend.fit(X_train, y_train)\n",
        "\n",
        "# Dự đoán các dòng thiếu cả 2 cột\n",
        "missing_both = df[df['Weekday#end'].isna() & df['Dayofweek'].isna()]\n",
        "X_missing = missing_both[['City', 'Visit#Dayofweek', 'Year']]\n",
        "X_missing_valid = X_missing.dropna()\n",
        "valid_idx = X_missing_valid.index\n",
        "\n",
        "predicted_weekend = clf_weekend.predict(X_missing_valid)\n",
        "df.loc[valid_idx, 'Weekday#end'] = predicted_weekend\n",
        "df.loc[valid_idx, 'Dayofweek'] = df.loc[valid_idx, 'Weekday#end'].apply(\n",
        "    lambda x: np.random.choice(weekday_days) if x == 'Weekday' else np.random.choice(weekend_days)\n",
        ")\n",
        "\n",
        "# -------------------------------\n",
        "# BƯỚC 3: Điền khuyết cột Visit#Dayofweek bằng mô hình hồi quy\n",
        "# -------------------------------\n",
        "\n",
        "# Huấn luyện model hồi quy\n",
        "train_reg = df[df['Visit#Dayofweek'].notna() & df['Dayofweek'].notna() & df['Weekday#end'].notna()]\n",
        "X_reg = train_reg[['City', 'Year', 'Dayofweek', 'Weekday#end']]\n",
        "y_reg = train_reg['Visit#Dayofweek']\n",
        "\n",
        "cat_cols_reg = ['City', 'Dayofweek', 'Weekday#end']\n",
        "num_cols_reg = ['Year']\n",
        "\n",
        "preprocessor_reg = ColumnTransformer(\n",
        "    transformers=[\n",
        "        ('cat', OneHotEncoder(handle_unknown='ignore'), cat_cols_reg),\n",
        "        ('num', 'passthrough', num_cols_reg)\n",
        "    ]\n",
        ")\n",
        "\n",
        "reg_model = Pipeline(steps=[\n",
        "    ('preprocessor', preprocessor_reg),\n",
        "    ('regressor', LinearRegression())\n",
        "])\n",
        "\n",
        "reg_model.fit(X_reg, y_reg)\n",
        "\n",
        "# Dự đoán các dòng thiếu Visit#Dayofweek\n",
        "missing_visit = df[df['Visit#Dayofweek'].isna() & df['City'].notna() & df['Dayofweek'].notna() & df['Weekday#end'].notna()]\n",
        "X_missing_reg = missing_visit[['City', 'Year', 'Dayofweek', 'Weekday#end']]\n",
        "predicted_visits = reg_model.predict(X_missing_reg)\n",
        "\n",
        "# Gán giá trị dự đoán và làm tròn về số nguyên >= 0\n",
        "df.loc[X_missing_reg.index, 'Visit#Dayofweek'] = np.maximum(0, np.round(predicted_visits))\n",
        "\n",
        "# -------------------------------\n",
        "# BƯỚC 4: Kết quả cuối cùng\n",
        "# -------------------------------\n",
        "print(\"Số giá trị thiếu còn lại sau khi xử lý:\")\n",
        "print(df[['Dayofweek', 'Weekday#end', 'Visit#Dayofweek']].isna().sum())"
      ],
      "metadata": {
        "id": "n6FZf0i3GXgd",
        "colab": {
          "base_uri": "https://localhost:8080/"
        },
        "outputId": "7d620d10-8554-4980-b468-2512bc55b6bc"
      },
      "execution_count": null,
      "outputs": [
        {
          "output_type": "stream",
          "name": "stdout",
          "text": [
            "Số giá trị thiếu còn lại sau khi xử lý:\n",
            "Dayofweek          0\n",
            "Weekday#end        0\n",
            "Visit#Dayofweek    0\n",
            "dtype: int64\n"
          ]
        }
      ]
    },
    {
      "cell_type": "code",
      "source": [
        "df.to_csv('Dayofweek_clean.csv', index=False)"
      ],
      "metadata": {
        "id": "nVhIaAwA01Hu"
      },
      "execution_count": null,
      "outputs": []
    },
    {
      "cell_type": "code",
      "source": [
        "for index, row in df.iterrows():\n",
        "    if row['Dayofweek'] in ['Saturday', 'Sunday'] and row['Weekday#end'] == 'Weekdays':\n",
        "        df.at[index, 'Weekday#end'] = 'Weekends'"
      ],
      "metadata": {
        "id": "DrALhoWqGYc_"
      },
      "execution_count": null,
      "outputs": []
    },
    {
      "cell_type": "code",
      "source": [
        "print(df['Dayofweek'].value_counts())\n",
        "df['Weekday#end'].value_counts()"
      ],
      "metadata": {
        "id": "wpSaMyOxGc2V",
        "colab": {
          "base_uri": "https://localhost:8080/",
          "height": 334
        },
        "outputId": "f9fd57c8-e302-4458-da2f-7f441d127430"
      },
      "execution_count": null,
      "outputs": [
        {
          "output_type": "stream",
          "name": "stdout",
          "text": [
            "Dayofweek\n",
            "Sunday       9284\n",
            "Saturday     8678\n",
            "Thursday     4449\n",
            "Friday       4429\n",
            "Wednesday    4240\n",
            "Monday       4075\n",
            "Tuesday      3940\n",
            "Name: count, dtype: int64\n"
          ]
        },
        {
          "output_type": "execute_result",
          "data": {
            "text/plain": [
              "Weekday#end\n",
              "Weekdays    21133\n",
              "Weekends    17962\n",
              "Name: count, dtype: int64"
            ],
            "text/html": [
              "<div>\n",
              "<style scoped>\n",
              "    .dataframe tbody tr th:only-of-type {\n",
              "        vertical-align: middle;\n",
              "    }\n",
              "\n",
              "    .dataframe tbody tr th {\n",
              "        vertical-align: top;\n",
              "    }\n",
              "\n",
              "    .dataframe thead th {\n",
              "        text-align: right;\n",
              "    }\n",
              "</style>\n",
              "<table border=\"1\" class=\"dataframe\">\n",
              "  <thead>\n",
              "    <tr style=\"text-align: right;\">\n",
              "      <th></th>\n",
              "      <th>count</th>\n",
              "    </tr>\n",
              "    <tr>\n",
              "      <th>Weekday#end</th>\n",
              "      <th></th>\n",
              "    </tr>\n",
              "  </thead>\n",
              "  <tbody>\n",
              "    <tr>\n",
              "      <th>Weekdays</th>\n",
              "      <td>21133</td>\n",
              "    </tr>\n",
              "    <tr>\n",
              "      <th>Weekends</th>\n",
              "      <td>17962</td>\n",
              "    </tr>\n",
              "  </tbody>\n",
              "</table>\n",
              "</div><br><label><b>dtype:</b> int64</label>"
            ]
          },
          "metadata": {},
          "execution_count": 28
        }
      ]
    },
    {
      "cell_type": "code",
      "source": [
        "df.to_csv('ten_file2.csv', index=False)"
      ],
      "metadata": {
        "id": "Sjr2F-VtGdgW"
      },
      "execution_count": null,
      "outputs": []
    },
    {
      "cell_type": "markdown",
      "source": [
        "Bảng Daypart: Thuộc tính \"Daypart\" có 13 giá trị null, thuộc tính \"Visit#Daypart\" có 847 giá trị null  \n",
        "Daypart sử dụng pp điển bằng giá trị mode  \n",
        "Visit#Daypart sử dụng pp median vì đây là dữ liệu mang tính chất tần suất"
      ],
      "metadata": {
        "id": "mg4LB6Y75RG8"
      }
    },
    {
      "cell_type": "code",
      "source": [
        "Daypart['Visit#Daypart'].value_counts()"
      ],
      "metadata": {
        "colab": {
          "base_uri": "https://localhost:8080/",
          "height": 1000
        },
        "id": "q--lVqdQATbZ",
        "outputId": "31d92d1a-1eed-4cfe-c3f2-0f95084af59a"
      },
      "execution_count": null,
      "outputs": [
        {
          "output_type": "execute_result",
          "data": {
            "text/plain": [
              "Visit#Daypart\n",
              "2.0     3636\n",
              "4.0     3110\n",
              "3.0     2223\n",
              "1.0     1924\n",
              "5.0     1319\n",
              "10.0     994\n",
              "6.0      826\n",
              "30.0     800\n",
              "8.0      705\n",
              "7.0      409\n",
              "20.0     375\n",
              "15.0     336\n",
              "24.0     323\n",
              "12.0     287\n",
              "25.0     218\n",
              "9.0      133\n",
              "26.0     110\n",
              "16.0      87\n",
              "11.0      75\n",
              "28.0      74\n",
              "14.0      64\n",
              "18.0      61\n",
              "13.0      56\n",
              "22.0      55\n",
              "17.0      34\n",
              "21.0      28\n",
              "19.0      17\n",
              "23.0      16\n",
              "27.0      12\n",
              "40.0      12\n",
              "60.0       8\n",
              "29.0       5\n",
              "35.0       3\n",
              "31.0       2\n",
              "48.0       1\n",
              "34.0       1\n",
              "45.0       1\n",
              "38.0       1\n",
              "43.0       1\n",
              "Name: count, dtype: int64"
            ],
            "text/html": [
              "<div>\n",
              "<style scoped>\n",
              "    .dataframe tbody tr th:only-of-type {\n",
              "        vertical-align: middle;\n",
              "    }\n",
              "\n",
              "    .dataframe tbody tr th {\n",
              "        vertical-align: top;\n",
              "    }\n",
              "\n",
              "    .dataframe thead th {\n",
              "        text-align: right;\n",
              "    }\n",
              "</style>\n",
              "<table border=\"1\" class=\"dataframe\">\n",
              "  <thead>\n",
              "    <tr style=\"text-align: right;\">\n",
              "      <th></th>\n",
              "      <th>count</th>\n",
              "    </tr>\n",
              "    <tr>\n",
              "      <th>Visit#Daypart</th>\n",
              "      <th></th>\n",
              "    </tr>\n",
              "  </thead>\n",
              "  <tbody>\n",
              "    <tr>\n",
              "      <th>2.0</th>\n",
              "      <td>3636</td>\n",
              "    </tr>\n",
              "    <tr>\n",
              "      <th>4.0</th>\n",
              "      <td>3110</td>\n",
              "    </tr>\n",
              "    <tr>\n",
              "      <th>3.0</th>\n",
              "      <td>2223</td>\n",
              "    </tr>\n",
              "    <tr>\n",
              "      <th>1.0</th>\n",
              "      <td>1924</td>\n",
              "    </tr>\n",
              "    <tr>\n",
              "      <th>5.0</th>\n",
              "      <td>1319</td>\n",
              "    </tr>\n",
              "    <tr>\n",
              "      <th>10.0</th>\n",
              "      <td>994</td>\n",
              "    </tr>\n",
              "    <tr>\n",
              "      <th>6.0</th>\n",
              "      <td>826</td>\n",
              "    </tr>\n",
              "    <tr>\n",
              "      <th>30.0</th>\n",
              "      <td>800</td>\n",
              "    </tr>\n",
              "    <tr>\n",
              "      <th>8.0</th>\n",
              "      <td>705</td>\n",
              "    </tr>\n",
              "    <tr>\n",
              "      <th>7.0</th>\n",
              "      <td>409</td>\n",
              "    </tr>\n",
              "    <tr>\n",
              "      <th>20.0</th>\n",
              "      <td>375</td>\n",
              "    </tr>\n",
              "    <tr>\n",
              "      <th>15.0</th>\n",
              "      <td>336</td>\n",
              "    </tr>\n",
              "    <tr>\n",
              "      <th>24.0</th>\n",
              "      <td>323</td>\n",
              "    </tr>\n",
              "    <tr>\n",
              "      <th>12.0</th>\n",
              "      <td>287</td>\n",
              "    </tr>\n",
              "    <tr>\n",
              "      <th>25.0</th>\n",
              "      <td>218</td>\n",
              "    </tr>\n",
              "    <tr>\n",
              "      <th>9.0</th>\n",
              "      <td>133</td>\n",
              "    </tr>\n",
              "    <tr>\n",
              "      <th>26.0</th>\n",
              "      <td>110</td>\n",
              "    </tr>\n",
              "    <tr>\n",
              "      <th>16.0</th>\n",
              "      <td>87</td>\n",
              "    </tr>\n",
              "    <tr>\n",
              "      <th>11.0</th>\n",
              "      <td>75</td>\n",
              "    </tr>\n",
              "    <tr>\n",
              "      <th>28.0</th>\n",
              "      <td>74</td>\n",
              "    </tr>\n",
              "    <tr>\n",
              "      <th>14.0</th>\n",
              "      <td>64</td>\n",
              "    </tr>\n",
              "    <tr>\n",
              "      <th>18.0</th>\n",
              "      <td>61</td>\n",
              "    </tr>\n",
              "    <tr>\n",
              "      <th>13.0</th>\n",
              "      <td>56</td>\n",
              "    </tr>\n",
              "    <tr>\n",
              "      <th>22.0</th>\n",
              "      <td>55</td>\n",
              "    </tr>\n",
              "    <tr>\n",
              "      <th>17.0</th>\n",
              "      <td>34</td>\n",
              "    </tr>\n",
              "    <tr>\n",
              "      <th>21.0</th>\n",
              "      <td>28</td>\n",
              "    </tr>\n",
              "    <tr>\n",
              "      <th>19.0</th>\n",
              "      <td>17</td>\n",
              "    </tr>\n",
              "    <tr>\n",
              "      <th>23.0</th>\n",
              "      <td>16</td>\n",
              "    </tr>\n",
              "    <tr>\n",
              "      <th>27.0</th>\n",
              "      <td>12</td>\n",
              "    </tr>\n",
              "    <tr>\n",
              "      <th>40.0</th>\n",
              "      <td>12</td>\n",
              "    </tr>\n",
              "    <tr>\n",
              "      <th>60.0</th>\n",
              "      <td>8</td>\n",
              "    </tr>\n",
              "    <tr>\n",
              "      <th>29.0</th>\n",
              "      <td>5</td>\n",
              "    </tr>\n",
              "    <tr>\n",
              "      <th>35.0</th>\n",
              "      <td>3</td>\n",
              "    </tr>\n",
              "    <tr>\n",
              "      <th>31.0</th>\n",
              "      <td>2</td>\n",
              "    </tr>\n",
              "    <tr>\n",
              "      <th>48.0</th>\n",
              "      <td>1</td>\n",
              "    </tr>\n",
              "    <tr>\n",
              "      <th>34.0</th>\n",
              "      <td>1</td>\n",
              "    </tr>\n",
              "    <tr>\n",
              "      <th>45.0</th>\n",
              "      <td>1</td>\n",
              "    </tr>\n",
              "    <tr>\n",
              "      <th>38.0</th>\n",
              "      <td>1</td>\n",
              "    </tr>\n",
              "    <tr>\n",
              "      <th>43.0</th>\n",
              "      <td>1</td>\n",
              "    </tr>\n",
              "  </tbody>\n",
              "</table>\n",
              "</div><br><label><b>dtype:</b> int64</label>"
            ]
          },
          "metadata": {},
          "execution_count": 38
        }
      ]
    },
    {
      "cell_type": "code",
      "source": [
        "DPmedian = Daypart['Visit#Daypart'].median()\n",
        "Daypart['Visit#Daypart'].fillna(DPmedian, inplace = True)"
      ],
      "metadata": {
        "colab": {
          "base_uri": "https://localhost:8080/"
        },
        "id": "WgmnFpmrAgHh",
        "outputId": "6e8ffc78-445c-49d0-cfb5-f76391b715af"
      },
      "execution_count": null,
      "outputs": [
        {
          "output_type": "stream",
          "name": "stderr",
          "text": [
            "/tmp/ipython-input-39-1419924755.py:2: FutureWarning: A value is trying to be set on a copy of a DataFrame or Series through chained assignment using an inplace method.\n",
            "The behavior will change in pandas 3.0. This inplace method will never work because the intermediate object on which we are setting values always behaves as a copy.\n",
            "\n",
            "For example, when doing 'df[col].method(value, inplace=True)', try using 'df.method({col: value}, inplace=True)' or df[col] = df[col].method(value) instead, to perform the operation inplace on the original object.\n",
            "\n",
            "\n",
            "  Daypart['Visit#Daypart'].fillna(DPmedian, inplace = True)\n"
          ]
        }
      ]
    },
    {
      "cell_type": "code",
      "source": [
        "Daypart.isnull().sum()"
      ],
      "metadata": {
        "colab": {
          "base_uri": "https://localhost:8080/",
          "height": 241
        },
        "id": "RxLJVV0lCPMu",
        "outputId": "7a7abcda-0511-4b2d-b570-dde811f21ac3"
      },
      "execution_count": null,
      "outputs": [
        {
          "output_type": "execute_result",
          "data": {
            "text/plain": [
              "ID               0\n",
              "City             0\n",
              "Daypart          0\n",
              "Visit#Daypart    0\n",
              "Year             0\n",
              "dtype: int64"
            ],
            "text/html": [
              "<div>\n",
              "<style scoped>\n",
              "    .dataframe tbody tr th:only-of-type {\n",
              "        vertical-align: middle;\n",
              "    }\n",
              "\n",
              "    .dataframe tbody tr th {\n",
              "        vertical-align: top;\n",
              "    }\n",
              "\n",
              "    .dataframe thead th {\n",
              "        text-align: right;\n",
              "    }\n",
              "</style>\n",
              "<table border=\"1\" class=\"dataframe\">\n",
              "  <thead>\n",
              "    <tr style=\"text-align: right;\">\n",
              "      <th></th>\n",
              "      <th>0</th>\n",
              "    </tr>\n",
              "  </thead>\n",
              "  <tbody>\n",
              "    <tr>\n",
              "      <th>ID</th>\n",
              "      <td>0</td>\n",
              "    </tr>\n",
              "    <tr>\n",
              "      <th>City</th>\n",
              "      <td>0</td>\n",
              "    </tr>\n",
              "    <tr>\n",
              "      <th>Daypart</th>\n",
              "      <td>0</td>\n",
              "    </tr>\n",
              "    <tr>\n",
              "      <th>Visit#Daypart</th>\n",
              "      <td>0</td>\n",
              "    </tr>\n",
              "    <tr>\n",
              "      <th>Year</th>\n",
              "      <td>0</td>\n",
              "    </tr>\n",
              "  </tbody>\n",
              "</table>\n",
              "</div><br><label><b>dtype:</b> int64</label>"
            ]
          },
          "metadata": {},
          "execution_count": 43
        }
      ]
    },
    {
      "cell_type": "code",
      "source": [
        "Daypart['Daypart'].fillna('5 PM - before 9 PM', inplace = True)"
      ],
      "metadata": {
        "colab": {
          "base_uri": "https://localhost:8080/"
        },
        "id": "kq5kFoWCJ5Kj",
        "outputId": "e5741642-296b-452d-cfdd-a52b47a8d237"
      },
      "execution_count": null,
      "outputs": [
        {
          "output_type": "stream",
          "name": "stderr",
          "text": [
            "/tmp/ipython-input-41-4284341440.py:1: FutureWarning: A value is trying to be set on a copy of a DataFrame or Series through chained assignment using an inplace method.\n",
            "The behavior will change in pandas 3.0. This inplace method will never work because the intermediate object on which we are setting values always behaves as a copy.\n",
            "\n",
            "For example, when doing 'df[col].method(value, inplace=True)', try using 'df.method({col: value}, inplace=True)' or df[col] = df[col].method(value) instead, to perform the operation inplace on the original object.\n",
            "\n",
            "\n",
            "  Daypart['Daypart'].fillna('5 PM - before 9 PM', inplace = True)\n"
          ]
        }
      ]
    },
    {
      "cell_type": "code",
      "source": [
        "Daypart['Daypart'].value_counts()"
      ],
      "metadata": {
        "colab": {
          "base_uri": "https://localhost:8080/",
          "height": 304
        },
        "id": "jOxh05vxDkce",
        "outputId": "d495cb97-442f-410a-a246-d45dcf28dc1f"
      },
      "execution_count": null,
      "outputs": [
        {
          "output_type": "execute_result",
          "data": {
            "text/plain": [
              "Daypart\n",
              "5 PM - before 9 PM     6604\n",
              "Before 9 AM            5698\n",
              "9 AM - before 11 AM    2370\n",
              "2 PM - before 5 PM     2042\n",
              "11 AM - before 2 PM    1644\n",
              "9 PM or later           831\n",
              "Name: count, dtype: int64"
            ],
            "text/html": [
              "<div>\n",
              "<style scoped>\n",
              "    .dataframe tbody tr th:only-of-type {\n",
              "        vertical-align: middle;\n",
              "    }\n",
              "\n",
              "    .dataframe tbody tr th {\n",
              "        vertical-align: top;\n",
              "    }\n",
              "\n",
              "    .dataframe thead th {\n",
              "        text-align: right;\n",
              "    }\n",
              "</style>\n",
              "<table border=\"1\" class=\"dataframe\">\n",
              "  <thead>\n",
              "    <tr style=\"text-align: right;\">\n",
              "      <th></th>\n",
              "      <th>count</th>\n",
              "    </tr>\n",
              "    <tr>\n",
              "      <th>Daypart</th>\n",
              "      <th></th>\n",
              "    </tr>\n",
              "  </thead>\n",
              "  <tbody>\n",
              "    <tr>\n",
              "      <th>5 PM - before 9 PM</th>\n",
              "      <td>6604</td>\n",
              "    </tr>\n",
              "    <tr>\n",
              "      <th>Before 9 AM</th>\n",
              "      <td>5698</td>\n",
              "    </tr>\n",
              "    <tr>\n",
              "      <th>9 AM - before 11 AM</th>\n",
              "      <td>2370</td>\n",
              "    </tr>\n",
              "    <tr>\n",
              "      <th>2 PM - before 5 PM</th>\n",
              "      <td>2042</td>\n",
              "    </tr>\n",
              "    <tr>\n",
              "      <th>11 AM - before 2 PM</th>\n",
              "      <td>1644</td>\n",
              "    </tr>\n",
              "    <tr>\n",
              "      <th>9 PM or later</th>\n",
              "      <td>831</td>\n",
              "    </tr>\n",
              "  </tbody>\n",
              "</table>\n",
              "</div><br><label><b>dtype:</b> int64</label>"
            ]
          },
          "metadata": {},
          "execution_count": 42
        }
      ]
    },
    {
      "cell_type": "code",
      "source": [
        "Daypart.to_csv('Daypart_clean.csv', index=False)"
      ],
      "metadata": {
        "id": "XZJFf_sh3Pc0"
      },
      "execution_count": null,
      "outputs": []
    },
    {
      "cell_type": "markdown",
      "source": [
        "Bảng NeedstateDayDaypart: Không có giá trị khuyết\n"
      ],
      "metadata": {
        "id": "7lcw2rcD5xLr"
      }
    },
    {
      "cell_type": "markdown",
      "source": [
        "Bảng SA: nhiều quá chưa xử lý 😅😅"
      ],
      "metadata": {
        "id": "6zF6w_mV6DGD"
      }
    }
  ]
}