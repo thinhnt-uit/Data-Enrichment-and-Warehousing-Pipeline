{
  "cells": [
    {
      "cell_type": "markdown",
      "metadata": {
        "id": "n-JKultppkyW"
      },
      "source": [
        "##Xử lý từ đầu tới cột daily"
      ]
    },
    {
      "cell_type": "markdown",
      "metadata": {
        "id": "yR6h3zgVp0gE"
      },
      "source": [
        "#Import thư viện và dữ liệu"
      ]
    },
    {
      "cell_type": "code",
      "execution_count": null,
      "metadata": {
        "id": "BxzfMqmFpRAn"
      },
      "outputs": [],
      "source": [
        "import pandas as pd\n",
        "import numpy as np\n",
        "from sklearn.experimental import enable_iterative_imputer\n",
        "from sklearn.impute import IterativeImputer\n",
        "from sklearn.ensemble import RandomForestRegressor, RandomForestClassifier\n",
        "import matplotlib.pyplot as plt\n",
        "import seaborn as sns"
      ]
    },
    {
      "cell_type": "code",
      "execution_count": null,
      "metadata": {
        "colab": {
          "base_uri": "https://localhost:8080/"
        },
        "id": "uyagpYRGp7pE",
        "outputId": "92a48016-785d-42bf-860c-5d2f598e1d30"
      },
      "outputs": [
        {
          "output_type": "stream",
          "name": "stderr",
          "text": [
            "/tmp/ipython-input-2-2207477923.py:1: DtypeWarning: Columns (4,7,8,10,11,12,16,18) have mixed types. Specify dtype option on import or set low_memory=False.\n",
            "  Brandhealth = pd.read_csv('/content/Brandhealth.csv',sep=\",\" )\n"
          ]
        }
      ],
      "source": [
        "Brandhealth = pd.read_csv('/content/Brandhealth.csv',sep=\",\" )"
      ]
    },
    {
      "cell_type": "code",
      "execution_count": null,
      "metadata": {
        "colab": {
          "base_uri": "https://localhost:8080/"
        },
        "id": "caPov6JwxxAf",
        "outputId": "3d9d3911-8cdc-4b3d-9d6f-7b73f2ae9d6e"
      },
      "outputs": [
        {
          "output_type": "stream",
          "name": "stdout",
          "text": [
            "<class 'pandas.core.frame.DataFrame'>\n",
            "RangeIndex: 74419 entries, 0 to 74418\n",
            "Data columns (total 20 columns):\n",
            " #   Column            Non-Null Count  Dtype  \n",
            "---  ------            --------------  -----  \n",
            " 0   ID                74419 non-null  int64  \n",
            " 1   Year              74419 non-null  int64  \n",
            " 2   City              74419 non-null  object \n",
            " 3   Brand             74419 non-null  object \n",
            " 4   Spontaneous       30993 non-null  object \n",
            " 5   Awareness         74305 non-null  object \n",
            " 6   Trial             47330 non-null  object \n",
            " 7   P3M               28849 non-null  object \n",
            " 8   P1M               19399 non-null  object \n",
            " 9   Comprehension     74419 non-null  int64  \n",
            " 10  Brand_Likability  10331 non-null  object \n",
            " 11  Weekly            13382 non-null  object \n",
            " 12  Daily             7621 non-null   object \n",
            " 13  Fre#visit         19332 non-null  float64\n",
            " 14  PPA               14073 non-null  float64\n",
            " 15  Spending          14073 non-null  float64\n",
            " 16  Segmentation      14073 non-null  object \n",
            " 17  NPS#P3M           21605 non-null  float64\n",
            " 18  NPS#P3M#Group     21605 non-null  object \n",
            " 19  Spending_use      14073 non-null  float64\n",
            "dtypes: float64(5), int64(3), object(12)\n",
            "memory usage: 11.4+ MB\n"
          ]
        }
      ],
      "source": [
        "Brandhealth.info()"
      ]
    },
    {
      "cell_type": "markdown",
      "metadata": {
        "id": "lExjXrd1rjqr"
      },
      "source": [
        "#Xoá các cột từ Fre đi"
      ]
    },
    {
      "cell_type": "code",
      "execution_count": null,
      "metadata": {
        "id": "yv3sW2IZrjOT"
      },
      "outputs": [],
      "source": [
        "cols_to_drop = ['ID', 'Fre#visit', 'PPA', 'Spending', 'Segmentation', 'NPS#P3M', 'NPS#P3M#Group', 'Spending_use']\n",
        "Brandhealth.drop(columns=cols_to_drop, inplace=True)"
      ]
    },
    {
      "cell_type": "code",
      "execution_count": null,
      "metadata": {
        "colab": {
          "base_uri": "https://localhost:8080/"
        },
        "id": "idvrTokCqSp9",
        "outputId": "d53fd796-1f5a-4f40-e3d7-ff9de171668f"
      },
      "outputs": [
        {
          "output_type": "stream",
          "name": "stdout",
          "text": [
            "<class 'pandas.core.frame.DataFrame'>\n",
            "RangeIndex: 74419 entries, 0 to 74418\n",
            "Data columns (total 20 columns):\n",
            " #   Column            Non-Null Count  Dtype  \n",
            "---  ------            --------------  -----  \n",
            " 0   ID                74419 non-null  int64  \n",
            " 1   Year              74419 non-null  int64  \n",
            " 2   City              74419 non-null  object \n",
            " 3   Brand             74419 non-null  object \n",
            " 4   Spontaneous       30993 non-null  object \n",
            " 5   Awareness         74305 non-null  object \n",
            " 6   Trial             47330 non-null  object \n",
            " 7   P3M               28849 non-null  object \n",
            " 8   P1M               19399 non-null  object \n",
            " 9   Comprehension     74419 non-null  int64  \n",
            " 10  Brand_Likability  10331 non-null  object \n",
            " 11  Weekly            13382 non-null  object \n",
            " 12  Daily             7621 non-null   object \n",
            " 13  Fre#visit         19332 non-null  float64\n",
            " 14  PPA               14073 non-null  float64\n",
            " 15  Spending          14073 non-null  float64\n",
            " 16  Segmentation      14073 non-null  object \n",
            " 17  NPS#P3M           21605 non-null  float64\n",
            " 18  NPS#P3M#Group     21605 non-null  object \n",
            " 19  Spending_use      14073 non-null  float64\n",
            "dtypes: float64(5), int64(3), object(12)\n",
            "memory usage: 11.4+ MB\n"
          ]
        }
      ],
      "source": [
        "Brandhealth.info()"
      ]
    },
    {
      "cell_type": "markdown",
      "metadata": {
        "id": "dFB811VltQzp"
      },
      "source": [
        "#Tiền xử lý dữ liệu như trong sheet"
      ]
    },
    {
      "cell_type": "markdown",
      "metadata": {
        "id": "YDZCPS9rtfWp"
      },
      "source": [
        "Thay những thằng other1 2 3 ,... thành Other"
      ]
    },
    {
      "cell_type": "code",
      "execution_count": null,
      "metadata": {
        "id": "mX6b716gtQd6"
      },
      "outputs": [],
      "source": [
        "Brandhealth['Brand'] = Brandhealth['Brand'].replace(to_replace=r'^Other.*', value='Other', regex=True)\n",
        "Brandhealth['Spontaneous'] = Brandhealth['Spontaneous'].replace(to_replace=r'^Other.*', value='Other', regex=True)\n",
        "Brandhealth['Awareness'] = Brandhealth['Awareness'].replace(to_replace=r'^Other.*', value='Other', regex=True)\n",
        "Brandhealth['Trial'] = Brandhealth['Trial'].replace(to_replace=r'^Other.*', value='Other', regex=True)\n",
        "Brandhealth['P3M'] = Brandhealth['P3M'].replace(to_replace=r'^Other.*', value='Other', regex=True)\n",
        "Brandhealth['P1M'] = Brandhealth['P1M'].replace(to_replace=r'^Other.*', value='Other', regex=True)\n",
        "Brandhealth['Brand_Likability'] = Brandhealth['Brand_Likability'].replace(to_replace=r'^Other.*', value='Other', regex=True)\n",
        "Brandhealth['Weekly'] = Brandhealth['Weekly'].replace(to_replace=r'^Other.*', value='Other', regex=True)\n",
        "Brandhealth['Daily'] = Brandhealth['Daily'].replace(to_replace=r'^Other.*', value='Other', regex=True)\n",
        "\n"
      ]
    },
    {
      "cell_type": "code",
      "execution_count": null,
      "metadata": {
        "colab": {
          "base_uri": "https://localhost:8080/",
          "height": 1000
        },
        "collapsed": true,
        "id": "qevU7a0SBf96",
        "outputId": "ac760234-1df5-4f2e-de52-e2f2369bf90e"
      },
      "outputs": [
        {
          "output_type": "execute_result",
          "data": {
            "text/plain": [
              "Brand\n",
              "Trung Nguyên                                     9954\n",
              "Other                                            9733\n",
              "Highlands Coffee                                 8520\n",
              "Street / Half street coffee (including carts)    7391\n",
              "Milano                                           4699\n",
              "Cộng Cà Phê                                      3929\n",
              "The Coffee House                                 3830\n",
              "Starbucks                                        3350\n",
              "Street                                           3278\n",
              "Phúc Long                                        2786\n",
              "Indepedent Cafe                                  2717\n",
              "Aha Cafe                                         1852\n",
              "Urban Station                                    1667\n",
              "Passio                                           1627\n",
              "Thức Coffee                                      1061\n",
              "Viva Star                                        1029\n",
              "Mê Trang                                          836\n",
              "Coffee Bean & Tea Leaf                            824\n",
              "Long Cafe                                         710\n",
              "Gong Cha                                          594\n",
              "Mộc Miên                                          585\n",
              "Đen Đá                                            520\n",
              "Effoc                                             473\n",
              "Maxx Coffee                                       397\n",
              "Saigon Café                                       363\n",
              "BonPas                                            316\n",
              "Runam cafe                                        316\n",
              "Nia cafe                                          263\n",
              "The Coffee Factory                                256\n",
              "KOI cafe                                          237\n",
              "The Cups Coffee                                   133\n",
              "Cheese Coffee                                     123\n",
              "Laha Coffee                                        50\n",
              "Name: count, dtype: int64"
            ],
            "text/html": [
              "<div>\n",
              "<style scoped>\n",
              "    .dataframe tbody tr th:only-of-type {\n",
              "        vertical-align: middle;\n",
              "    }\n",
              "\n",
              "    .dataframe tbody tr th {\n",
              "        vertical-align: top;\n",
              "    }\n",
              "\n",
              "    .dataframe thead th {\n",
              "        text-align: right;\n",
              "    }\n",
              "</style>\n",
              "<table border=\"1\" class=\"dataframe\">\n",
              "  <thead>\n",
              "    <tr style=\"text-align: right;\">\n",
              "      <th></th>\n",
              "      <th>count</th>\n",
              "    </tr>\n",
              "    <tr>\n",
              "      <th>Brand</th>\n",
              "      <th></th>\n",
              "    </tr>\n",
              "  </thead>\n",
              "  <tbody>\n",
              "    <tr>\n",
              "      <th>Trung Nguyên</th>\n",
              "      <td>9954</td>\n",
              "    </tr>\n",
              "    <tr>\n",
              "      <th>Other</th>\n",
              "      <td>9733</td>\n",
              "    </tr>\n",
              "    <tr>\n",
              "      <th>Highlands Coffee</th>\n",
              "      <td>8520</td>\n",
              "    </tr>\n",
              "    <tr>\n",
              "      <th>Street / Half street coffee (including carts)</th>\n",
              "      <td>7391</td>\n",
              "    </tr>\n",
              "    <tr>\n",
              "      <th>Milano</th>\n",
              "      <td>4699</td>\n",
              "    </tr>\n",
              "    <tr>\n",
              "      <th>Cộng Cà Phê</th>\n",
              "      <td>3929</td>\n",
              "    </tr>\n",
              "    <tr>\n",
              "      <th>The Coffee House</th>\n",
              "      <td>3830</td>\n",
              "    </tr>\n",
              "    <tr>\n",
              "      <th>Starbucks</th>\n",
              "      <td>3350</td>\n",
              "    </tr>\n",
              "    <tr>\n",
              "      <th>Street</th>\n",
              "      <td>3278</td>\n",
              "    </tr>\n",
              "    <tr>\n",
              "      <th>Phúc Long</th>\n",
              "      <td>2786</td>\n",
              "    </tr>\n",
              "    <tr>\n",
              "      <th>Indepedent Cafe</th>\n",
              "      <td>2717</td>\n",
              "    </tr>\n",
              "    <tr>\n",
              "      <th>Aha Cafe</th>\n",
              "      <td>1852</td>\n",
              "    </tr>\n",
              "    <tr>\n",
              "      <th>Urban Station</th>\n",
              "      <td>1667</td>\n",
              "    </tr>\n",
              "    <tr>\n",
              "      <th>Passio</th>\n",
              "      <td>1627</td>\n",
              "    </tr>\n",
              "    <tr>\n",
              "      <th>Thức Coffee</th>\n",
              "      <td>1061</td>\n",
              "    </tr>\n",
              "    <tr>\n",
              "      <th>Viva Star</th>\n",
              "      <td>1029</td>\n",
              "    </tr>\n",
              "    <tr>\n",
              "      <th>Mê Trang</th>\n",
              "      <td>836</td>\n",
              "    </tr>\n",
              "    <tr>\n",
              "      <th>Coffee Bean &amp; Tea Leaf</th>\n",
              "      <td>824</td>\n",
              "    </tr>\n",
              "    <tr>\n",
              "      <th>Long Cafe</th>\n",
              "      <td>710</td>\n",
              "    </tr>\n",
              "    <tr>\n",
              "      <th>Gong Cha</th>\n",
              "      <td>594</td>\n",
              "    </tr>\n",
              "    <tr>\n",
              "      <th>Mộc Miên</th>\n",
              "      <td>585</td>\n",
              "    </tr>\n",
              "    <tr>\n",
              "      <th>Đen Đá</th>\n",
              "      <td>520</td>\n",
              "    </tr>\n",
              "    <tr>\n",
              "      <th>Effoc</th>\n",
              "      <td>473</td>\n",
              "    </tr>\n",
              "    <tr>\n",
              "      <th>Maxx Coffee</th>\n",
              "      <td>397</td>\n",
              "    </tr>\n",
              "    <tr>\n",
              "      <th>Saigon Café</th>\n",
              "      <td>363</td>\n",
              "    </tr>\n",
              "    <tr>\n",
              "      <th>BonPas</th>\n",
              "      <td>316</td>\n",
              "    </tr>\n",
              "    <tr>\n",
              "      <th>Runam cafe</th>\n",
              "      <td>316</td>\n",
              "    </tr>\n",
              "    <tr>\n",
              "      <th>Nia cafe</th>\n",
              "      <td>263</td>\n",
              "    </tr>\n",
              "    <tr>\n",
              "      <th>The Coffee Factory</th>\n",
              "      <td>256</td>\n",
              "    </tr>\n",
              "    <tr>\n",
              "      <th>KOI cafe</th>\n",
              "      <td>237</td>\n",
              "    </tr>\n",
              "    <tr>\n",
              "      <th>The Cups Coffee</th>\n",
              "      <td>133</td>\n",
              "    </tr>\n",
              "    <tr>\n",
              "      <th>Cheese Coffee</th>\n",
              "      <td>123</td>\n",
              "    </tr>\n",
              "    <tr>\n",
              "      <th>Laha Coffee</th>\n",
              "      <td>50</td>\n",
              "    </tr>\n",
              "  </tbody>\n",
              "</table>\n",
              "</div><br><label><b>dtype:</b> int64</label>"
            ]
          },
          "metadata": {},
          "execution_count": 7
        }
      ],
      "source": [
        "Brandhealth['Brand'].value_counts()"
      ]
    },
    {
      "cell_type": "code",
      "execution_count": null,
      "metadata": {
        "id": "x9-chhXyCNTh"
      },
      "outputs": [],
      "source": [
        "#cols_to_encode = ['Brand', 'Spontaneous','Awareness', 'Trial', 'P3M', 'P1M', 'Brand_Likability', 'Weekly', 'Daily' ]  # danh sách các cột muốn mã hóa\n"
      ]
    },
    {
      "cell_type": "code",
      "execution_count": null,
      "metadata": {
        "colab": {
          "base_uri": "https://localhost:8080/"
        },
        "id": "22DoVRfN_WGF",
        "outputId": "7a238dd4-1aea-4204-9ee0-c8986a713382"
      },
      "outputs": [
        {
          "output_type": "stream",
          "name": "stdout",
          "text": [
            "{'Phúc Long': 1, 'Milano': 2, 'Trung Nguyên': 3, 'Starbucks': 4, 'Highlands Coffee': 5, 'Thức Coffee': 6, 'The Coffee House': 7, 'Passio': 8, 'Viva Star': 9, 'Cộng Cà Phê': 10, 'Đen Đá': 11, 'Coffee Bean & Tea Leaf': 12, 'Urban Station': 13, 'Effoc': 14, 'The Coffee Factory': 15, 'Runam cafe': 16, 'Mộc Miên': 17, 'Nia cafe': 18, 'Aha Cafe': 19, 'Street / Half street coffee (including carts)': 20, 'Other': 21, 'Long Cafe': 22, 'BonPas': 23, 'Maxx Coffee': 24, 'Indepedent Cafe': 25, 'KOI cafe': 26, 'Saigon Café': 27, 'Gong Cha': 28, 'Street': 29, 'The Cups Coffee': 30, 'Laha Coffee': 31, 'Mê Trang': 32, 'Cheese Coffee': 33, 'Not Applicable': 0}\n"
          ]
        }
      ],
      "source": [
        "\n",
        "# Giả sử bạn đã có DataFrame df và cột tên là 'my_column'\n",
        "unique_values = Brandhealth['Brand'].unique()\n",
        "\n",
        "# Tạo dict ánh xạ giá trị thành số (bắt đầu từ 1)\n",
        "value_to_number = {value: idx + 1 for idx, value in enumerate(unique_values)}\n",
        "value_to_number[\"Not Applicable\"] = 0\n",
        "print(value_to_number)\n"
      ]
    },
    {
      "cell_type": "code",
      "execution_count": null,
      "metadata": {
        "colab": {
          "base_uri": "https://localhost:8080/"
        },
        "id": "aaK4t0Oi7_Ma",
        "outputId": "e42447f5-cd50-40b5-e232-add9c0cf577c"
      },
      "outputs": [
        {
          "output_type": "stream",
          "name": "stderr",
          "text": [
            "/tmp/ipython-input-9-3634541325.py:1: FutureWarning: Downcasting behavior in `replace` is deprecated and will be removed in a future version. To retain the old behavior, explicitly call `result.infer_objects(copy=False)`. To opt-in to the future behavior, set `pd.set_option('future.no_silent_downcasting', True)`\n",
            "  Brandhealth['Brand'] = Brandhealth['Brand'].replace(value_to_number)\n",
            "/tmp/ipython-input-9-3634541325.py:2: FutureWarning: Downcasting behavior in `replace` is deprecated and will be removed in a future version. To retain the old behavior, explicitly call `result.infer_objects(copy=False)`. To opt-in to the future behavior, set `pd.set_option('future.no_silent_downcasting', True)`\n",
            "  Brandhealth['Spontaneous'] = Brandhealth['Spontaneous'].replace(value_to_number)\n",
            "/tmp/ipython-input-9-3634541325.py:3: FutureWarning: Downcasting behavior in `replace` is deprecated and will be removed in a future version. To retain the old behavior, explicitly call `result.infer_objects(copy=False)`. To opt-in to the future behavior, set `pd.set_option('future.no_silent_downcasting', True)`\n",
            "  Brandhealth['Awareness'] = Brandhealth['Awareness'].replace(value_to_number)\n",
            "/tmp/ipython-input-9-3634541325.py:4: FutureWarning: Downcasting behavior in `replace` is deprecated and will be removed in a future version. To retain the old behavior, explicitly call `result.infer_objects(copy=False)`. To opt-in to the future behavior, set `pd.set_option('future.no_silent_downcasting', True)`\n",
            "  Brandhealth['Trial'] = Brandhealth['Trial'].replace(value_to_number)\n",
            "/tmp/ipython-input-9-3634541325.py:5: FutureWarning: Downcasting behavior in `replace` is deprecated and will be removed in a future version. To retain the old behavior, explicitly call `result.infer_objects(copy=False)`. To opt-in to the future behavior, set `pd.set_option('future.no_silent_downcasting', True)`\n",
            "  Brandhealth['P3M'] = Brandhealth['P3M'].replace(value_to_number)\n",
            "/tmp/ipython-input-9-3634541325.py:6: FutureWarning: Downcasting behavior in `replace` is deprecated and will be removed in a future version. To retain the old behavior, explicitly call `result.infer_objects(copy=False)`. To opt-in to the future behavior, set `pd.set_option('future.no_silent_downcasting', True)`\n",
            "  Brandhealth['P1M'] = Brandhealth['P1M'].replace(value_to_number)\n",
            "/tmp/ipython-input-9-3634541325.py:7: FutureWarning: Downcasting behavior in `replace` is deprecated and will be removed in a future version. To retain the old behavior, explicitly call `result.infer_objects(copy=False)`. To opt-in to the future behavior, set `pd.set_option('future.no_silent_downcasting', True)`\n",
            "  Brandhealth['Brand_Likability'] = Brandhealth['Brand_Likability'].replace(value_to_number)\n",
            "/tmp/ipython-input-9-3634541325.py:8: FutureWarning: Downcasting behavior in `replace` is deprecated and will be removed in a future version. To retain the old behavior, explicitly call `result.infer_objects(copy=False)`. To opt-in to the future behavior, set `pd.set_option('future.no_silent_downcasting', True)`\n",
            "  Brandhealth['Weekly'] = Brandhealth['Weekly'].replace(value_to_number)\n",
            "/tmp/ipython-input-9-3634541325.py:9: FutureWarning: Downcasting behavior in `replace` is deprecated and will be removed in a future version. To retain the old behavior, explicitly call `result.infer_objects(copy=False)`. To opt-in to the future behavior, set `pd.set_option('future.no_silent_downcasting', True)`\n",
            "  Brandhealth['Daily'] = Brandhealth['Daily'].replace(value_to_number)\n"
          ]
        }
      ],
      "source": [
        "Brandhealth['Brand'] = Brandhealth['Brand'].replace(value_to_number)\n",
        "Brandhealth['Spontaneous'] = Brandhealth['Spontaneous'].replace(value_to_number)\n",
        "Brandhealth['Awareness'] = Brandhealth['Awareness'].replace(value_to_number)\n",
        "Brandhealth['Trial'] = Brandhealth['Trial'].replace(value_to_number)\n",
        "Brandhealth['P3M'] = Brandhealth['P3M'].replace(value_to_number)\n",
        "Brandhealth['P1M'] = Brandhealth['P1M'].replace(value_to_number)\n",
        "Brandhealth['Brand_Likability'] = Brandhealth['Brand_Likability'].replace(value_to_number)\n",
        "Brandhealth['Weekly'] = Brandhealth['Weekly'].replace(value_to_number)\n",
        "Brandhealth['Daily'] = Brandhealth['Daily'].replace(value_to_number)"
      ]
    },
    {
      "cell_type": "code",
      "execution_count": null,
      "metadata": {
        "id": "m4shHSD6FY1d"
      },
      "outputs": [],
      "source": [
        "Brandhealth['Brand'] = Brandhealth['Brand'].fillna(0)\n",
        "Brandhealth['Spontaneous'] = Brandhealth['Spontaneous'].fillna(0)\n",
        "Brandhealth['Awareness'] = Brandhealth['Awareness'].fillna(0)\n",
        "Brandhealth['Trial'] = Brandhealth['Trial'].fillna(0)\n",
        "Brandhealth['P3M'] = Brandhealth['P3M'].fillna(0)\n",
        "Brandhealth['P1M'] = Brandhealth['P1M'].fillna(0)\n",
        "Brandhealth['Brand_Likability'] = Brandhealth['Brand_Likability'].fillna(0)\n",
        "Brandhealth['Weekly'] = Brandhealth['Weekly'].fillna(0)\n",
        "Brandhealth['Daily'] = Brandhealth['Daily'].fillna(0)"
      ]
    },
    {
      "cell_type": "markdown",
      "metadata": {
        "id": "0L8nvy_fuhOi"
      },
      "source": [
        "CHuyển có chữ thành 1, không chữ thành 0 (Giữ nguyên Brand, Comprehension)"
      ]
    },
    {
      "cell_type": "code",
      "execution_count": null,
      "metadata": {
        "id": "_nlq7-BKujQC"
      },
      "outputs": [],
      "source": [
        "Brandhealth['Spontaneous'] = Brandhealth['Spontaneous'].notna().astype(int)\n",
        "Brandhealth['Awareness'] = Brandhealth['Awareness'].notna().astype(int)\n",
        "Brandhealth['Trial'] = Brandhealth['Trial'].notna().astype(int)\n",
        "Brandhealth['P3M'] = Brandhealth['P3M'].notna().astype(int)\n",
        "Brandhealth['P1M'] = Brandhealth['P1M'].notna().astype(int)\n",
        "Brandhealth['Brand_Likability'] = Brandhealth['Brand_Likability'].notna().astype(int)\n",
        "Brandhealth['Weekly'] = Brandhealth['Weekly'].notna().astype(int)\n",
        "Brandhealth['Daily'] = Brandhealth['Daily'].notna().astype(int)"
      ]
    },
    {
      "cell_type": "markdown",
      "metadata": {
        "id": "t-ZXeD3PwB5o"
      },
      "source": [
        "Chuyển kiểu dữ liệu của cột Comprehension sang số"
      ]
    },
    {
      "cell_type": "code",
      "execution_count": null,
      "metadata": {
        "id": "ldtKoZS2wv1H"
      },
      "outputs": [],
      "source": [
        "mapping = {\n",
        "    'Do not know it at all': 1,\n",
        "    'Maybe do not know it': 2,\n",
        "    'Know a little': 3,\n",
        "    'Know it well': 4,\n",
        "    'Know it very well': 5\n",
        "}\n",
        "\n",
        "Brandhealth['Comprehension'] = Brandhealth['Comprehension'].map(mapping)\n"
      ]
    },
    {
      "cell_type": "code",
      "execution_count": null,
      "metadata": {
        "colab": {
          "base_uri": "https://localhost:8080/"
        },
        "id": "azeIbBLRwdBK",
        "outputId": "e79db333-02c5-400a-94d9-9e6c41f59da9"
      },
      "outputs": [
        {
          "output_type": "execute_result",
          "data": {
            "text/plain": [
              "array([nan,  3.,  2.,  4.,  1.,  5.])"
            ]
          },
          "metadata": {},
          "execution_count": 12
        }
      ],
      "source": [
        "Brandhealth['Comprehension'].unique()"
      ]
    },
    {
      "cell_type": "code",
      "execution_count": null,
      "metadata": {
        "colab": {
          "base_uri": "https://localhost:8080/"
        },
        "id": "OjOYS9EBxb84",
        "outputId": "3d0e3f67-257a-4cd8-ad98-2876cb40e65a"
      },
      "outputs": [
        {
          "output_type": "stream",
          "name": "stdout",
          "text": [
            "<class 'pandas.core.frame.DataFrame'>\n",
            "RangeIndex: 74419 entries, 0 to 74418\n",
            "Data columns (total 12 columns):\n",
            " #   Column            Non-Null Count  Dtype  \n",
            "---  ------            --------------  -----  \n",
            " 0   Year              74419 non-null  int64  \n",
            " 1   City              74419 non-null  object \n",
            " 2   Brand             74419 non-null  int64  \n",
            " 3   Spontaneous       74419 non-null  float64\n",
            " 4   Awareness         74419 non-null  float64\n",
            " 5   Trial             74419 non-null  float64\n",
            " 6   P3M               74419 non-null  float64\n",
            " 7   P1M               74419 non-null  float64\n",
            " 8   Comprehension     26346 non-null  float64\n",
            " 9   Brand_Likability  74419 non-null  float64\n",
            " 10  Weekly            74419 non-null  float64\n",
            " 11  Daily             74419 non-null  float64\n",
            "dtypes: float64(9), int64(2), object(1)\n",
            "memory usage: 6.8+ MB\n"
          ]
        }
      ],
      "source": [
        "Brandhealth.info()"
      ]
    },
    {
      "cell_type": "code",
      "execution_count": null,
      "metadata": {
        "id": "SsF204OOvIzR"
      },
      "outputs": [],
      "source": [
        "Brandhealth.to_csv('Brandhealth_processed.csv', index=False)\n",
        "##Checkpoint"
      ]
    },
    {
      "cell_type": "code",
      "execution_count": null,
      "metadata": {
        "id": "McNwH0Jr49xy"
      },
      "outputs": [],
      "source": [
        "import pandas as pd\n",
        "import numpy as np\n",
        "from sklearn.impute import KNNImputer\n",
        "from sklearn.preprocessing import StandardScaler, LabelEncoder\n",
        "import matplotlib.pyplot as plt\n",
        "import seaborn as sns"
      ]
    },
    {
      "cell_type": "code",
      "source": [
        "import pandas as pd\n",
        "import numpy as np\n",
        "from sklearn.impute import KNNImputer\n",
        "from sklearn.preprocessing import StandardScaler, LabelEncoder\n",
        "import matplotlib.pyplot as plt\n",
        "import seaborn as sns\n",
        "\n",
        "# ĐỌC DỮ LIỆU THỰC\n",
        "print(\"=== ĐANG TẢI DỮ LIỆU ===\")\n",
        "df = pd.read_csv('/content/Brandhealth_processed.csv', sep=\",\")\n",
        "\n",
        "print(f\"Dữ liệu đã tải thành công!\")\n",
        "print(f\"Shape: {df.shape}\")\n",
        "print(f\"Các cột: {list(df.columns)}\")\n",
        "\n",
        "# KIỂM TRA DỮ LIỆU BAN ĐẦU\n",
        "print(f\"\\n=== THÔNG TIN DỮ LIỆU ===\")\n",
        "print(f\"Số lượng NaN trong Comprehension: {df['Comprehension'].isna().sum()}\")\n",
        "print(f\"Tỷ lệ NaN: {df['Comprehension'].isna().sum() / len(df) * 100:.2f}%\")\n",
        "\n",
        "print(f\"\\nPhân phối Comprehension (trước khi điền khuyết):\")\n",
        "comprehension_counts = df['Comprehension'].value_counts().sort_index()\n",
        "print(comprehension_counts)\n",
        "\n",
        "print(f\"\\nKiểu dữ liệu các cột:\")\n",
        "print(df.dtypes)\n",
        "\n",
        "print(f\"\\nMẫu dữ liệu đầu tiên:\")\n",
        "print(df.head())\n",
        "\n",
        "# HÀMM CHÍNH ĐỂ ÁP DỤNG KNN IMPUTATION\n",
        "def apply_knn_imputation_to_real_data(df, target_column='Comprehension', k=5):\n",
        "    \"\"\"\n",
        "    Hàm để áp dụng KNN imputation cho dữ liệu thực sử dụng TẤT CẢ features\n",
        "\n",
        "    Parameters:\n",
        "    - df: DataFrame chứa dữ liệu\n",
        "    - target_column: tên cột cần điền khuyết\n",
        "    - k: số neighbors trong KNN\n",
        "\n",
        "    Returns:\n",
        "    - DataFrame đã được điền khuyết\n",
        "    - Dictionary chứa label encoders (để decode nếu cần)\n",
        "    \"\"\"\n",
        "\n",
        "    print(f\"\\n=== BẮT ĐẦU KNN IMPUTATION ===\")\n",
        "\n",
        "    # Tạo bản sao\n",
        "    df_work = df.copy()\n",
        "\n",
        "    # Định nghĩa tất cả features (loại bỏ target column)\n",
        "    all_columns = df_work.columns.tolist()\n",
        "    available_features = [col for col in all_columns if col != target_column]\n",
        "\n",
        "    print(f\"Sử dụng {len(available_features)} features: {available_features}\")\n",
        "\n",
        "    # Tạo dataframe làm việc\n",
        "    df_for_knn = df_work[available_features + [target_column]].copy()\n",
        "\n",
        "    # Mã hóa các biến categorical\n",
        "    label_encoders = {}\n",
        "    categorical_features = []\n",
        "\n",
        "    # Xác định các biến categorical\n",
        "    for feature in available_features:\n",
        "        if df_for_knn[feature].dtype == 'object':\n",
        "            categorical_features.append(feature)\n",
        "\n",
        "    print(f\"Phát hiện {len(categorical_features)} biến categorical: {categorical_features}\")\n",
        "\n",
        "    # Áp dụng label encoding\n",
        "    for feature in categorical_features:\n",
        "        print(f\"Đang mã hóa {feature}...\")\n",
        "        le = LabelEncoder()\n",
        "\n",
        "        # Xử lý các giá trị NaN trước khi encode\n",
        "        non_null_mask = df_for_knn[feature].notna()\n",
        "        if non_null_mask.sum() > 0:  # Nếu có ít nhất 1 giá trị không null\n",
        "            # Chuyển về string và encode\n",
        "            unique_values = df_for_knn.loc[non_null_mask, feature].astype(str).unique()\n",
        "            print(f\"  - {feature} có {len(unique_values)} giá trị unique: {unique_values[:5]}...\")\n",
        "\n",
        "            df_for_knn.loc[non_null_mask, feature] = le.fit_transform(\n",
        "                df_for_knn.loc[non_null_mask, feature].astype(str)\n",
        "            )\n",
        "            label_encoders[feature] = le\n",
        "        else:\n",
        "            # Nếu toàn bộ cột là NaN, đặt về 0\n",
        "            df_for_knn[feature] = 0\n",
        "            print(f\"  - {feature} toàn bộ là NaN, đặt về 0\")\n",
        "\n",
        "    # Kiểm tra dữ liệu sau khi mã hóa\n",
        "    print(f\"\\nKiểu dữ liệu sau khi mã hóa:\")\n",
        "    print(df_for_knn.dtypes)\n",
        "\n",
        "    # Kiểm tra có NaN nào trong features không\n",
        "    nan_counts = df_for_knn[available_features].isna().sum()\n",
        "    features_with_nan = nan_counts[nan_counts > 0]\n",
        "    if len(features_with_nan) > 0:\n",
        "        print(f\"\\nCảnh báo: Các features có NaN: {features_with_nan.to_dict()}\")\n",
        "        # Điền NaN trong features bằng giá trị trung bình/mode\n",
        "        for feature in features_with_nan.index:\n",
        "            if df_for_knn[feature].dtype in ['int64', 'float64']:\n",
        "                df_for_knn[feature].fillna(df_for_knn[feature].mean(), inplace=True)\n",
        "            else:\n",
        "                df_for_knn[feature].fillna(df_for_knn[feature].mode()[0], inplace=True)\n",
        "        print(\"Đã điền NaN trong features bằng mean/mode\")\n",
        "\n",
        "    # Chuẩn hóa dữ liệu\n",
        "    print(f\"\\nĐang chuẩn hóa dữ liệu...\")\n",
        "    scaler = StandardScaler()\n",
        "    df_scaled = df_for_knn.copy()\n",
        "    df_scaled[available_features] = scaler.fit_transform(df_for_knn[available_features])\n",
        "\n",
        "    # Áp dụng KNN Imputation\n",
        "    print(f\"Áp dụng KNN với k={k} neighbors...\")\n",
        "    knn_imputer = KNNImputer(n_neighbors=k, weights='uniform')\n",
        "\n",
        "    try:\n",
        "        df_imputed_values = knn_imputer.fit_transform(df_scaled)\n",
        "\n",
        "        # Lấy cột target đã được điền khuyết\n",
        "        target_col_index = df_scaled.columns.get_loc(target_column)\n",
        "        target_imputed = df_imputed_values[:, target_col_index]\n",
        "\n",
        "        # Làm tròn và clip về khoảng 1-5\n",
        "        target_imputed = np.round(target_imputed)\n",
        "        target_imputed = np.clip(target_imputed, 1, 5)\n",
        "\n",
        "        # Cập nhật dataframe gốc\n",
        "        df_work[target_column] = target_imputed\n",
        "\n",
        "        print(f\"KNN Imputation hoàn thành thành công!\")\n",
        "\n",
        "    except Exception as e:\n",
        "        print(f\"Lỗi trong quá trình KNN: {e}\")\n",
        "        return None, None\n",
        "\n",
        "    return df_work, label_encoders\n",
        "\n",
        "# Kiểm tra chất lượng của việc điền khuyết\n",
        "def evaluate_imputation_quality(original, imputed, features):\n",
        "    \"\"\"\n",
        "    Đánh giá chất lượng việc điền khuyết\n",
        "    \"\"\"\n",
        "    print(\"\\n=== ĐÁNH GIÁ CHẤT LƯỢNG ĐIỀN KHUYẾT ===\")\n",
        "\n",
        "    try:\n",
        "        # Chỉ sử dụng các features số để tính correlation\n",
        "        numeric_features = []\n",
        "        for feature in features:\n",
        "            if feature in original.columns and feature in imputed.columns:\n",
        "                # Kiểm tra xem cột có phải là số không\n",
        "                if pd.api.types.is_numeric_dtype(original[feature]) and pd.api.types.is_numeric_dtype(imputed[feature]):\n",
        "                    numeric_features.append(feature)\n",
        "\n",
        "        if not numeric_features:\n",
        "            print(\"Không có features số để tính correlation.\")\n",
        "            return\n",
        "\n",
        "        print(f\"Sử dụng {len(numeric_features)} features số để tính correlation\")\n",
        "\n",
        "        # Tính correlation matrix trước và sau khi điền khuyết (chỉ với features số)\n",
        "        if len(numeric_features) > 0:\n",
        "            corr_before = original[numeric_features + ['Comprehension']].corr()['Comprehension'].drop('Comprehension')\n",
        "            corr_after = imputed[numeric_features + ['Comprehension']].corr()['Comprehension'].drop('Comprehension')\n",
        "\n",
        "            print(\"\\nTương quan giữa Comprehension và các biến số:\")\n",
        "            print(\"Biến\\t\\tTrước\\t\\tSau\\t\\tChênh lệch\")\n",
        "            print(\"-\" * 60)\n",
        "            for feature in numeric_features:\n",
        "                before = corr_before[feature] if not pd.isna(corr_before[feature]) else 0\n",
        "                after = corr_after[feature] if not pd.isna(corr_after[feature]) else 0\n",
        "                diff = abs(after - before)\n",
        "                print(f\"{feature:<15}\\t{before:.4f}\\t\\t{after:.4f}\\t\\t{diff:.4f}\")\n",
        "\n",
        "    except Exception as e:\n",
        "        print(f\"Lỗi khi tính correlation: {e}\")\n",
        "        print(\"Bỏ qua đánh giá correlation.\")\n",
        "\n",
        "# ÁP DỤNG KNN IMPUTATION\n",
        "print(f\"\\n\" + \"=\"*60)\n",
        "print(\"BẮT ĐẦU QUÁ TRÌNH ĐIỀN KHUYẾT\")\n",
        "print(\"=\"*60)\n",
        "\n",
        "# Áp dụng KNN với k=5\n",
        "df_imputed, label_encoders_used = apply_knn_imputation_to_real_data(df, k=5)\n",
        "\n",
        "if df_imputed is not None:\n",
        "    # HIỂN THỊ KẾT QUẢ\n",
        "    print(f\"\\n=== KẾT QUẢ CUỐI CÙNG ===\")\n",
        "    print(f\"Số lượng NaN trong Comprehension sau khi điền khuyết: {df_imputed['Comprehension'].isna().sum()}\")\n",
        "\n",
        "    print(f\"\\nPhân phối Comprehension sau khi điền khuyết:\")\n",
        "    final_counts = df_imputed['Comprehension'].value_counts().sort_index()\n",
        "    print(final_counts)\n",
        "\n",
        "    # So sánh trước và sau\n",
        "    print(f\"\\n=== SO SÁNH TRƯỚC VÀ SAU ===\")\n",
        "    comparison_df = pd.DataFrame({\n",
        "        'Trước': comprehension_counts,\n",
        "        'Sau': final_counts\n",
        "    }).fillna(0)\n",
        "    comparison_df['Chênh lệch'] = comparison_df['Sau'] - comparison_df['Trước']\n",
        "    print(comparison_df)\n",
        "\n",
        "    # Tạo biểu đồ so sánh\n",
        "    fig, (ax1, ax2) = plt.subplots(1, 2, figsize=(15, 6))\n",
        "\n",
        "    # Biểu đồ trước khi điền khuyết\n",
        "    comprehension_counts.plot(kind='bar', ax=ax1, color='skyblue', alpha=0.7)\n",
        "    ax1.set_title('Phân phối Comprehension - Trước khi điền khuyết')\n",
        "    ax1.set_xlabel('Giá trị Comprehension')\n",
        "    ax1.set_ylabel('Số lượng')\n",
        "    ax1.tick_params(axis='x', rotation=0)\n",
        "\n",
        "    # Biểu đồ sau khi điền khuyết\n",
        "    final_counts.plot(kind='bar', ax=ax2, color='lightgreen', alpha=0.7)\n",
        "    ax2.set_title('Phân phối Comprehension - Sau khi điền khuyết')\n",
        "    ax2.set_xlabel('Giá trị Comprehension')\n",
        "    ax2.set_ylabel('Số lượng')\n",
        "    ax2.tick_params(axis='x', rotation=0)\n",
        "\n",
        "    plt.tight_layout()\n",
        "    plt.show()\n",
        "\n",
        "    # Đánh giá chất lượng\n",
        "    all_features = [col for col in df.columns if col != 'Comprehension']\n",
        "    evaluate_imputation_quality(df, df_imputed, all_features)\n",
        "\n",
        "    # Thông tin về label encoders\n",
        "    print(f\"\\n=== THÔNG TIN MÃ HÓA ===\")\n",
        "    if label_encoders_used:\n",
        "        for feature, encoder in label_encoders_used.items():\n",
        "            classes = encoder.classes_\n",
        "            print(f\"{feature}: {len(classes)} categories\")\n",
        "            if len(classes) <= 10:\n",
        "                print(f\"  Categories: {list(classes)}\")\n",
        "            else:\n",
        "                print(f\"  Sample categories: {list(classes[:5])}... (và {len(classes)-5} categories khác)\")\n",
        "    else:\n",
        "        print(\"Không có biến nào cần mã hóa\")\n",
        "\n",
        "    # Lưu kết quả\n",
        "    print(f\"\\n=== LƯU KẾT QUẢ ===\")\n",
        "    output_file = '/content/Brandhealth_imputed.csv'\n",
        "    df_imputed.to_csv(output_file, sep=';', index=False)\n",
        "    print(f\"Đã lưu kết quả vào: {output_file}\")\n",
        "\n",
        "    # Hiển thị mẫu dữ liệu cuối\n",
        "    print(f\"\\nMẫu dữ liệu sau khi xử lý:\")\n",
        "    print(df_imputed[['Comprehension']].head(10))\n",
        "\n",
        "else:\n",
        "    print(\"Quá trình KNN Imputation thất bại!\")\n",
        "\n",
        "print(f\"\\n\" + \"=\"*60)\n",
        "print(\"HOÀN THÀNH!\")\n",
        "print(\"=\"*60)"
      ],
      "metadata": {
        "colab": {
          "base_uri": "https://localhost:8080/",
          "height": 1000
        },
        "id": "5MQwwGPzccLo",
        "outputId": "8de8cc09-5af2-406f-9107-383eef85156e"
      },
      "execution_count": null,
      "outputs": [
        {
          "output_type": "stream",
          "name": "stdout",
          "text": [
            "=== ĐANG TẢI DỮ LIỆU ===\n",
            "Dữ liệu đã tải thành công!\n",
            "Shape: (74419, 12)\n",
            "Các cột: ['Year', 'City', 'Brand', 'Spontaneous', 'Awareness', 'Trial', 'P3M', 'P1M', 'Comprehension', 'Brand_Likability', 'Weekly', 'Daily']\n",
            "\n",
            "=== THÔNG TIN DỮ LIỆU ===\n",
            "Số lượng NaN trong Comprehension: 48073\n",
            "Tỷ lệ NaN: 64.60%\n",
            "\n",
            "Phân phối Comprehension (trước khi điền khuyết):\n",
            "Comprehension\n",
            "1.0      127\n",
            "2.0     4698\n",
            "3.0    10517\n",
            "4.0     7096\n",
            "5.0     3908\n",
            "Name: count, dtype: int64\n",
            "\n",
            "Kiểu dữ liệu các cột:\n",
            "Year                  int64\n",
            "City                 object\n",
            "Brand                 int64\n",
            "Spontaneous         float64\n",
            "Awareness           float64\n",
            "Trial               float64\n",
            "P3M                 float64\n",
            "P1M                 float64\n",
            "Comprehension       float64\n",
            "Brand_Likability    float64\n",
            "Weekly              float64\n",
            "Daily               float64\n",
            "dtype: object\n",
            "\n",
            "Mẫu dữ liệu đầu tiên:\n",
            "   Year         City  Brand  Spontaneous  Awareness  Trial  P3M  P1M  \\\n",
            "0  2018  Hồ Chí Minh      1          0.0        1.0    0.0  0.0  0.0   \n",
            "1  2018  Hồ Chí Minh      1          0.0        1.0    0.0  0.0  0.0   \n",
            "2  2018  Hồ Chí Minh      1          0.0        1.0    0.0  0.0  0.0   \n",
            "3  2018  Hồ Chí Minh      1          0.0        1.0    0.0  0.0  0.0   \n",
            "4  2018  Hồ Chí Minh      1          0.0        1.0    0.0  0.0  0.0   \n",
            "\n",
            "   Comprehension  Brand_Likability  Weekly  Daily  \n",
            "0            NaN               0.0     0.0    0.0  \n",
            "1            NaN               0.0     0.0    0.0  \n",
            "2            NaN               0.0     0.0    0.0  \n",
            "3            NaN               0.0     0.0    0.0  \n",
            "4            NaN               0.0     0.0    0.0  \n",
            "\n",
            "============================================================\n",
            "BẮT ĐẦU QUÁ TRÌNH ĐIỀN KHUYẾT\n",
            "============================================================\n",
            "\n",
            "=== BẮT ĐẦU KNN IMPUTATION ===\n",
            "Sử dụng 11 features: ['Year', 'City', 'Brand', 'Spontaneous', 'Awareness', 'Trial', 'P3M', 'P1M', 'Brand_Likability', 'Weekly', 'Daily']\n",
            "Phát hiện 1 biến categorical: ['City']\n",
            "Đang mã hóa City...\n",
            "  - City có 6 giá trị unique: ['Hồ Chí Minh' 'Hà Nội' 'Đà Nẵng' 'Hải Phòng' 'Cần Thơ']...\n",
            "\n",
            "Kiểu dữ liệu sau khi mã hóa:\n",
            "Year                  int64\n",
            "City                 object\n",
            "Brand                 int64\n",
            "Spontaneous         float64\n",
            "Awareness           float64\n",
            "Trial               float64\n",
            "P3M                 float64\n",
            "P1M                 float64\n",
            "Brand_Likability    float64\n",
            "Weekly              float64\n",
            "Daily               float64\n",
            "Comprehension       float64\n",
            "dtype: object\n",
            "\n",
            "Đang chuẩn hóa dữ liệu...\n",
            "Áp dụng KNN với k=5 neighbors...\n",
            "KNN Imputation hoàn thành thành công!\n",
            "\n",
            "=== KẾT QUẢ CUỐI CÙNG ===\n",
            "Số lượng NaN trong Comprehension sau khi điền khuyết: 0\n",
            "\n",
            "Phân phối Comprehension sau khi điền khuyết:\n",
            "Comprehension\n",
            "1.0      131\n",
            "2.0    12509\n",
            "3.0    29718\n",
            "4.0    26995\n",
            "5.0     5066\n",
            "Name: count, dtype: int64\n",
            "\n",
            "=== SO SÁNH TRƯỚC VÀ SAU ===\n",
            "               Trước    Sau  Chênh lệch\n",
            "Comprehension                          \n",
            "1.0              127    131           4\n",
            "2.0             4698  12509        7811\n",
            "3.0            10517  29718       19201\n",
            "4.0             7096  26995       19899\n",
            "5.0             3908   5066        1158\n"
          ]
        },
        {
          "output_type": "display_data",
          "data": {
            "text/plain": [
              "<Figure size 1500x600 with 2 Axes>"
            ],
            "image/png": "[encoded data removed]"
          },
          "metadata": {}
        },
        {
          "output_type": "stream",
          "name": "stdout",
          "text": [
            "\n",
            "=== ĐÁNH GIÁ CHẤT LƯỢNG ĐIỀN KHUYẾT ===\n",
            "Sử dụng 10 features số để tính correlation\n",
            "\n",
            "Tương quan giữa Comprehension và các biến số:\n",
            "Biến\t\tTrước\t\tSau\t\tChênh lệch\n",
            "------------------------------------------------------------\n",
            "Year           \t0.0000\t\t-0.0088\t\t0.0088\n",
            "Brand          \t0.2430\t\t0.3204\t\t0.0773\n",
            "Spontaneous    \t0.4829\t\t0.4958\t\t0.0129\n",
            "Awareness      \t0.2432\t\t0.3213\t\t0.0782\n",
            "Trial          \t0.4508\t\t0.4727\t\t0.0219\n",
            "P3M            \t0.4872\t\t0.4982\t\t0.0110\n",
            "P1M            \t0.4690\t\t0.4487\t\t0.0203\n",
            "Brand_Likability\t0.4987\t\t0.3238\t\t0.1749\n",
            "Weekly         \t0.3827\t\t0.3595\t\t0.0232\n",
            "Daily          \t0.1754\t\t0.1932\t\t0.0178\n",
            "\n",
            "=== THÔNG TIN MÃ HÓA ===\n",
            "City: 6 categories\n",
            "  Categories: ['Cần Thơ', 'Hà Nội', 'Hải Phòng', 'Hồ Chí Minh', 'Nha Trang', 'Đà Nẵng']\n",
            "\n",
            "=== LƯU KẾT QUẢ ===\n",
            "Đã lưu kết quả vào: /content/Brandhealth_imputed.csv\n",
            "\n",
            "Mẫu dữ liệu sau khi xử lý:\n",
            "   Comprehension\n",
            "0            2.0\n",
            "1            2.0\n",
            "2            2.0\n",
            "3            2.0\n",
            "4            2.0\n",
            "5            2.0\n",
            "6            2.0\n",
            "7            2.0\n",
            "8            2.0\n",
            "9            2.0\n",
            "\n",
            "============================================================\n",
            "HOÀN THÀNH!\n",
            "============================================================\n"
          ]
        }
      ]
    },
    {
      "cell_type": "code",
      "source": [
        "df_test = pd.read_csv('/content/Brandhealth_imputed.csv',sep=\";\" )"
      ],
      "metadata": {
        "id": "M97OJlvSmGxb",
        "colab": {
          "base_uri": "https://localhost:8080/",
          "height": 321
        },
        "outputId": "4e5053a6-9abe-4ebc-d6f1-faeb793d3595"
      },
      "execution_count": null,
      "outputs": [
        {
          "output_type": "error",
          "ename": "FileNotFoundError",
          "evalue": "[Errno 2] No such file or directory: '/content/Brandhealth_imputed.csv'",
          "traceback": [
            "\u001b[0;31m---------------------------------------------------------------------------\u001b[0m",
            "\u001b[0;31mFileNotFoundError\u001b[0m                         Traceback (most recent call last)",
            "\u001b[0;32m/tmp/ipython-input-7-1696860528.py\u001b[0m in \u001b[0;36m<cell line: 0>\u001b[0;34m()\u001b[0m\n\u001b[0;32m----> 1\u001b[0;31m \u001b[0mdf_test\u001b[0m \u001b[0;34m=\u001b[0m \u001b[0mpd\u001b[0m\u001b[0;34m.\u001b[0m\u001b[0mread_csv\u001b[0m\u001b[0;34m(\u001b[0m\u001b[0;34m'/content/Brandhealth_imputed.csv'\u001b[0m\u001b[0;34m,\u001b[0m\u001b[0msep\u001b[0m\u001b[0;34m=\u001b[0m\u001b[0;34m\";\"\u001b[0m \u001b[0;34m)\u001b[0m\u001b[0;34m\u001b[0m\u001b[0;34m\u001b[0m\u001b[0m\n\u001b[0m",
            "\u001b[0;32m/usr/local/lib/python3.11/dist-packages/pandas/io/parsers/readers.py\u001b[0m in \u001b[0;36mread_csv\u001b[0;34m(filepath_or_buffer, sep, delimiter, header, names, index_col, usecols, dtype, engine, converters, true_values, false_values, skipinitialspace, skiprows, skipfooter, nrows, na_values, keep_default_na, na_filter, verbose, skip_blank_lines, parse_dates, infer_datetime_format, keep_date_col, date_parser, date_format, dayfirst, cache_dates, iterator, chunksize, compression, thousands, decimal, lineterminator, quotechar, quoting, doublequote, escapechar, comment, encoding, encoding_errors, dialect, on_bad_lines, delim_whitespace, low_memory, memory_map, float_precision, storage_options, dtype_backend)\u001b[0m\n\u001b[1;32m   1024\u001b[0m     \u001b[0mkwds\u001b[0m\u001b[0;34m.\u001b[0m\u001b[0mupdate\u001b[0m\u001b[0;34m(\u001b[0m\u001b[0mkwds_defaults\u001b[0m\u001b[0;34m)\u001b[0m\u001b[0;34m\u001b[0m\u001b[0;34m\u001b[0m\u001b[0m\n\u001b[1;32m   1025\u001b[0m \u001b[0;34m\u001b[0m\u001b[0m\n\u001b[0;32m-> 1026\u001b[0;31m     \u001b[0;32mreturn\u001b[0m \u001b[0m_read\u001b[0m\u001b[0;34m(\u001b[0m\u001b[0mfilepath_or_buffer\u001b[0m\u001b[0;34m,\u001b[0m \u001b[0mkwds\u001b[0m\u001b[0;34m)\u001b[0m\u001b[0;34m\u001b[0m\u001b[0;34m\u001b[0m\u001b[0m\n\u001b[0m\u001b[1;32m   1027\u001b[0m \u001b[0;34m\u001b[0m\u001b[0m\n\u001b[1;32m   1028\u001b[0m \u001b[0;34m\u001b[0m\u001b[0m\n",
            "\u001b[0;32m/usr/local/lib/python3.11/dist-packages/pandas/io/parsers/readers.py\u001b[0m in \u001b[0;36m_read\u001b[0;34m(filepath_or_buffer, kwds)\u001b[0m\n\u001b[1;32m    618\u001b[0m \u001b[0;34m\u001b[0m\u001b[0m\n\u001b[1;32m    619\u001b[0m     \u001b[0;31m# Create the parser.\u001b[0m\u001b[0;34m\u001b[0m\u001b[0;34m\u001b[0m\u001b[0m\n\u001b[0;32m--> 620\u001b[0;31m     \u001b[0mparser\u001b[0m \u001b[0;34m=\u001b[0m \u001b[0mTextFileReader\u001b[0m\u001b[0;34m(\u001b[0m\u001b[0mfilepath_or_buffer\u001b[0m\u001b[0;34m,\u001b[0m \u001b[0;34m**\u001b[0m\u001b[0mkwds\u001b[0m\u001b[0;34m)\u001b[0m\u001b[0;34m\u001b[0m\u001b[0;34m\u001b[0m\u001b[0m\n\u001b[0m\u001b[1;32m    621\u001b[0m \u001b[0;34m\u001b[0m\u001b[0m\n\u001b[1;32m    622\u001b[0m     \u001b[0;32mif\u001b[0m \u001b[0mchunksize\u001b[0m \u001b[0;32mor\u001b[0m \u001b[0miterator\u001b[0m\u001b[0;34m:\u001b[0m\u001b[0;34m\u001b[0m\u001b[0;34m\u001b[0m\u001b[0m\n",
            "\u001b[0;32m/usr/local/lib/python3.11/dist-packages/pandas/io/parsers/readers.py\u001b[0m in \u001b[0;36m__init__\u001b[0;34m(self, f, engine, **kwds)\u001b[0m\n\u001b[1;32m   1618\u001b[0m \u001b[0;34m\u001b[0m\u001b[0m\n\u001b[1;32m   1619\u001b[0m         \u001b[0mself\u001b[0m\u001b[0;34m.\u001b[0m\u001b[0mhandles\u001b[0m\u001b[0;34m:\u001b[0m \u001b[0mIOHandles\u001b[0m \u001b[0;34m|\u001b[0m \u001b[0;32mNone\u001b[0m \u001b[0;34m=\u001b[0m \u001b[0;32mNone\u001b[0m\u001b[0;34m\u001b[0m\u001b[0;34m\u001b[0m\u001b[0m\n\u001b[0;32m-> 1620\u001b[0;31m         \u001b[0mself\u001b[0m\u001b[0;34m.\u001b[0m\u001b[0m_engine\u001b[0m \u001b[0;34m=\u001b[0m \u001b[0mself\u001b[0m\u001b[0;34m.\u001b[0m\u001b[0m_make_engine\u001b[0m\u001b[0;34m(\u001b[0m\u001b[0mf\u001b[0m\u001b[0;34m,\u001b[0m \u001b[0mself\u001b[0m\u001b[0;34m.\u001b[0m\u001b[0mengine\u001b[0m\u001b[0;34m)\u001b[0m\u001b[0;34m\u001b[0m\u001b[0;34m\u001b[0m\u001b[0m\n\u001b[0m\u001b[1;32m   1621\u001b[0m \u001b[0;34m\u001b[0m\u001b[0m\n\u001b[1;32m   1622\u001b[0m     \u001b[0;32mdef\u001b[0m \u001b[0mclose\u001b[0m\u001b[0;34m(\u001b[0m\u001b[0mself\u001b[0m\u001b[0;34m)\u001b[0m \u001b[0;34m->\u001b[0m \u001b[0;32mNone\u001b[0m\u001b[0;34m:\u001b[0m\u001b[0;34m\u001b[0m\u001b[0;34m\u001b[0m\u001b[0m\n",
            "\u001b[0;32m/usr/local/lib/python3.11/dist-packages/pandas/io/parsers/readers.py\u001b[0m in \u001b[0;36m_make_engine\u001b[0;34m(self, f, engine)\u001b[0m\n\u001b[1;32m   1878\u001b[0m                 \u001b[0;32mif\u001b[0m \u001b[0;34m\"b\"\u001b[0m \u001b[0;32mnot\u001b[0m \u001b[0;32min\u001b[0m \u001b[0mmode\u001b[0m\u001b[0;34m:\u001b[0m\u001b[0;34m\u001b[0m\u001b[0;34m\u001b[0m\u001b[0m\n\u001b[1;32m   1879\u001b[0m                     \u001b[0mmode\u001b[0m \u001b[0;34m+=\u001b[0m \u001b[0;34m\"b\"\u001b[0m\u001b[0;34m\u001b[0m\u001b[0;34m\u001b[0m\u001b[0m\n\u001b[0;32m-> 1880\u001b[0;31m             self.handles = get_handle(\n\u001b[0m\u001b[1;32m   1881\u001b[0m                 \u001b[0mf\u001b[0m\u001b[0;34m,\u001b[0m\u001b[0;34m\u001b[0m\u001b[0;34m\u001b[0m\u001b[0m\n\u001b[1;32m   1882\u001b[0m                 \u001b[0mmode\u001b[0m\u001b[0;34m,\u001b[0m\u001b[0;34m\u001b[0m\u001b[0;34m\u001b[0m\u001b[0m\n",
            "\u001b[0;32m/usr/local/lib/python3.11/dist-packages/pandas/io/common.py\u001b[0m in \u001b[0;36mget_handle\u001b[0;34m(path_or_buf, mode, encoding, compression, memory_map, is_text, errors, storage_options)\u001b[0m\n\u001b[1;32m    871\u001b[0m         \u001b[0;32mif\u001b[0m \u001b[0mioargs\u001b[0m\u001b[0;34m.\u001b[0m\u001b[0mencoding\u001b[0m \u001b[0;32mand\u001b[0m \u001b[0;34m\"b\"\u001b[0m \u001b[0;32mnot\u001b[0m \u001b[0;32min\u001b[0m \u001b[0mioargs\u001b[0m\u001b[0;34m.\u001b[0m\u001b[0mmode\u001b[0m\u001b[0;34m:\u001b[0m\u001b[0;34m\u001b[0m\u001b[0;34m\u001b[0m\u001b[0m\n\u001b[1;32m    872\u001b[0m             \u001b[0;31m# Encoding\u001b[0m\u001b[0;34m\u001b[0m\u001b[0;34m\u001b[0m\u001b[0m\n\u001b[0;32m--> 873\u001b[0;31m             handle = open(\n\u001b[0m\u001b[1;32m    874\u001b[0m                 \u001b[0mhandle\u001b[0m\u001b[0;34m,\u001b[0m\u001b[0;34m\u001b[0m\u001b[0;34m\u001b[0m\u001b[0m\n\u001b[1;32m    875\u001b[0m                 \u001b[0mioargs\u001b[0m\u001b[0;34m.\u001b[0m\u001b[0mmode\u001b[0m\u001b[0;34m,\u001b[0m\u001b[0;34m\u001b[0m\u001b[0;34m\u001b[0m\u001b[0m\n",
            "\u001b[0;31mFileNotFoundError\u001b[0m: [Errno 2] No such file or directory: '/content/Brandhealth_imputed.csv'"
          ]
        }
      ]
    },
    {
      "cell_type": "code",
      "source": [
        "df_test['Comprehension'].value_counts()"
      ],
      "metadata": {
        "colab": {
          "base_uri": "https://localhost:8080/",
          "height": 272
        },
        "id": "pjYaeZ3GmK0J",
        "outputId": "97a3fdbe-d790-49a5-c255-4e31cc5da253"
      },
      "execution_count": null,
      "outputs": [
        {
          "output_type": "execute_result",
          "data": {
            "text/plain": [
              "Comprehension\n",
              "3.0    29718\n",
              "4.0    26995\n",
              "2.0    12509\n",
              "5.0     5066\n",
              "1.0      131\n",
              "Name: count, dtype: int64"
            ],
            "text/html": [
              "<div>\n",
              "<style scoped>\n",
              "    .dataframe tbody tr th:only-of-type {\n",
              "        vertical-align: middle;\n",
              "    }\n",
              "\n",
              "    .dataframe tbody tr th {\n",
              "        vertical-align: top;\n",
              "    }\n",
              "\n",
              "    .dataframe thead th {\n",
              "        text-align: right;\n",
              "    }\n",
              "</style>\n",
              "<table border=\"1\" class=\"dataframe\">\n",
              "  <thead>\n",
              "    <tr style=\"text-align: right;\">\n",
              "      <th></th>\n",
              "      <th>count</th>\n",
              "    </tr>\n",
              "    <tr>\n",
              "      <th>Comprehension</th>\n",
              "      <th></th>\n",
              "    </tr>\n",
              "  </thead>\n",
              "  <tbody>\n",
              "    <tr>\n",
              "      <th>3.0</th>\n",
              "      <td>29718</td>\n",
              "    </tr>\n",
              "    <tr>\n",
              "      <th>4.0</th>\n",
              "      <td>26995</td>\n",
              "    </tr>\n",
              "    <tr>\n",
              "      <th>2.0</th>\n",
              "      <td>12509</td>\n",
              "    </tr>\n",
              "    <tr>\n",
              "      <th>5.0</th>\n",
              "      <td>5066</td>\n",
              "    </tr>\n",
              "    <tr>\n",
              "      <th>1.0</th>\n",
              "      <td>131</td>\n",
              "    </tr>\n",
              "  </tbody>\n",
              "</table>\n",
              "</div><br><label><b>dtype:</b> int64</label>"
            ]
          },
          "metadata": {},
          "execution_count": 23
        }
      ]
    },
    {
      "cell_type": "code",
      "source": [
        "Brandhealth"
      ],
      "metadata": {
        "id": "0KrFZxG59RnS"
      },
      "execution_count": null,
      "outputs": []
    }
  ],
  "metadata": {
    "colab": {
      "provenance": []
    },
    "kernelspec": {
      "display_name": "Python 3",
      "name": "python3"
    },
    "language_info": {
      "name": "python"
    }
  },
  "nbformat": 4,
  "nbformat_minor": 0
}